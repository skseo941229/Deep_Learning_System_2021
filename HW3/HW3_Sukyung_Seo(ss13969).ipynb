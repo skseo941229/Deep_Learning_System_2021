{
  "nbformat": 4,
  "nbformat_minor": 0,
  "metadata": {
    "colab": {
      "name": "HW3-Sukyung Seo(ss13969).ipynb",
      "provenance": []
    },
    "kernelspec": {
      "display_name": "Python 3",
      "name": "python3"
    },
    "language_info": {
      "name": "python"
    }
  },
  "cells": [
    {
      "cell_type": "markdown",
      "metadata": {
        "id": "A0AhWALVtgCV"
      },
      "source": [
        "#1\n"
      ]
    },
    {
      "cell_type": "code",
      "metadata": {
        "id": "qSC8DSzRttoZ"
      },
      "source": [
        "import matplotlib.pyplot as plt\n",
        "from keras.layers.normalization import layer_normalization\n",
        "from keras.layers.convolutional import Conv2D\n",
        "from keras.layers.convolutional import AveragePooling2D\n",
        "from keras.layers.convolutional import MaxPooling2D\n",
        "from keras.layers.core import Activation\n",
        "from keras.layers.core import Dropout\n",
        "from keras.layers.core import Dense\n",
        "from keras.layers import Flatten\n",
        "from keras.layers import Input\n",
        "from keras.models import Model\n",
        "from keras.layers import concatenate\n",
        "from keras import backend as K\n",
        "from keras.models import Sequential\n",
        "import tensorflow as tf\n",
        "import keras\n",
        "import time\n"
      ],
      "execution_count": null,
      "outputs": []
    },
    {
      "cell_type": "markdown",
      "metadata": {
        "id": "DKGXWWs1yMus"
      },
      "source": [
        "AdaGrad"
      ]
    },
    {
      "cell_type": "markdown",
      "metadata": {
        "id": "f7bCO4LPn3oh"
      },
      "source": [
        "works on learning rate by the square root of s (cumulative sum of current and past squared gradients).  \n",
        "$\\alpha$ is learning rate  \n",
        "$\\epsilon$ is the fuzz factor (ensure never have to come across divison by zero) "
      ]
    },
    {
      "cell_type": "markdown",
      "metadata": {
        "id": "tYNz4KUS2rQF"
      },
      "source": [
        "$$W_{t+1} = W_{t} - \\dfrac{\\alpha}{\\sqrt{S_{t} + \\epsilon}} \\dfrac{\\partial L}{\\partial W_{t}}$$"
      ]
    },
    {
      "cell_type": "markdown",
      "metadata": {
        "id": "nQ7_ybYt2Rv8"
      },
      "source": [
        "where $S_{t} = S_{t-1} + [\\dfrac{\\partial L}{\\partial W_{t}}]^2 $\n"
      ]
    },
    {
      "cell_type": "markdown",
      "metadata": {
        "id": "tZ7LhjB2nOvG"
      },
      "source": [
        "RMSProp\n",
        "\n"
      ]
    },
    {
      "cell_type": "markdown",
      "metadata": {
        "id": "op9yxNW5ojnP"
      },
      "source": [
        "Instead of taking cumulative sum of squared gradients, use exponential moving average of gradient"
      ]
    },
    {
      "cell_type": "markdown",
      "metadata": {
        "id": "brP-GfDUy6kn"
      },
      "source": [
        "where $S_{t} = \\beta S_{t-1} +(1-\\beta) [\\dfrac{\\partial L}{\\partial W_{t}}]^2 $\n"
      ]
    },
    {
      "cell_type": "markdown",
      "metadata": {
        "id": "YxylnZQ2ornL"
      },
      "source": [
        "RMSProp + Nestrov"
      ]
    },
    {
      "cell_type": "markdown",
      "metadata": {
        "id": "t_QAWlF3rSxQ"
      },
      "source": [
        "Nadam use nesterov to update the gradient one step ahead by replacing previous $\\hat{V_{t}}$  in the below equation to current $\\hat{V_{t}}$"
      ]
    },
    {
      "cell_type": "markdown",
      "metadata": {
        "id": "hNKPUhOJo2qI"
      },
      "source": [
        "$$W_{t+1} = W_{t} - \\dfrac{\\alpha}{\\sqrt{S_{t}} + \\epsilon} (\\beta_{1} \\hat{V_{t-1}}  + \\dfrac{1-\\beta_{1}^{t}}{1-\\beta_{1}} \\dfrac {\\partial L}{\\partial W_{t}})$$"
      ]
    },
    {
      "cell_type": "markdown",
      "metadata": {
        "id": "xu-BpWZ8pu32"
      },
      "source": [
        "$\\hat{V_{t}} =\\dfrac{V_{t}}{1-\\beta_{1}^{t}}  $"
      ]
    },
    {
      "cell_type": "markdown",
      "metadata": {
        "id": "V9w6FGrEqdxz"
      },
      "source": [
        "$\\hat{S_{t}} =\\dfrac{S_{t-1}}{1-\\beta_{2}^{t}}  $"
      ]
    },
    {
      "cell_type": "markdown",
      "metadata": {
        "id": "prC9MO45qzr8"
      },
      "source": [
        "where $V_{t} = \\beta_{1} V_{t-1} +(1-\\beta_{1}) [\\dfrac{\\partial L}{\\partial W_{t}}]^2 $\n"
      ]
    },
    {
      "cell_type": "markdown",
      "metadata": {
        "id": "yUl3QwokqpXM"
      },
      "source": [
        "where $S_{t} = \\beta_{2} S_{t-1} +(1-\\beta_{2}) [\\dfrac{\\partial L}{\\partial W_{t}}]^2 $\n"
      ]
    },
    {
      "cell_type": "markdown",
      "metadata": {
        "id": "tN2r1tAmrI2C"
      },
      "source": [
        "Adadelta"
      ]
    },
    {
      "cell_type": "markdown",
      "metadata": {
        "id": "_J8tKwWVtqoi"
      },
      "source": [
        "removes the use of the learning rate parameter completely by replaceing it to $D_{t}$ the exponential moving average of squared deltas."
      ]
    },
    {
      "cell_type": "markdown",
      "metadata": {
        "id": "Vro0kEbFq5jn"
      },
      "source": [
        "$$W_{t+1} = W_{t} - \\dfrac{\\sqrt{D_{t-1} + \\epsilon}}{\\sqrt{S_{t} + \\epsilon}} \\dfrac{\\partial L}{\\partial W_{t}}$$"
      ]
    },
    {
      "cell_type": "markdown",
      "metadata": {
        "id": "A4QT9a2asEVr"
      },
      "source": [
        "where $D_{t} = \\beta D_{t-1} +(1-\\beta_{2}) [\\Delta W_{t}]^2$"
      ]
    },
    {
      "cell_type": "markdown",
      "metadata": {
        "id": "d-gOiajmtW4h"
      },
      "source": [
        "where $S_{t} = \\beta S_{t-1} +(1-\\beta) [\\dfrac{\\partial L}{\\partial W_{t}}]^2 $"
      ]
    },
    {
      "cell_type": "markdown",
      "metadata": {
        "id": "ngdfCN6et2wl"
      },
      "source": [
        "Adam"
      ]
    },
    {
      "cell_type": "markdown",
      "metadata": {
        "id": "1kiH-ktVt8wK"
      },
      "source": [
        "$$W_{t+1} = W_{t} - \\dfrac{\\alpha}{\\sqrt{S_{t}} + \\epsilon} \\hat{V_{t-1}}  $$"
      ]
    },
    {
      "cell_type": "markdown",
      "metadata": {
        "id": "S8mfHZdGuJs0"
      },
      "source": [
        "1) gradient component by using V, the exponential moving average of gradients \n",
        "2) the learning rate component by diving the learning rate $\\alpha$ by square root of S, the exponential moving average of squared gradients (like RMSprop)"
      ]
    },
    {
      "cell_type": "markdown",
      "metadata": {
        "id": "kBTC4_uV5Tnf"
      },
      "source": [
        "RMSProp is an extension of Adagrad that deals with its gradically diminishing learning rates. It is same to Adadelta except that Adadelta uses the RMS of parameter updates in the numinator update rule. Adam adds bias-correction and momentum to RMSProp. \n",
        "However, bias-correction helps Adam slightly outperform RMSprop towards the end of optimization as gradients becoem sparser. \n",
        "Adam might be the best overall choice. "
      ]
    },
    {
      "cell_type": "code",
      "metadata": {
        "id": "YHxxEuSQu1GV",
        "colab": {
          "base_uri": "https://localhost:8080/"
        },
        "outputId": "7485af38-4920-4477-c506-1f578c4c00f8"
      },
      "source": [
        "from keras.datasets import cifar10\n",
        "from keras.utils import np_utils\n",
        "\n",
        "(x_train, y_train), (x_test, y_test) = cifar10.load_data()\n",
        "\n",
        "x_train_norm = x_train.astype('float32')\n",
        "x_test_norm = x_test.astype('float32')\n",
        "x_train = x_train / 255.0\n",
        "x_test = x_test / 255.0\n",
        "\n",
        "# one hot encode target values\n",
        "y_train = tf.keras.utils.to_categorical(y_train)\n",
        "y_test = tf.keras.utils.to_categorical(y_test)"
      ],
      "execution_count": null,
      "outputs": [
        {
          "output_type": "stream",
          "name": "stdout",
          "text": [
            "Downloading data from https://www.cs.toronto.edu/~kriz/cifar-10-python.tar.gz\n",
            "170500096/170498071 [==============================] - 2s 0us/step\n",
            "170508288/170498071 [==============================] - 2s 0us/step\n"
          ]
        }
      ]
    },
    {
      "cell_type": "code",
      "metadata": {
        "id": "jSOdFy_53quB"
      },
      "source": [
        "model = Sequential()\n",
        "model.add(Flatten())\n",
        "model.add(Dense(1000, activation='relu', kernel_regularizer='l2'))\n",
        "model.add(Dense(1000, activation='relu', kernel_regularizer='l2'))\n",
        "model.add(Dense(10, activation='softmax'))"
      ],
      "execution_count": null,
      "outputs": []
    },
    {
      "cell_type": "code",
      "metadata": {
        "colab": {
          "base_uri": "https://localhost:8080/"
        },
        "id": "sxRRTSmmms8K",
        "outputId": "e290fd8d-5ed4-4197-c15e-e4cb8d863356"
      },
      "source": [
        "\n",
        "#Adagrad\n",
        "tf.keras.optimizers.Adagrad(\n",
        "    learning_rate=0.001, initial_accumulator_value=0.1, epsilon=1e-07,\n",
        "    name='Adagrad'\n",
        ")\n",
        "\n",
        "t0 = time.time()\n",
        "model.compile(optimizer='Adagrad', loss='categorical_crossentropy', metrics=['accuracy'])\n",
        "ada_history = model.fit(x_train, y_train, epochs=200, batch_size=128, validation_data=(x_test, y_test), verbose =0)\n",
        "t1 = time.time()\n",
        "\n",
        "print(t1-t0)"
      ],
      "execution_count": null,
      "outputs": [
        {
          "output_type": "stream",
          "name": "stdout",
          "text": [
            "5836.160767555237\n"
          ]
        }
      ]
    },
    {
      "cell_type": "code",
      "metadata": {
        "colab": {
          "base_uri": "https://localhost:8080/"
        },
        "id": "AroQnDZBy1xE",
        "outputId": "fee8e594-5adc-4146-ec74-f90f8cda7cca"
      },
      "source": [
        "print(model.evaluate(x_train, y_train, batch_size=128, verbose=0))\n",
        "print(model.evaluate(x_test, y_test, batch_size=128, verbose=0))"
      ],
      "execution_count": null,
      "outputs": [
        {
          "output_type": "stream",
          "name": "stdout",
          "text": [
            "[1.5877764225006104, 0.5321999788284302]\n",
            "[1.6388462781906128, 0.5085999965667725]\n"
          ]
        }
      ]
    },
    {
      "cell_type": "code",
      "metadata": {
        "colab": {
          "base_uri": "https://localhost:8080/"
        },
        "id": "gpiJpd6KvnIL",
        "outputId": "1ff39dcf-215b-4389-9f36-62291cf074ce"
      },
      "source": [
        "#RMSprop\n",
        "tf.keras.optimizers.RMSprop(\n",
        "    learning_rate=0.001, rho=0.9, momentum=0.0, epsilon=1e-07, centered=False,\n",
        "    name='RMSprop')\n",
        "\n",
        "t0 = time.time()\n",
        "model.compile(optimizer='RMSprop', loss='categorical_crossentropy', metrics=['accuracy'])\n",
        "rms_history = model.fit(x_train, y_train, epochs=200, batch_size=128, validation_data=(x_test, y_test), verbose =0)\n",
        "t1 = time.time()\n",
        "\n",
        "print(t1-t0)\n",
        "print(model.evaluate(x_train, y_train, batch_size=128, verbose=0))\n",
        "print(model.evaluate(x_test, y_test, batch_size=128, verbose=0))"
      ],
      "execution_count": null,
      "outputs": [
        {
          "output_type": "stream",
          "name": "stdout",
          "text": [
            "7003.161767482758\n",
            "[1.9023202657699585, 0.34404000639915466]\n",
            "[1.9094789028167725, 0.3440999984741211]\n"
          ]
        }
      ]
    },
    {
      "cell_type": "code",
      "metadata": {
        "colab": {
          "base_uri": "https://localhost:8080/"
        },
        "id": "HVxPvZlznlYp",
        "outputId": "e0b38648-5a84-4109-e6f0-b8fd23286b9c"
      },
      "source": [
        "#RMSprop+Nestrov\n",
        "tf.keras.optimizers.Nadam(\n",
        "    learning_rate=0.001, beta_1=0.9, beta_2=0.999, epsilon=1e-07,\n",
        "    name='Nadam'\n",
        ")\n",
        "\n",
        "t0 = time.time()\n",
        "model.compile(optimizer='Nadam', loss='categorical_crossentropy', metrics=['accuracy'])\n",
        "nadam_history = model.fit(x_train, y_train, epochs=200, batch_size=128, validation_data=(x_test, y_test), verbose = 0)\n",
        "t1 = time.time()\n",
        "\n",
        "print(t1-t0)\n",
        "print(model.evaluate(x_train, y_train, batch_size=128, verbose=0))\n",
        "print(model.evaluate(x_test, y_test, batch_size=128, verbose=0))"
      ],
      "execution_count": null,
      "outputs": [
        {
          "output_type": "stream",
          "name": "stdout",
          "text": [
            "8421.295073747635\n",
            "[1.5855237245559692, 0.45726001262664795]\n",
            "[1.6133171319961548, 0.45399999618530273]\n"
          ]
        }
      ]
    },
    {
      "cell_type": "code",
      "metadata": {
        "id": "bUnhDVR3oTsf",
        "colab": {
          "base_uri": "https://localhost:8080/"
        },
        "outputId": "44df864c-47dd-4f4b-98d6-7fba808dbfef"
      },
      "source": [
        "#Adadelta\n",
        "tf.keras.optimizers.Adadelta(\n",
        "    learning_rate=0.001, rho=0.95, epsilon=1e-07, name='Adadelta')\n",
        "\n",
        "t0 = time.time()\n",
        "model.compile(optimizer='Adadelta', loss='categorical_crossentropy', metrics=['accuracy'])\n",
        "delta_history = model.fit(x_train, y_train, epochs=200, batch_size=128, validation_data=(x_test, y_test), verbose = 0)\n",
        "t1 = time.time()\n",
        "\n",
        "print(t1-t0)\n",
        "print(model.evaluate(x_train, y_train, batch_size=128, verbose=0))\n",
        "print(model.evaluate(x_test, y_test, batch_size=128, verbose=0))"
      ],
      "execution_count": null,
      "outputs": [
        {
          "output_type": "stream",
          "name": "stdout",
          "text": [
            "6410.495619773865\n",
            "[1.5114153623580933, 0.48754000663757324]\n",
            "[1.5509651899337769, 0.4758000075817108]\n"
          ]
        }
      ]
    },
    {
      "cell_type": "code",
      "metadata": {
        "id": "hGUhgckNobk3",
        "colab": {
          "base_uri": "https://localhost:8080/"
        },
        "outputId": "6810decf-c0aa-4161-d918-b8d986f44ce4"
      },
      "source": [
        "#Adam\n",
        "tf.keras.optimizers.Adam(\n",
        "    learning_rate=0.001, beta_1=0.9, beta_2=0.999, epsilon=1e-07, amsgrad=False,\n",
        "    name='Adam')\n",
        "\n",
        "t0 = time.time()\n",
        "model.compile(optimizer='Adam', loss='categorical_crossentropy', metrics=['accuracy'])\n",
        "adam_history = model.fit(x_train, y_train, epochs=200, batch_size=128, validation_data=(x_test, y_test), verbose = 0)\n",
        "t1 = time.time()\n",
        "\n",
        "print(t1-t0)\n",
        "print(model.evaluate(x_train, y_train, batch_size=128, verbose=0))\n",
        "print(model.evaluate(x_test, y_test, batch_size=128, verbose=0))"
      ],
      "execution_count": null,
      "outputs": [
        {
          "output_type": "stream",
          "name": "stdout",
          "text": [
            "6082.868537425995\n",
            "[1.6830633878707886, 0.42236000299453735]\n",
            "[1.7055052518844604, 0.4187999963760376]\n"
          ]
        }
      ]
    },
    {
      "cell_type": "code",
      "metadata": {
        "id": "xkEtUK0-eyUY",
        "colab": {
          "base_uri": "https://localhost:8080/",
          "height": 279
        },
        "outputId": "15fe16bf-deb6-40eb-ea8e-a02de8c56003"
      },
      "source": [
        "###Plot\n",
        "plt.plot(ada_history.history['loss'], label = 'AdaGrad')\n",
        "plt.plot(rms_history.history['loss'], label = 'RMSprop')\n",
        "plt.plot(nadam_history.history['loss'], label = 'RMSprop+Nestrov')\n",
        "plt.plot(delta_history.history['loss'], label = 'Delta')\n",
        "plt.plot(adam_history.history['loss'], label = 'Adam')\n",
        "plt.legend()\n",
        "plt.xlabel(\"Epoch\")\n",
        "plt.ylabel(\"Loss\")\n",
        "\n",
        "plt.show()"
      ],
      "execution_count": null,
      "outputs": [
        {
          "output_type": "display_data",
          "data": {
            "image/png": "[encoded data removed]",
            "text/plain": [
              "<Figure size 432x288 with 1 Axes>"
            ]
          },
          "metadata": {
            "needs_background": "light"
          }
        }
      ]
    },
    {
      "cell_type": "code",
      "metadata": {
        "id": "OewXHPMFPJEN"
      },
      "source": [
        "import numpy as np\n",
        "print(np.mean(ada_history.history['loss']))\n",
        "print(np.mean(rms_history.history['loss']))\n",
        "print(np.mean(nadam_history.history['loss']))\n",
        "print(np.mean(delta_history.history['loss']))\n",
        "print(np.mean(adam_history.history['loss']))"
      ],
      "execution_count": null,
      "outputs": []
    },
    {
      "cell_type": "markdown",
      "metadata": {
        "id": "WYIvGELzTWRT"
      },
      "source": [
        "Delat shows best results (lowest loss value)"
      ]
    },
    {
      "cell_type": "markdown",
      "metadata": {
        "id": "_EpvPgq2sexZ"
      },
      "source": [
        "1-3"
      ]
    },
    {
      "cell_type": "code",
      "metadata": {
        "id": "9GCpqbIpoh5S"
      },
      "source": [
        "model = Sequential()\n",
        "model.add(Flatten())\n",
        "model.add(Dropout(0.2))\n",
        "model.add(Dense(1000, activation='relu', kernel_regularizer='l2'))\n",
        "model.add(Dropout(0.5))\n",
        "model.add(Dense(1000, activation='relu', kernel_regularizer='l2'))\n",
        "model.add(Dropout(0.5))\n",
        "model.add(Dense(10, activation='softmax'))"
      ],
      "execution_count": null,
      "outputs": []
    },
    {
      "cell_type": "code",
      "metadata": {
        "id": "BG0bbzycsxSu",
        "colab": {
          "base_uri": "https://localhost:8080/"
        },
        "outputId": "aeb6ac32-7481-4931-9364-470bfdd98108"
      },
      "source": [
        "#Adagrad\n",
        "tf.keras.optimizers.Adagrad(\n",
        "    learning_rate=0.001, initial_accumulator_value=0.1, epsilon=1e-07,\n",
        "    name='Adagrad'\n",
        ")\n",
        "\n",
        "t0 = time.time()\n",
        "model.compile(optimizer='Adagrad', loss='categorical_crossentropy', metrics=['accuracy'])\n",
        "ada_history = model.fit(x_train, y_train, epochs=200, batch_size=128, validation_data=(x_test, y_test), verbose = 0)\n",
        "t1 = time.time()\n",
        "\n",
        "print(t1-t0)\n",
        "print(model.evaluate(x_train, y_train, batch_size=128, verbose=0))\n",
        "print(model.evaluate(x_test, y_test, batch_size=128, verbose=0))"
      ],
      "execution_count": null,
      "outputs": [
        {
          "output_type": "stream",
          "name": "stdout",
          "text": [
            "6503.118491411209\n",
            "[1.6494051218032837, 0.4916599988937378]\n",
            "[1.668703317642212, 0.483599990606308]\n"
          ]
        }
      ]
    },
    {
      "cell_type": "code",
      "metadata": {
        "id": "vv5kFuays8w0",
        "colab": {
          "base_uri": "https://localhost:8080/"
        },
        "outputId": "d452f22a-2dc8-43ed-ca95-7aaf37319f16"
      },
      "source": [
        "#RMSprop\n",
        "tf.keras.optimizers.RMSprop(\n",
        "    learning_rate=0.001, rho=0.9, momentum=0.0, epsilon=1e-07, centered=False,\n",
        "    name='RMSprop')\n",
        "\n",
        "t0 = time.time()\n",
        "model.compile(optimizer='RMSprop', loss='categorical_crossentropy', metrics=['accuracy'])\n",
        "rms_history = model.fit(x_train, y_train, epochs=200, batch_size=128, validation_data=(x_test, y_test), verbose = 0)\n",
        "t1 = time.time()\n",
        "\n",
        "print(t1-t0)\n",
        "print(model.evaluate(x_train, y_train, batch_size=128, verbose=0))\n",
        "print(model.evaluate(x_test, y_test, batch_size=128, verbose=0))"
      ],
      "execution_count": null,
      "outputs": [
        {
          "output_type": "stream",
          "name": "stdout",
          "text": [
            "7636.008593797684\n",
            "[2.0761570930480957, 0.29175999760627747]\n",
            "[2.074373722076416, 0.289900004863739]\n"
          ]
        }
      ]
    },
    {
      "cell_type": "code",
      "metadata": {
        "id": "mh8vwMgAtCAw",
        "colab": {
          "base_uri": "https://localhost:8080/"
        },
        "outputId": "186a5579-f5f0-446a-912e-dce4549d7130"
      },
      "source": [
        "#RMSprop+Nestrov\n",
        "tf.keras.optimizers.Nadam(\n",
        "    learning_rate=0.001, beta_1=0.9, beta_2=0.999, epsilon=1e-07,\n",
        "    name='Nadam'\n",
        ")\n",
        "\n",
        "t0 = time.time()\n",
        "model.compile(optimizer='Nadam', loss='categorical_crossentropy', metrics=['accuracy'])\n",
        "nadam_history = model.fit(x_train, y_train, epochs=200, batch_size=128, validation_data=(x_test, y_test), verbose = 0)\n",
        "t1 = time.time()\n",
        "\n",
        "print(t1-t0)\n",
        "print(model.evaluate(x_train, y_train, batch_size=128, verbose=0))\n",
        "print(model.evaluate(x_test, y_test, batch_size=128, verbose=0))"
      ],
      "execution_count": null,
      "outputs": [
        {
          "output_type": "stream",
          "name": "stdout",
          "text": [
            "9214.094183444977\n",
            "[2.032661199569702, 0.2815200090408325]\n",
            "[2.0322563648223877, 0.2797999978065491]\n"
          ]
        }
      ]
    },
    {
      "cell_type": "code",
      "metadata": {
        "id": "VsXbkAWttD1c",
        "colab": {
          "base_uri": "https://localhost:8080/"
        },
        "outputId": "6a45e7e2-550f-43f4-9764-e59bb848d14e"
      },
      "source": [
        "#Adadelta\n",
        "tf.keras.optimizers.Adadelta(\n",
        "    learning_rate=0.001, rho=0.95, epsilon=1e-07, name='Adadelta')\n",
        "\n",
        "t0 = time.time()\n",
        "model.compile(optimizer='Adadelta', loss='categorical_crossentropy', metrics=['accuracy'])\n",
        "delta_history = model.fit(x_train, y_train, epochs=200, batch_size=128, validation_data=(x_test, y_test), verbose = 0)\n",
        "t1 = time.time()\n",
        "\n",
        "print(t1-t0)\n",
        "print(model.evaluate(x_train, y_train, batch_size=128, verbose=0))\n",
        "print(model.evaluate(x_test, y_test, batch_size=128, verbose=0))"
      ],
      "execution_count": null,
      "outputs": [
        {
          "output_type": "stream",
          "name": "stdout",
          "text": [
            "6723.648585796356\n",
            "[2.0308642387390137, 0.29693999886512756]\n",
            "[2.0293309688568115, 0.2937000095844269]\n"
          ]
        }
      ]
    },
    {
      "cell_type": "code",
      "metadata": {
        "id": "pLjpgeP7tEk6",
        "colab": {
          "base_uri": "https://localhost:8080/"
        },
        "outputId": "f677aa06-9879-48a7-e9c2-cd8dc8feb9d0"
      },
      "source": [
        "#Adam\n",
        "tf.keras.optimizers.Adam(\n",
        "    learning_rate=0.001, beta_1=0.9, beta_2=0.999, epsilon=1e-07, amsgrad=False,\n",
        "    name='Adam')\n",
        "\n",
        "t0 = time.time()\n",
        "model.compile(optimizer='Adam', loss='categorical_crossentropy', metrics=['accuracy'])\n",
        "adam_history = model.fit(x_train, y_train, epochs=200, batch_size=128, validation_data=(x_test, y_test), verbose = 0)\n",
        "t1 = time.time()\n",
        "\n",
        "print(t1-t0)\n",
        "print(model.evaluate(x_train, y_train, batch_size=128, verbose=0))\n",
        "print(model.evaluate(x_test, y_test, batch_size=128, verbose=0))"
      ],
      "execution_count": null,
      "outputs": [
        {
          "output_type": "stream",
          "name": "stdout",
          "text": [
            "6525.818071365356\n",
            "[2.1182539463043213, 0.22779999673366547]\n",
            "[2.1171340942382812, 0.2273000031709671]\n"
          ]
        }
      ]
    },
    {
      "cell_type": "code",
      "metadata": {
        "id": "NqbIseP_Tf3f",
        "colab": {
          "base_uri": "https://localhost:8080/",
          "height": 297
        },
        "outputId": "a231acdb-32f5-4024-9870-35477edf7104"
      },
      "source": [
        "###Plot\n",
        "plt.plot(ada_history.history['loss'], label = 'AdaGrad')\n",
        "plt.plot(rms_history.history['loss'], label = 'RMSprop')\n",
        "plt.plot(nadam_history.history['loss'], label = 'RMSprop+Nestrov')\n",
        "plt.plot(delta_history.history['loss'], label = 'Delta')\n",
        "plt.plot(adam_history.history['loss'], label = 'Adam')\n",
        "plt.legend()\n",
        "plt.xlabel(\"Epoch\")\n",
        "plt.ylabel(\"Loss\")"
      ],
      "execution_count": null,
      "outputs": [
        {
          "output_type": "execute_result",
          "data": {
            "text/plain": [
              "Text(0, 0.5, 'Loss')"
            ]
          },
          "metadata": {},
          "execution_count": 22
        },
        {
          "output_type": "display_data",
          "data": {
            "image/png": "[encoded data removed]",
            "text/plain": [
              "<Figure size 432x288 with 1 Axes>"
            ]
          },
          "metadata": {
            "needs_background": "light"
          }
        }
      ]
    },
    {
      "cell_type": "markdown",
      "metadata": {
        "id": "0xACnGEVTnDy"
      },
      "source": [
        "Adadelta without dropout is the lowest loss. Using dropout takes more training time. \n"
      ]
    },
    {
      "cell_type": "markdown",
      "metadata": {
        "id": "nD-AhZjJtEWY"
      },
      "source": [
        "1-4 \n",
        "Test accuracy without using dropout is better."
      ]
    },
    {
      "cell_type": "markdown",
      "metadata": {
        "id": "SgW8lRBivna9"
      },
      "source": [
        "2-1\n",
        "\n",
        "\n",
        "Total dataset size: 70,000,\n",
        "Training set size : 60,000,\n",
        "Validation set size : 10,000,\n",
        "Number of classes : 10,\n",
        "Number of Images per class : 7,000  \n"
      ]
    },
    {
      "cell_type": "code",
      "metadata": {
        "colab": {
          "base_uri": "https://localhost:8080/"
        },
        "id": "WknbwPE01bEK",
        "outputId": "7655f83d-f74b-4ad3-d95f-da61b55e5ba1"
      },
      "source": [
        "from tensorflow.keras.datasets import fashion_mnist\n",
        "(X_train, Y_train), (X_test, Y_test) = fashion_mnist.load_data()"
      ],
      "execution_count": null,
      "outputs": [
        {
          "output_type": "stream",
          "name": "stdout",
          "text": [
            "Downloading data from https://storage.googleapis.com/tensorflow/tf-keras-datasets/train-labels-idx1-ubyte.gz\n",
            "32768/29515 [=================================] - 0s 0us/step\n",
            "40960/29515 [=========================================] - 0s 0us/step\n",
            "Downloading data from https://storage.googleapis.com/tensorflow/tf-keras-datasets/train-images-idx3-ubyte.gz\n",
            "26427392/26421880 [==============================] - 0s 0us/step\n",
            "26435584/26421880 [==============================] - 0s 0us/step\n",
            "Downloading data from https://storage.googleapis.com/tensorflow/tf-keras-datasets/t10k-labels-idx1-ubyte.gz\n",
            "16384/5148 [===============================================================================================] - 0s 0us/step\n",
            "Downloading data from https://storage.googleapis.com/tensorflow/tf-keras-datasets/t10k-images-idx3-ubyte.gz\n",
            "4423680/4422102 [==============================] - 0s 0us/step\n",
            "4431872/4422102 [==============================] - 0s 0us/step\n"
          ]
        }
      ]
    },
    {
      "cell_type": "code",
      "metadata": {
        "colab": {
          "base_uri": "https://localhost:8080/",
          "height": 265
        },
        "id": "TpKxNNYov1fb",
        "outputId": "b6499707-b928-428e-aa52-d61fae1de50f"
      },
      "source": [
        "sample = 3\n",
        "image = X_train[sample]\n",
        "\n",
        "# plot the sample\n",
        "fig = plt.figure\n",
        "plt.imshow(image, cmap='gray')\n",
        "plt.show()"
      ],
      "execution_count": null,
      "outputs": [
        {
          "data": {
            "image/png": "[encoded data removed]",
            "text/plain": [
              "<Figure size 432x288 with 1 Axes>"
            ]
          },
          "metadata": {},
          "output_type": "display_data"
        }
      ]
    },
    {
      "cell_type": "code",
      "metadata": {
        "colab": {
          "base_uri": "https://localhost:8080/",
          "height": 265
        },
        "id": "YEpEeh_U1nu4",
        "outputId": "057080d0-0deb-4a6a-9594-84629954802d"
      },
      "source": [
        "sample = 5\n",
        "image = X_train[sample]\n",
        "\n",
        "# plot the sample\n",
        "fig = plt.figure\n",
        "plt.imshow(image, cmap='gray')\n",
        "plt.show()"
      ],
      "execution_count": null,
      "outputs": [
        {
          "data": {
            "image/png": "[encoded data removed]",
            "text/plain": [
              "<Figure size 432x288 with 1 Axes>"
            ]
          },
          "metadata": {},
          "output_type": "display_data"
        }
      ]
    },
    {
      "cell_type": "code",
      "metadata": {
        "colab": {
          "base_uri": "https://localhost:8080/",
          "height": 265
        },
        "id": "uzZ6gl601qAo",
        "outputId": "e0a36091-020d-4923-d1b7-7dec52e91642"
      },
      "source": [
        "sample = 9\n",
        "image = X_train[sample]\n",
        "\n",
        "# plot the sample\n",
        "fig = plt.figure\n",
        "plt.imshow(image, cmap='gray')\n",
        "plt.show()"
      ],
      "execution_count": null,
      "outputs": [
        {
          "data": {
            "image/png": "[encoded data removed]",
            "text/plain": [
              "<Figure size 432x288 with 1 Axes>"
            ]
          },
          "metadata": {},
          "output_type": "display_data"
        }
      ]
    },
    {
      "cell_type": "code",
      "metadata": {
        "id": "Cn2wuPdTq4Rj"
      },
      "source": [
        "from tensorflow.keras.datasets import fashion_mnist\n",
        "(X_train, Y_train), (X_test, Y_test) = fashion_mnist.load_data()"
      ],
      "execution_count": null,
      "outputs": []
    },
    {
      "cell_type": "markdown",
      "metadata": {
        "id": "KXu9f--D4tT7"
      },
      "source": [
        "2-2,3,4\n",
        "- There is only code below, I implemented in another file due to the time. "
      ]
    },
    {
      "cell_type": "markdown",
      "metadata": {
        "id": "gn6KxgK15Re-"
      },
      "source": [
        "2-2"
      ]
    },
    {
      "cell_type": "code",
      "metadata": {
        "id": "OZWuE87z4wNG"
      },
      "source": [
        "!wget https://s3-us-west-2.amazonaws.com/static.pyimagesearch.com/keras-learning-rate-finder/keras-learning-rate-finder.zip\n",
        "!unzip -qq keras-learning-rate-finder.zip\n",
        "%cd keras-learning-rate-finder"
      ],
      "execution_count": null,
      "outputs": []
    },
    {
      "cell_type": "code",
      "metadata": {
        "id": "Y8oD6MtV4zPp"
      },
      "source": [
        "from pyimagesearch.minigooglenet import MiniGoogLeNet\n",
        "from pyimagesearch.clr_callback import CyclicLR\n",
        "from pyimagesearch import config\n",
        "from sklearn.preprocessing import LabelBinarizer\n",
        "from sklearn.metrics import classification_report\n",
        "from tensorflow.keras.callbacks import LambdaCallback\n",
        "from tensorflow.keras import backend as K\n",
        "from tensorflow.keras.preprocessing.image import ImageDataGenerator\n",
        "from tensorflow.keras.optimizers import SGD\n",
        "from tensorflow.keras.datasets import fashion_mnist\n",
        "import matplotlib.pyplot as plt\n",
        "import numpy as np\n",
        "import tempfile\n",
        "import argparse\n",
        "import cv2\n",
        "import sys\n",
        "import os"
      ],
      "execution_count": null,
      "outputs": []
    },
    {
      "cell_type": "code",
      "metadata": {
        "id": "mNxnbcxS4885"
      },
      "source": [
        "class LearningRateFinder:\n",
        "\tdef __init__(self, model, stopFactor=4, beta=0.98):\n",
        "\t\t# store the model, stop factor, and beta value (for computing\n",
        "\t\t# a smoothed, average loss)\n",
        "\t\tself.model = model\n",
        "\t\tself.stopFactor = stopFactor\n",
        "\t\tself.beta = beta\n",
        "\n",
        "\t\t# initialize our list of learning rates and losses,\n",
        "\t\t# respectively\n",
        "\t\tself.lrs = []\n",
        "\t\tself.losses = []\n",
        "\n",
        "\t\t# initialize our learning rate multiplier, average loss, best\n",
        "\t\t# loss found thus far, current batch number, and weights file\n",
        "\t\tself.lrMult = 1\n",
        "\t\tself.avgLoss = 0\n",
        "\t\tself.bestLoss = 1e9\n",
        "\t\tself.batchNum = 0\n",
        "\t\tself.weightsFile = None\n",
        "\n",
        "\tdef reset(self):\n",
        "\t\t# re-initialize all variables from our constructor\n",
        "\t\tself.lrs = []\n",
        "\t\tself.losses = []\n",
        "\t\tself.lrMult = 1\n",
        "\t\tself.avgLoss = 0\n",
        "\t\tself.bestLoss = 1e9\n",
        "\t\tself.batchNum = 0\n",
        "\t\tself.weightsFile = None\n",
        "\n",
        "\tdef is_data_iter(self, data):\n",
        "\t\t# define the set of class types we will check for\n",
        "\t\titerClasses = [\"NumpyArrayIterator\", \"DirectoryIterator\",\n",
        "\t\t\t \"Iterator\", \"Sequence\"]\n",
        "\n",
        "\t\t# return whether our data is an iterator\n",
        "\t\treturn data.__class__.__name__ in iterClasses\n",
        "\n",
        "\tdef on_batch_end(self, batch, logs):\n",
        "\t\t# grab the current learning rate and add log it to the list of\n",
        "\t\t# learning rates that we've tried\n",
        "\t\tlr = K.get_value(self.model.optimizer.lr)\n",
        "\t\tself.lrs.append(lr)\n",
        "\n",
        "\t\t# grab the loss at the end of this batch, increment the total\n",
        "\t\t# number of batches processed, compute the average average\n",
        "\t\t# loss, smooth it, and update the losses list with the\n",
        "\t\t# smoothed value\n",
        "\t\tl = logs[\"loss\"]\n",
        "\t\tself.batchNum += 1\n",
        "\t\tself.avgLoss = (self.beta * self.avgLoss) + ((1 - self.beta) * l)\n",
        "\t\tsmooth = self.avgLoss / (1 - (self.beta ** self.batchNum))\n",
        "\t\tself.losses.append(smooth)\n",
        "\n",
        "\t\t# compute the maximum loss stopping factor value\n",
        "\t\tstopLoss = self.stopFactor * self.bestLoss\n",
        "\n",
        "\t\t# check to see whether the loss has grown too large\n",
        "\t\tif self.batchNum > 1 and smooth > stopLoss:\n",
        "\t\t\t# stop returning and return from the method\n",
        "\t\t\tself.model.stop_training = True\n",
        "\t\t\treturn\n",
        "\n",
        "\t\t# check to see if the best loss should be updated\n",
        "\t\tif self.batchNum == 1 or smooth < self.bestLoss:\n",
        "\t\t\tself.bestLoss = smooth\n",
        "\n",
        "\t\t# increase the learning rate\n",
        "\t\tlr *= self.lrMult\n",
        "\t\tK.set_value(self.model.optimizer.lr, lr)\n",
        "\n",
        "\tdef find(self, trainData, startLR, endLR, epochs=None,\n",
        "\t\tstepsPerEpoch=None, batchSize=32, sampleSize=2048,\n",
        "\t\tverbose=1):\n",
        "\t\t# reset our class-specific variables\n",
        "\t\tself.reset()\n",
        "\n",
        "\t\t# determine if we are using a data generator or not\n",
        "\t\tuseGen = self.is_data_iter(trainData)\n",
        "\n",
        "\t\t# if we're using a generator and the steps per epoch is not\n",
        "\t\t# supplied, raise an error\n",
        "\t\tif useGen and stepsPerEpoch is None:\n",
        "\t\t\tmsg = \"Using generator without supplying stepsPerEpoch\"\n",
        "\t\t\traise Exception(msg)\n",
        "\n",
        "\t\t# if we're not using a generator then our entire dataset must\n",
        "\t\t# already be in memory\n",
        "\t\telif not useGen:\n",
        "\t\t\t# grab the number of samples in the training data and\n",
        "\t\t\t# then derive the number of steps per epoch\n",
        "\t\t\tnumSamples = len(trainData[0])\n",
        "\t\t\tstepsPerEpoch = np.ceil(numSamples / float(batchSize))\n",
        "\n",
        "\t\t# if no number of training epochs are supplied, compute the\n",
        "\t\t# training epochs based on a default sample size\n",
        "\t\tif epochs is None:\n",
        "\t\t\tepochs = int(np.ceil(sampleSize / float(stepsPerEpoch)))\n",
        "\n",
        "\t\t# compute the total number of batch updates that will take\n",
        "\t\t# place while we are attempting to find a good starting\n",
        "\t\t# learning rate\n",
        "\t\tnumBatchUpdates = epochs * stepsPerEpoch\n",
        "\n",
        "\t\t# derive the learning rate multiplier based on the ending\n",
        "\t\t# learning rate, starting learning rate, and total number of\n",
        "\t\t# batch updates\n",
        "\t\tself.lrMult = (endLR / startLR) ** (1.0 / numBatchUpdates)\n",
        "\n",
        "\t\t# create a temporary file path for the model weights and\n",
        "\t\t# then save the weights (so we can reset the weights when we\n",
        "\t\t# are done)\n",
        "\t\tself.weightsFile = tempfile.mkstemp()[1]\n",
        "\t\tself.model.save_weights(self.weightsFile)\n",
        "\n",
        "\t\t# grab the *original* learning rate (so we can reset it\n",
        "\t\t# later), and then set the *starting* learning rate\n",
        "\t\torigLR = K.get_value(self.model.optimizer.lr)\n",
        "\t\tK.set_value(self.model.optimizer.lr, startLR)\n",
        "\n",
        "\t\t# construct a callback that will be called at the end of each\n",
        "\t\t# batch, enabling us to increase our learning rate as training\n",
        "\t\t# progresses\n",
        "\t\tcallback = LambdaCallback(on_batch_end=lambda batch, logs:\n",
        "\t\t\tself.on_batch_end(batch, logs))\n",
        "\n",
        "\t\t# check to see if we are using a data iterator\n",
        "\t\tif useGen:\n",
        "\t\t\tself.model.fit(\n",
        "\t\t\t\tx=trainData,\n",
        "\t\t\t\tsteps_per_epoch=stepsPerEpoch,\n",
        "\t\t\t\tepochs=epochs,\n",
        "\t\t\t\tverbose=verbose,\n",
        "\t\t\t\tcallbacks=[callback])\n",
        "\n",
        "\t\t# otherwise, our entire training data is already in memory\n",
        "\t\telse:\n",
        "\t\t\t# train our model using Keras' fit method\n",
        "\t\t\tself.model.fit(\n",
        "\t\t\t\tx=trainData[0], y=trainData[1],\n",
        "\t\t\t\tbatch_size=batchSize,\n",
        "\t\t\t\tepochs=epochs,\n",
        "\t\t\t\tcallbacks=[callback],\n",
        "\t\t\t\tverbose=verbose)\n",
        "\n",
        "\t\t# restore the original model weights and learning rate\n",
        "\t\tself.model.load_weights(self.weightsFile)\n",
        "\t\tK.set_value(self.model.optimizer.lr, origLR)\n",
        "\n",
        "\tdef plot_loss(self, skipBegin=10, skipEnd=1, title=\"\"):\n",
        "\t\t# grab the learning rate and losses values to plot\n",
        "\t\tlrs = self.lrs[skipBegin:-skipEnd]\n",
        "\t\tlosses = self.losses[skipBegin:-skipEnd]\n",
        "\n",
        "\t\t# plot the learning rate vs. loss\n",
        "\t\tplt.plot(lrs, losses)\n",
        "\t\tplt.xscale(\"log\")\n",
        "\t\tplt.xlabel(\"Learning Rate (Log Scale)\")\n",
        "\t\tplt.ylabel(\"Loss\")\n",
        "\n",
        "\t\t# if the title is not empty, add it to the plot\n",
        "\t\tif title != \"\":\n",
        "\t\t\tplt.title(title)"
      ],
      "execution_count": null,
      "outputs": []
    },
    {
      "cell_type": "code",
      "metadata": {
        "id": "0eaih4dc400q"
      },
      "source": [
        "print(\"[INFO] loading Fashion MNIST data...\")\n",
        "((trainX, trainY), (testX, testY)) = fashion_mnist.load_data()\n",
        "\n",
        "# Fashion MNIST images are 28x28 but the network we will be training\n",
        "# is expecting 32x32 images\n",
        "trainX = np.array([cv2.resize(x, (32, 32)) for x in trainX])\n",
        "testX = np.array([cv2.resize(x, (32, 32)) for x in testX])\n",
        "\n",
        "# scale the pixel intensities to the range [0, 1]\n",
        "trainX = trainX.astype(\"float\") / 255.0\n",
        "testX = testX.astype(\"float\") / 255.0\n",
        "\n",
        "# reshape the data matrices to include a channel dimension (required\n",
        "# for training)\n",
        "trainX = trainX.reshape((trainX.shape[0], 32, 32, 1))\n",
        "testX = testX.reshape((testX.shape[0], 32, 32, 1))\n",
        "\n",
        "# convert the labels from integers to vectors\n",
        "lb = LabelBinarizer()\n",
        "trainY = lb.fit_transform(trainY)\n",
        "testY = lb.transform(testY)\n",
        "\n",
        "# construct the image generator for data augmentation\n",
        "aug = ImageDataGenerator(width_shift_range=0.1,\n",
        "\theight_shift_range=0.1, horizontal_flip=True,\n",
        "\tfill_mode=\"nearest\")"
      ],
      "execution_count": null,
      "outputs": []
    },
    {
      "cell_type": "code",
      "metadata": {
        "id": "7crGAMtf4235"
      },
      "source": [
        "# initialize the optimizer and model\n",
        "print(\"[INFO] compiling model...\")\n",
        "opt = SGD(lr=config.MIN_LR, momentum=0.9)\n",
        "model = MiniGoogLeNet.build(width=32, height=32, depth=1, classes=10)\n",
        "model.compile(loss=\"categorical_crossentropy\", optimizer=opt,\n",
        "\tmetrics=[\"accuracy\"])"
      ],
      "execution_count": null,
      "outputs": []
    },
    {
      "cell_type": "code",
      "metadata": {
        "id": "rQs1f2xs43i5"
      },
      "source": [
        "CLASSES = [\"top\", \"trouser\", \"pullover\", \"dress\", \"coat\",\n",
        "        \"sandal\", \"shirt\", \"sneaker\", \"bag\", \"ankle boot\"]"
      ],
      "execution_count": null,
      "outputs": []
    },
    {
      "cell_type": "code",
      "metadata": {
        "id": "0Bl7GlNF43cG"
      },
      "source": [
        "# otherwise, we have already defined a learning rate space to train\n",
        "# over, so compute the step size and initialize the cyclic learning\n",
        "# rate method\n",
        "BATCH_SIZE = 64\n",
        "STEP_SIZE = 8\n",
        "\n",
        "stepSize = STEP_SIZE * (trainX.shape[0] // config.BATCH_SIZE)\n",
        "clr = CyclicLR(\n",
        "\tmode='triangular',\n",
        "\tbase_lr=1e-9,\n",
        "\tmax_lr=10,\n",
        "\tstep_size=stepSize)\n",
        "\n",
        "# train the network\n",
        "print(\"[INFO] training network...\")\n",
        "H = model.fit(\n",
        "\tx=aug.flow(trainX, trainY, batch_size=BATCH_SIZE),\n",
        "\tvalidation_data=(testX, testY),\n",
        "\tsteps_per_epoch=trainX.shape[0] // BATCH_SIZE,\n",
        "\tepochs=5,\n",
        "\tcallbacks=[clr],\n",
        "\tverbose=1)"
      ],
      "execution_count": null,
      "outputs": []
    },
    {
      "cell_type": "code",
      "metadata": {
        "id": "_jkyxjSf43lY"
      },
      "source": [
        "print(\"[INFO] evaluating network...\")\n",
        "predictions = model.predict(x=testX, batch_size=BATCH_SIZE)\n",
        "print(classification_report(testY.argmax(axis=1),\n",
        "\tpredictions.argmax(axis=1), target_names=CLASSES))"
      ],
      "execution_count": null,
      "outputs": []
    },
    {
      "cell_type": "code",
      "metadata": {
        "id": "hGlPvCNe4-GX"
      },
      "source": [
        "lrf = LearningRateFinder(model)\n",
        "lrf.find(\n",
        "\t\taug.flow(trainX, trainY, batch_size=config.BATCH_SIZE),\n",
        "\t\t1e-10, 1e+1,\n",
        "\t\tstepsPerEpoch=np.ceil((trainX.shape[0] / float(config.BATCH_SIZE))),\n",
        "\t\tepochs=5,\n",
        "\t\tbatchSize=config.BATCH_SIZE)\n",
        " \n",
        "\t# plot the loss for the various learning rates and save the\n",
        "\t# resulting plot to disk\n",
        "lrf.plot_loss()"
      ],
      "execution_count": null,
      "outputs": []
    },
    {
      "cell_type": "markdown",
      "metadata": {
        "id": "wrueZAcn5ZPa"
      },
      "source": [
        "2-3"
      ]
    },
    {
      "cell_type": "code",
      "metadata": {
        "id": "t2FzcPyF4_cK"
      },
      "source": [
        "# otherwise, we have already defined a learning rate space to train\n",
        "# over, so compute the step size and initialize the cyclic learning\n",
        "# rate method\n",
        "LR_MIN = 1e-3\n",
        "LR_MAX = 1e-1\n",
        "\n",
        "\n",
        "\n",
        "stepSize = STEP_SIZE * (trainX.shape[0] // config.BATCH_SIZE)\n",
        "clr = CyclicLR(\n",
        "\tmode='triangular',\n",
        "\tbase_lr=1e-9,\n",
        "\tmax_lr=10,\n",
        "\tstep_size=stepSize)\n",
        "\n",
        "# train the network\n",
        "print(\"[INFO] training network...\")\n",
        "H = model.fit(\n",
        "\tx=aug.flow(trainX, trainY, batch_size=BATCH_SIZE),\n",
        "\tvalidation_data=(testX, testY),\n",
        "\tsteps_per_epoch=trainX.shape[0] // BATCH_SIZE,\n",
        "\tepochs=5,\n",
        "\tcallbacks=[clr],\n",
        "\tverbose=1)\n",
        "\n",
        "# evaluate the network and show a classification report\n",
        "print(\"[INFO] evaluating network...\")\n",
        "predictions = model.predict(x=testX, batch_size=BATCH_SIZE)\n",
        "print(classification_report(testY.argmax(axis=1),\n",
        "\tpredictions.argmax(axis=1), target_names=CLASSES))"
      ],
      "execution_count": null,
      "outputs": []
    },
    {
      "cell_type": "code",
      "metadata": {
        "id": "QzeTnOsT5BKK"
      },
      "source": [
        "N = np.arange(0, 5)\n",
        "plt.style.use(\"ggplot\")\n",
        "plt.figure()\n",
        "plt.plot(N, H.history[\"loss\"], label=\"train_loss\")\n",
        "plt.plot(N, H.history[\"val_loss\"], label=\"val_loss\")\n",
        "plt.plot(N, H.history[\"accuracy\"], label=\"train_acc\")\n",
        "plt.plot(N, H.history[\"val_accuracy\"], label=\"val_acc\")\n",
        "plt.title(\"Training Loss and Accuracy\")\n",
        "plt.xlabel(\"Epoch #\")\n",
        "plt.ylabel(\"Loss/Accuracy\")\n",
        "plt.legend(loc=\"lower left\")\n",
        "\n",
        "# plot the learning rate history\n",
        "N = np.arange(0, len(clr.history[\"lr\"]))\n",
        "plt.figure()\n",
        "plt.plot(N, clr.history[\"lr\"])\n",
        "plt.title(\"Cyclical Learning Rate (CLR)\")\n",
        "plt.xlabel(\"Training Iterations\")\n",
        "plt.ylabel(\"Learning Rate\")"
      ],
      "execution_count": null,
      "outputs": []
    },
    {
      "cell_type": "markdown",
      "metadata": {
        "id": "3NyeDtY95b4T"
      },
      "source": [
        "2-4"
      ]
    },
    {
      "cell_type": "code",
      "metadata": {
        "id": "8fZUHaix5CbP"
      },
      "source": [
        "# otherwise, we have already defined a learning rate space to train\n",
        "# over, so compute the step size and initialize the cyclic learning\n",
        "# rate method\n",
        "LR_MIN = 1e-3\n",
        "LR_MAX = 1e-3\n",
        "\n",
        "BATCH_LIST = [64, 256, 1024, 2048, 4096, 8192]\n",
        "loss_res = []\n",
        "\n",
        "for i in BATCH_LIST: \n",
        "  stepSize = STEP_SIZE * (trainX.shape[0] // config.BATCH_SIZE)\n",
        "  clr = CyclicLR(\n",
        "    mode='triangular',\n",
        "    base_lr=LR_MIN,\n",
        "    max_lr=LR_MAX,\n",
        "    step_size=stepSize)\n",
        "  print(\"[INFO] training network...\")\n",
        "  H = model.fit(\n",
        "    x=aug.flow(trainX, trainY, batch_size=BATCH_SIZE),\n",
        "    validation_data=(testX, testY),\n",
        "    steps_per_epoch=trainX.shape[0] // BATCH_SIZE,\n",
        "    epochs=5,\n",
        "    callbacks=[clr],\n",
        "    verbose=1)\n",
        "\n",
        "  # evaluate the network and show a classification report\n",
        "  print(\"[INFO] evaluating network...\")\n",
        "  predictions = model.predict(x=testX, batch_size=BATCH_SIZE)\n",
        "  print(classification_report(testY.argmax(axis=1),\n",
        "    predictions.argmax(axis=1), target_names=CLASSES))\n",
        "  loss_res.append(H.history['loss'][4])"
      ],
      "execution_count": null,
      "outputs": []
    },
    {
      "cell_type": "code",
      "metadata": {
        "id": "Z9JUbyE25EZq"
      },
      "source": [
        "plt.plot(BATCH_LIST, loss_res)\n",
        "plt.xlabe('Batch Size')\n",
        "plt.ylabel('Loss value')\n",
        "plt.show()"
      ],
      "execution_count": null,
      "outputs": []
    },
    {
      "cell_type": "markdown",
      "metadata": {
        "id": "qcrm4IRv6lO8"
      },
      "source": [
        "As batch size increase, loss also decrease. However after some point point, it doesn't decrease. "
      ]
    },
    {
      "cell_type": "markdown",
      "metadata": {
        "id": "2zPFHFA16ywU"
      },
      "source": [
        "2-5   \n",
        "(I will report bmin and bmax after the implmentation finish it takes so much time)   \n",
        "I think like when we find local minima, set the initial batch size (maybe small) and increase it automatically. If there is no progress in performance after increase, it stops and set previous batch size as final. "
      ]
    },
    {
      "cell_type": "markdown",
      "metadata": {
        "id": "L4UHdlYl9RcX"
      },
      "source": [
        "2-6 \n",
        "Exponential increase in training time. \n"
      ]
    },
    {
      "cell_type": "markdown",
      "metadata": {
        "id": "RGtXhx5o8Ztp"
      },
      "source": [
        "2-7 \n",
        "Cyclic learning rate policy "
      ]
    },
    {
      "cell_type": "markdown",
      "metadata": {
        "id": "kbUFeQg4VEwc"
      },
      "source": [
        "#3-1"
      ]
    },
    {
      "cell_type": "markdown",
      "metadata": {
        "id": "qi2uY8RGVJh2"
      },
      "source": [
        "Number of parameters of the conv layer =  (size of kernels used in the conv layer)^2* Number of channels of the input image* Number of Kernels+Number of biases of the conv layer \n",
        "\n",
        "The number of channels = C   \n",
        "The Kernel size = K  \n",
        "The number of kernels = N  \n",
        "The number of bias = B"
      ]
    },
    {
      "cell_type": "markdown",
      "metadata": {
        "id": "z31TJfCJk3zI"
      },
      "source": [
        "The size of output image is (size of input image-size of kernels used in conv layer + padding)/stride of the conv operation +1\n",
        "\n",
        "The size of input image = I \n",
        "The size of kernels used in the conv layer = K\n",
        "Padding = P\n",
        "Stride of the conv operation = S"
      ]
    },
    {
      "cell_type": "markdown",
      "metadata": {
        "id": "CskAjGMzjgvL"
      },
      "source": [
        "CONV1: (C = 3, K = 11, N = 96, B = 96)  \n",
        "Num of parameters : 11^2 * 3 * 96 + 96 = 34944  \n",
        "Num of Output size : (227-11+2*2)/4+1 = 55  \n"
      ]
    },
    {
      "cell_type": "markdown",
      "metadata": {
        "id": "slthaKu5OUB1"
      },
      "source": [
        "POOL1   \n",
        "0 parameters   \n",
        "Num of Output size : (55-3)/2+1 = 27  "
      ]
    },
    {
      "cell_type": "markdown",
      "metadata": {
        "id": "7SdTnI6nOmtB"
      },
      "source": [
        "CONV2   \n",
        "Num of parameters :5^2* 96 * 256+256 = 614656   \n",
        "Num of Output : (27-5+2*2)/1+1 = 27"
      ]
    },
    {
      "cell_type": "markdown",
      "metadata": {
        "id": "cfR9Z4ZFO8n6"
      },
      "source": [
        "POOL2   \n",
        "0 parameters   \n",
        "Num of Output size : (27-3)/2+1 = 13  "
      ]
    },
    {
      "cell_type": "markdown",
      "metadata": {
        "id": "lEaoKOxEPHiv"
      },
      "source": [
        "CONV3   \n",
        "Num of parameters :3^2 * 256 * 384+384 = 885120   \n",
        "Num of Output : (13-3+2*1)/1+1 = 13"
      ]
    },
    {
      "cell_type": "markdown",
      "metadata": {
        "id": "DSR1OdoqOkb_"
      },
      "source": [
        "CONV4   \n",
        "Num of parameters :3^2 * 384 * 384+384 = 1327488   \n",
        "Num of Output : (13-3+2*1)/1+1 = 13"
      ]
    },
    {
      "cell_type": "markdown",
      "metadata": {
        "id": "qGZYZzTWnpw1"
      },
      "source": [
        "CONV5   \n",
        "Num of parameters :3^2 * 384 * 256+256 = 884992   \n",
        "Num of Output : (13-3+2*1)/1+1 = 13"
      ]
    },
    {
      "cell_type": "markdown",
      "metadata": {
        "id": "78ulNYMIP2u8"
      },
      "source": [
        "POOL3   \n",
        "0 parameters   \n",
        "Num of Output size : (13-3)/2+1 = 6 "
      ]
    },
    {
      "cell_type": "markdown",
      "metadata": {
        "id": "n2siA5AKh3kS"
      },
      "source": [
        "FC-1  \n",
        "Number of parameters: 1^2 * 9216 * 4096 + 4096 = 37752832"
      ]
    },
    {
      "cell_type": "markdown",
      "metadata": {
        "id": "J1JXkeRtQNZ1"
      },
      "source": [
        "FC-2  \n",
        "Number of parameters: 1^2 * 4096 * 4096 + 4096 = 16781312"
      ]
    },
    {
      "cell_type": "markdown",
      "metadata": {
        "id": "sAQm64g5QTC_"
      },
      "source": [
        "FC-2  \n",
        "Number of parameters: 1^2 * 4096 * 1000 + 1000 = 4097000"
      ]
    },
    {
      "cell_type": "markdown",
      "metadata": {
        "id": "MDl0iGamQZvR"
      },
      "source": [
        "Total = 62378344"
      ]
    },
    {
      "cell_type": "markdown",
      "metadata": {
        "id": "cztI13Qxh1eS"
      },
      "source": [
        "##3-2"
      ]
    },
    {
      "cell_type": "markdown",
      "metadata": {
        "id": "n4fMcM3ucQGl"
      },
      "source": [
        "Memory (only empty space) \n",
        "CONV3-128 = 112 * 112 * 128 = 1605632   \n",
        "CONV3-128 = 112 * 112 * 128 = 1605632    \n",
        "CONV3-256 = 56 * 56 * 256 = 802816  \n",
        "CONV3-256 = 56 * 56 * 256 = 802816    \n",
        "CONV3-256 = 56 * 56 * 256 = 802816     \n",
        "POOL2 = 28 * 28 * 256 = 200704  \n",
        "CONV3-512 = 28 * 28 * 512 = 401408    \n",
        "CONV3-512 = 28 * 28 * 512 =  401408       \n",
        "POOL2 = 14 * 14 * 512 = 100352     \n",
        "CONV3-512 = 14 * 14 * 512 = 100353  \n",
        "CONV3-512 = 14 * 14 * 512 = 100353 \n",
        "CONV3-512 = 14 * 14 * 512 =  100353   \n",
        "CONV3-512 = 14 * 14 * 512 =  100353  \n",
        "CONV3-512 = 14 * 14 * 512 = 100353    \n",
        "POOL2 = 7 * 7 * 512 25088  \n",
        "TOTAL = 24M * 4 byte = 93MB\n"
      ]
    },
    {
      "cell_type": "markdown",
      "metadata": {
        "id": "E_WPbUyBd7ou"
      },
      "source": [
        "Compute (only empty part)   \n",
        "CONV3-128 = (3 * 3 * 64)*128 = 73728  \n",
        "CONV3-128 = (3 * 3 * 128)*128 = 147456  \n",
        "CONV3-256 = (3 * 3 * 128)*256 = 294912  \n",
        "CONV3-256 = (3 * 3 * 256)*256 = 589824   \n",
        "CONV3-256 = (3 * 3 * 256)*256 = 589824   \n",
        "CONV3-512 = (3 * 3 * 512)*512 = 2359296  \n",
        "CONV3-512 = (3 * 3 * 512)*512 = 2359296  \n",
        "CONV3-512 = (3 * 3 * 512)*512 = 2359296  \n",
        "CONV3-512 = (3 * 3 * 512)*512 = 2359296  \n",
        "CONV3-512 = (3 * 3 * 512)*512 = 2359296  \n",
        "CONV3-512 = (3 * 3 * 512)*512 = 2359296   \n",
        "CONV3-512 = (3 * 3 * 512)*512 = 2359296\n",
        "FC = 7 * 7 * 512 * 4096 = 102760448  \n",
        "FC = 4096 * 1000 = 4096000  \n",
        "Total = 138M parameters\n"
      ]
    },
    {
      "cell_type": "markdown",
      "metadata": {
        "id": "bCVAJE_KQkID"
      },
      "source": [
        "#3-3\n"
      ]
    },
    {
      "cell_type": "markdown",
      "metadata": {
        "id": "YD-YA5BMQmb5"
      },
      "source": [
        "A stacl of N conv layer of filter size FxF, = L-F+1, where L is shape and K is kernel.  \n",
        "N times = L-N(F+1)  \n",
        "\n",
        "One conv layer with filter size = (NF-N+1) * (NF-N+1)\n",
        "L-(NF-N+1)+1 = L-N(F+1)"
      ]
    },
    {
      "cell_type": "markdown",
      "metadata": {
        "id": "XtADTZvFUvmw"
      },
      "source": [
        "4-(a) It allows for us to use multiple types of filter size instead of being restricted to a single filter size, in a single image block, which we then concatenate and pass onto the next layer. \n",
        " Instead of stacking layers deeply, they operate multiple sizes' filters on a same level. "
      ]
    },
    {
      "cell_type": "markdown",
      "metadata": {
        "id": "m2KHsVEaVAeD"
      },
      "source": [
        "4-(b)  \n",
        "Naive : 32 * 32 * (128+192+96+256) = 32 * 32 * 672  \n",
        "Dimensionality reduction :  32 * 32 * (128+192+96+64) = 32 * 32 *480 "
      ]
    },
    {
      "cell_type": "markdown",
      "metadata": {
        "id": "s3Ex9gQFTPbn"
      },
      "source": [
        "4-(c)\n",
        " Naive : \n",
        " Conv1: 32 * 32 * 1 * 256 * 128 = 33554432  \n",
        " Conv3: 32 * 32 * 9 * 256 * 128 = 301989888  \n",
        " Conv5 : 32 * 32 * 25 * 256 * 128 = 838860800  \n",
        "Total = 1174405120\n",
        "\n",
        "Dimensionality reduction : \n",
        " CONV1: (32 * 32 * 256 * 128) + (32 * 32 * 256 * 128) +(32 * 32 * 256 * 64) = 92274668   \n",
        " CON3 = 32 * 32 * 9 * 128 * 192 = 226492416  \n",
        " CONV5 = 32 * 32 * 25 * 32 * 96 = 78643200    \n",
        "Total = 397410304"
      ]
    },
    {
      "cell_type": "markdown",
      "metadata": {
        "id": "a9kqZIGhW3Pr"
      },
      "source": [
        "4-(d)  \n",
        "Since naive has more parameter than dimensionality reduction, it takes more time.\n",
        "  "
      ]
    },
    {
      "cell_type": "markdown",
      "metadata": {
        "id": "cQtQ4mihV3TM"
      },
      "source": [
        "##4\n",
        "- There is only code below, I implemented in another file. "
      ]
    },
    {
      "cell_type": "markdown",
      "metadata": {
        "id": "UWOSQ7U8WR0B"
      },
      "source": [
        "4-(a) \n",
        "Cutout regularization is cutting out some regions of images, and augument the dataset. It's kind of dropout of input space. For dropout,it doesn't work well with conv layers. Since close pixels usually share same information.  "
      ]
    },
    {
      "cell_type": "code",
      "metadata": {
        "colab": {
          "base_uri": "https://localhost:8080/"
        },
        "id": "lmcvI7dYZvNd",
        "outputId": "323b6c80-f677-488b-d74b-c646c4eb62f7"
      },
      "source": [
        "from keras.datasets import cifar10\n",
        "from keras.utils import np_utils\n",
        "import matplotlib as plt\n",
        "\n",
        "(x_train, y_train), (x_test, y_test) = cifar10.load_data()"
      ],
      "execution_count": null,
      "outputs": [
        {
          "output_type": "stream",
          "name": "stdout",
          "text": [
            "Downloading data from https://www.cs.toronto.edu/~kriz/cifar-10-python.tar.gz\n",
            "170500096/170498071 [==============================] - 2s 0us/step\n",
            "170508288/170498071 [==============================] - 2s 0us/step\n"
          ]
        }
      ]
    },
    {
      "cell_type": "code",
      "metadata": {
        "id": "wkz7BC96Z10K",
        "colab": {
          "base_uri": "https://localhost:8080/",
          "height": 284
        },
        "outputId": "c44dc99e-d8c2-484a-8aa9-3025b8d818e7"
      },
      "source": [
        "import matplotlib.pyplot as plt\n",
        "test_image1 = x_train[10]\n",
        "test_image2 = x_train[25]\n",
        "\n",
        "plt.imshow(test_image1)"
      ],
      "execution_count": null,
      "outputs": [
        {
          "output_type": "execute_result",
          "data": {
            "text/plain": [
              "<matplotlib.image.AxesImage at 0x7f3d6f118190>"
            ]
          },
          "metadata": {},
          "execution_count": 5
        },
        {
          "output_type": "display_data",
          "data": {
            "image/png": "[encoded data removed]",
            "text/plain": [
              "<Figure size 432x288 with 1 Axes>"
            ]
          },
          "metadata": {
            "needs_background": "light"
          }
        }
      ]
    },
    {
      "cell_type": "code",
      "metadata": {
        "id": "F7Gt5_l0aViP",
        "colab": {
          "base_uri": "https://localhost:8080/",
          "height": 284
        },
        "outputId": "71f92680-004e-439b-a55b-a2ae875d796c"
      },
      "source": [
        "plt.imshow(test_image2)"
      ],
      "execution_count": null,
      "outputs": [
        {
          "output_type": "execute_result",
          "data": {
            "text/plain": [
              "<matplotlib.image.AxesImage at 0x7f3d6ebbb350>"
            ]
          },
          "metadata": {},
          "execution_count": 6
        },
        {
          "output_type": "display_data",
          "data": {
            "image/png": "[encoded data removed]",
            "text/plain": [
              "<Figure size 432x288 with 1 Axes>"
            ]
          },
          "metadata": {
            "needs_background": "light"
          }
        }
      ]
    },
    {
      "cell_type": "code",
      "metadata": {
        "id": "waLIjdshZZzN"
      },
      "source": [
        "import torch\n",
        "import numpy as np\n",
        "\n",
        "def apply_mask(image, size=12, n_squares=1):\n",
        "    h, w, channels = image.shape\n",
        "    new_image = image\n",
        "    for _ in range(n_squares):\n",
        "        y = np.random.randint(h)\n",
        "        x = np.random.randint(w)\n",
        "        y1 = np.clip(y - size // 2, 0, h)\n",
        "        y2 = np.clip(y + size // 2, 0, h)\n",
        "        x1 = np.clip(x - size // 2, 0, w)\n",
        "        x2 = np.clip(x + size // 2, 0, w)\n",
        "        new_image[y1:y2,x1:x2,:] = 0\n",
        "    return new_image"
      ],
      "execution_count": null,
      "outputs": []
    },
    {
      "cell_type": "code",
      "metadata": {
        "id": "HPvemqEEdbie",
        "colab": {
          "base_uri": "https://localhost:8080/",
          "height": 284
        },
        "outputId": "d2d2a1d4-dd10-4054-a9b2-4647e531aa43"
      },
      "source": [
        "plt.imshow(apply_mask(test_image1))"
      ],
      "execution_count": null,
      "outputs": [
        {
          "output_type": "execute_result",
          "data": {
            "text/plain": [
              "<matplotlib.image.AxesImage at 0x7f3c7b8fe250>"
            ]
          },
          "metadata": {},
          "execution_count": 10
        },
        {
          "output_type": "display_data",
          "data": {
            "image/png": "[encoded data removed]",
            "text/plain": [
              "<Figure size 432x288 with 1 Axes>"
            ]
          },
          "metadata": {
            "needs_background": "light"
          }
        }
      ]
    },
    {
      "cell_type": "code",
      "metadata": {
        "id": "LmXvdg7CdiNi",
        "colab": {
          "base_uri": "https://localhost:8080/",
          "height": 284
        },
        "outputId": "1c29e142-5c62-4b64-951b-37a8fdae6b49"
      },
      "source": [
        "plt.imshow(apply_mask(test_image2))"
      ],
      "execution_count": null,
      "outputs": [
        {
          "output_type": "execute_result",
          "data": {
            "text/plain": [
              "<matplotlib.image.AxesImage at 0x7f3c7b9039d0>"
            ]
          },
          "metadata": {},
          "execution_count": 9
        },
        {
          "output_type": "display_data",
          "data": {
            "image/png": "[encoded data removed]",
            "text/plain": [
              "<Figure size 432x288 with 1 Axes>"
            ]
          },
          "metadata": {
            "needs_background": "light"
          }
        }
      ]
    },
    {
      "cell_type": "markdown",
      "metadata": {
        "id": "iD-Y0KRTeM32"
      },
      "source": [
        "#4-2"
      ]
    },
    {
      "cell_type": "code",
      "metadata": {
        "id": "1vEYnPQUePiR"
      },
      "source": [
        "from __future__ import absolute_import\n",
        "from __future__ import division\n",
        "from __future__ import print_function\n",
        "\n",
        "from tensorflow.keras.layers import Dense, Conv2D\n",
        "from tensorflow.keras.layers import BatchNormalization, Activation\n",
        "from tensorflow.keras.layers import AveragePooling2D, Input\n",
        "from tensorflow.keras.layers import Flatten, add\n",
        "from tensorflow.keras.optimizers import Adam\n",
        "from tensorflow.keras.callbacks import ModelCheckpoint, LearningRateScheduler\n",
        "from tensorflow.keras.callbacks import ReduceLROnPlateau\n",
        "from tensorflow.keras.preprocessing.image import ImageDataGenerator\n",
        "from tensorflow.keras.regularizers import l2\n",
        "from tensorflow.keras.models import Model\n",
        "from tensorflow.keras.datasets import cifar10\n",
        "from tensorflow.keras.utils import plot_model\n",
        "from tensorflow.keras.utils import to_categorical\n",
        "import numpy as np\n",
        "import os\n",
        "import math\n",
        "\n",
        "# training parameters\n",
        "batch_size = 64 # orig paper trained all networks with batch_size=128\n",
        "epochs = 10\n",
        "data_augmentation = True\n",
        "num_classes = 10\n",
        "\n",
        "# subtracting pixel mean improves accuracy\n",
        "subtract_pixel_mean = True\n",
        "\n",
        "# Model parameter\n",
        "# ----------------------------------------------------------------------------\n",
        "#           |      | 200-epoch | Orig Paper| 200-epoch | Orig Paper| sec/epoch\n",
        "# Model     |  n   | ResNet v1 | ResNet v1 | ResNet v2 | ResNet v2 | GTX1080Ti\n",
        "#           |v1(v2)| %Accuracy | %Accuracy | %Accuracy | %Accuracy | v1 (v2)\n",
        "# ----------------------------------------------------------------------------\n",
        "# ResNet20  | 3 (2)| 92.16     | 91.25     | -----     | -----     | 35 (---)\n",
        "# ResNet32  | 5(NA)| 92.46     | 92.49     | NA        | NA        | 50 ( NA)\n",
        "# ResNet44  | 7(NA)| 92.50     | 92.83     | NA        | NA        | 70 ( NA)\n",
        "# ResNet56  | 9 (6)| 92.71     | 93.03     | 93.01     | NA        | 90 (100)\n",
        "# ResNet110 |18(12)| 92.65     | 93.39+-.16| 93.15     | 93.63     | 165(180)\n",
        "# ResNet164 |27(18)| -----     | 94.07     | -----     | 94.54     | ---(---)\n",
        "# ResNet1001| (111)| -----     | 92.39     | -----     | 95.08+-.14| ---(---)\n",
        "# ---------------------------------------------------------------------------\n",
        "n = 3\n",
        "\n",
        "# model version\n",
        "# orig paper: version = 1 (ResNet v1), \n",
        "# improved ResNet: version = 2 (ResNet v2)\n",
        "version = 1\n",
        "\n",
        "# computed depth from supplied model parameter n\n",
        "if version == 1:\n",
        "    depth = n * 6 + 2\n",
        "elif version == 2:\n",
        "    depth = n * 9 + 2\n",
        "\n",
        "# model name, depth and version\n",
        "model_type = 'ResNet%dv%d' % (depth, version)\n",
        "\n",
        "# load the CIFAR10 data.\n",
        "(x_train, y_train), (x_test, y_test) = cifar10.load_data()\n",
        "\n",
        "# input image dimensions.\n",
        "input_shape = x_train.shape[1:]\n",
        "\n",
        "# normalize data.\n",
        "x_train = x_train.astype('float32') / 255\n",
        "x_test = x_test.astype('float32') / 255\n",
        "\n",
        "# if subtract pixel mean is enabled\n",
        "if subtract_pixel_mean:\n",
        "    x_train_mean = np.mean(x_train, axis=0)\n",
        "    x_train -= x_train_mean\n",
        "    x_test -= x_train_mean\n",
        "\n",
        "print('x_train shape:', x_train.shape)\n",
        "print(x_train.shape[0], 'train samples')\n",
        "print(x_test.shape[0], 'test samples')\n",
        "print('y_train shape:', y_train.shape)\n",
        "\n",
        "# convert class vectors to binary class matrices.\n",
        "y_train = to_categorical(y_train, num_classes)\n",
        "y_test = to_categorical(y_test, num_classes)\n",
        "\n",
        "\n",
        "def lr_schedule(epoch):\n",
        "    \"\"\"Learning Rate Schedule\n",
        "    Learning rate is scheduled to be reduced after 80, 120, 160, 180 epochs.\n",
        "    Called automatically every epoch as part of callbacks during training.\n",
        "    # Arguments\n",
        "        epoch (int): The number of epochs\n",
        "    # Returns\n",
        "        lr (float32): learning rate\n",
        "    \"\"\"\n",
        "    lr = 1e-3\n",
        "    if epoch > 180:\n",
        "        lr *= 0.5e-3\n",
        "    elif epoch > 160:\n",
        "        lr *= 1e-3\n",
        "    elif epoch > 120:\n",
        "        lr *= 1e-2\n",
        "    elif epoch > 80:\n",
        "        lr *= 1e-1\n",
        "    print('Learning rate: ', lr)\n",
        "    return lr\n",
        "\n",
        "\n",
        "def resnet_layer(inputs,\n",
        "                 num_filters=16,\n",
        "                 kernel_size=3,\n",
        "                 strides=1,\n",
        "                 activation='relu',\n",
        "                 batch_normalization=True,\n",
        "                 conv_first=True):\n",
        "    \"\"\"2D Convolution-Batch Normalization-Activation stack builder\n",
        "    Arguments:\n",
        "        inputs (tensor): input tensor from input image or previous layer\n",
        "        num_filters (int): Conv2D number of filters\n",
        "        kernel_size (int): Conv2D square kernel dimensions\n",
        "        strides (int): Conv2D square stride dimensions\n",
        "        activation (string): activation name\n",
        "        batch_normalization (bool): whether to include batch normalization\n",
        "        conv_first (bool): conv-bn-activation (True) or\n",
        "            bn-activation-conv (False)\n",
        "    Returns:\n",
        "        x (tensor): tensor as input to the next layer\n",
        "    \"\"\"\n",
        "    conv = Conv2D(num_filters,\n",
        "                  kernel_size=kernel_size,\n",
        "                  strides=strides,\n",
        "                  padding='same',\n",
        "                  kernel_initializer='he_normal',\n",
        "                  kernel_regularizer=l2(1e-4))\n",
        "\n",
        "    x = inputs\n",
        "    if conv_first:\n",
        "        x = conv(x)\n",
        "        if batch_normalization:\n",
        "            x = BatchNormalization()(x)\n",
        "        if activation is not None:\n",
        "            x = Activation(activation)(x)\n",
        "    else:\n",
        "        if batch_normalization:\n",
        "            x = BatchNormalization()(x)\n",
        "        if activation is not None:\n",
        "            x = Activation(activation)(x)\n",
        "        x = conv(x)\n",
        "    return x\n",
        "\n",
        "\n",
        "def resnet_v1(input_shape, depth, num_classes=10):\n",
        "    \"\"\"ResNet Version 1 Model builder [a]\n",
        "    Stacks of 2 x (3 x 3) Conv2D-BN-ReLU\n",
        "    Last ReLU is after the shortcut connection.\n",
        "    At the beginning of each stage, the feature map size is halved\n",
        "    (downsampled) by a convolutional layer with strides=2, while \n",
        "    the number of filters is doubled. Within each stage, \n",
        "    the layers have the same number filters and the\n",
        "    same number of filters.\n",
        "    Features maps sizes:\n",
        "    stage 0: 32x32, 16\n",
        "    stage 1: 16x16, 32\n",
        "    stage 2:  8x8,  64\n",
        "    The Number of parameters is approx the same as Table 6 of [a]:\n",
        "    ResNet20 0.27M\n",
        "    ResNet32 0.46M\n",
        "    ResNet44 0.66M\n",
        "    ResNet56 0.85M\n",
        "    ResNet110 1.7M\n",
        "    Arguments:\n",
        "        input_shape (tensor): shape of input image tensor\n",
        "        depth (int): number of core convolutional layers\n",
        "        num_classes (int): number of classes (CIFAR10 has 10)\n",
        "    Returns:\n",
        "        model (Model): Keras model instance\n",
        "    \"\"\"\n",
        "    if (depth - 2) % 6 != 0:\n",
        "        raise ValueError('depth should be 6n+2 (eg 20, 32, in [a])')\n",
        "    # start model definition.\n",
        "    num_filters = 16\n",
        "    num_res_blocks = int((depth - 2) / 6)\n",
        "\n",
        "    inputs = Input(shape=input_shape)\n",
        "    x = resnet_layer(inputs=inputs)\n",
        "    # instantiate the stack of residual units\n",
        "    for stack in range(3):\n",
        "        for res_block in range(num_res_blocks):\n",
        "            strides = 1\n",
        "            # first layer but not first stack\n",
        "            if stack > 0 and res_block == 0:  \n",
        "                strides = 2  # downsample\n",
        "            y = resnet_layer(inputs=x,\n",
        "                             num_filters=num_filters,\n",
        "                             strides=strides)\n",
        "            y = resnet_layer(inputs=y,\n",
        "                             num_filters=num_filters,\n",
        "                             activation=None)\n",
        "            # first layer but not first stack\n",
        "            if stack > 0 and res_block == 0:\n",
        "                # linear projection residual shortcut\n",
        "                # connection to match changed dims\n",
        "                x = resnet_layer(inputs=x,\n",
        "                                 num_filters=num_filters,\n",
        "                                 kernel_size=1,\n",
        "                                 strides=strides,\n",
        "                                 activation=None,\n",
        "                                 batch_normalization=False)\n",
        "            x = add([x, y])\n",
        "            x = Activation('relu')(x)\n",
        "        num_filters *= 2\n",
        "\n",
        "    # add classifier on top.\n",
        "    # v1 does not use BN after last shortcut connection-ReLU\n",
        "    x = AveragePooling2D(pool_size=8)(x)\n",
        "    y = Flatten()(x)\n",
        "    outputs = Dense(num_classes,\n",
        "                    activation='softmax',\n",
        "                    kernel_initializer='he_normal')(y)\n",
        "\n",
        "    # instantiate model.\n",
        "    model = Model(inputs=inputs, outputs=outputs)\n",
        "    return model\n",
        "\n",
        "\n",
        "def resnet_v2(input_shape, depth, num_classes=10):\n",
        "    \"\"\"ResNet Version 2 Model builder [b]\n",
        "    Stacks of (1 x 1)-(3 x 3)-(1 x 1) BN-ReLU-Conv2D or \n",
        "    also known as bottleneck layer.\n",
        "    First shortcut connection per layer is 1 x 1 Conv2D.\n",
        "    Second and onwards shortcut connection is identity.\n",
        "    At the beginning of each stage, \n",
        "    the feature map size is halved (downsampled)\n",
        "    by a convolutional layer with strides=2, \n",
        "    while the number of filter maps is\n",
        "    doubled. Within each stage, the layers have \n",
        "    the same number filters and the same filter map sizes.\n",
        "    Features maps sizes:\n",
        "    conv1  : 32x32,  16\n",
        "    stage 0: 32x32,  64\n",
        "    stage 1: 16x16, 128\n",
        "    stage 2:  8x8,  256\n",
        "    Arguments:\n",
        "        input_shape (tensor): shape of input image tensor\n",
        "        depth (int): number of core convolutional layers\n",
        "        num_classes (int): number of classes (CIFAR10 has 10)\n",
        "    Returns:\n",
        "        model (Model): Keras model instance\n",
        "    \"\"\"\n",
        "    if (depth - 2) % 9 != 0:\n",
        "        raise ValueError('depth should be 9n+2 (eg 110 in [b])')\n",
        "    # start model definition.\n",
        "    num_filters_in = 16\n",
        "    num_res_blocks = int((depth - 2) / 9)\n",
        "\n",
        "    inputs = Input(shape=input_shape)\n",
        "    # v2 performs Conv2D with BN-ReLU\n",
        "    # on input before splitting into 2 paths\n",
        "    x = resnet_layer(inputs=inputs,\n",
        "                     num_filters=num_filters_in,\n",
        "                     conv_first=True)\n",
        "\n",
        "    # instantiate the stack of residual units\n",
        "    for stage in range(3):\n",
        "        for res_block in range(num_res_blocks):\n",
        "            activation = 'relu'\n",
        "            batch_normalization = True\n",
        "            strides = 1\n",
        "            if stage == 0:\n",
        "                num_filters_out = num_filters_in * 4\n",
        "                # first layer and first stage\n",
        "                if res_block == 0:  \n",
        "                    activation = None\n",
        "                    batch_normalization = False\n",
        "            else:\n",
        "                num_filters_out = num_filters_in * 2\n",
        "                # first layer but not first stage\n",
        "                if res_block == 0:\n",
        "                    # downsample\n",
        "                    strides = 2 \n",
        "\n",
        "            # bottleneck residual unit\n",
        "            y = resnet_layer(inputs=x,\n",
        "                             num_filters=num_filters_in,\n",
        "                             kernel_size=1,\n",
        "                             strides=strides,\n",
        "                             activation=activation,\n",
        "                             batch_normalization=batch_normalization,\n",
        "                             conv_first=False)\n",
        "            y = resnet_layer(inputs=y,\n",
        "                             num_filters=num_filters_in,\n",
        "                             conv_first=False)\n",
        "            y = resnet_layer(inputs=y,\n",
        "                             num_filters=num_filters_out,\n",
        "                             kernel_size=1,\n",
        "                             conv_first=False)\n",
        "            if res_block == 0:\n",
        "                # linear projection residual shortcut connection\n",
        "                # to match changed dims\n",
        "                x = resnet_layer(inputs=x,\n",
        "                                 num_filters=num_filters_out,\n",
        "                                 kernel_size=1,\n",
        "                                 strides=strides,\n",
        "                                 activation=None,\n",
        "                                 batch_normalization=False)\n",
        "            x = add([x, y])\n",
        "\n",
        "        num_filters_in = num_filters_out\n",
        "\n",
        "    # add classifier on top.\n",
        "    # v2 has BN-ReLU before Pooling\n",
        "    x = BatchNormalization()(x)\n",
        "    x = Activation('relu')(x)\n",
        "    x = AveragePooling2D(pool_size=8)(x)\n",
        "    y = Flatten()(x)\n",
        "    outputs = Dense(num_classes,\n",
        "                    activation='softmax',\n",
        "                    kernel_initializer='he_normal')(y)\n",
        "\n",
        "    # instantiate model.\n",
        "    model = Model(inputs=inputs, outputs=outputs)\n",
        "    return model\n",
        "\n",
        "\n",
        "if version == 2:\n",
        "    model = resnet_v2(input_shape=input_shape, depth=depth)\n",
        "else:\n",
        "    model = resnet_v1(input_shape=input_shape, depth=depth)\n",
        "\n",
        "model.compile(loss='categorical_crossentropy',\n",
        "              optimizer=Adam(lr=lr_schedule(0)),\n",
        "              metrics=['acc'])\n",
        "model.summary()\n",
        "\n",
        "# enable this if pydot can be installed\n",
        "# pip install pydot\n",
        "#plot_model(model, to_file=\"%s.png\" % model_type, show_shapes=True)\n",
        "print(model_type)\n",
        "\n",
        "# prepare model model saving directory.\n",
        "save_dir = os.path.join(os.getcwd(), 'saved_models')\n",
        "model_name = 'cifar10_%s_model.{epoch:03d}.h5' % model_type\n",
        "if not os.path.isdir(save_dir):\n",
        "    os.makedirs(save_dir)\n",
        "filepath = os.path.join(save_dir, model_name)\n",
        "\n",
        "# prepare callbacks for model saving and for learning rate adjustment.\n",
        "checkpoint = ModelCheckpoint(filepath=filepath,\n",
        "                             monitor='val_acc',\n",
        "                             verbose=1,\n",
        "                             save_best_only=True)\n",
        "\n",
        "lr_scheduler = LearningRateScheduler(lr_schedule)\n",
        "\n",
        "lr_reducer = ReduceLROnPlateau(factor=np.sqrt(0.1),\n",
        "                               cooldown=0,\n",
        "                               patience=5,\n",
        "                               min_lr=0.5e-6)\n",
        "\n",
        "callbacks = [checkpoint, lr_reducer, lr_scheduler]\n",
        "\n",
        "# run training, with or without data augmentation.\n",
        "if not data_augmentation:\n",
        "    print('Not using data augmentation.')\n",
        "    model.fit(x_train, y_train,\n",
        "              batch_size=batch_size,\n",
        "              epochs=epochs,\n",
        "              validation_data=(x_test, y_test),\n",
        "              shuffle=True,\n",
        "              callbacks=callbacks)\n",
        "else:\n",
        "    print('Using real-time data augmentation.')\n",
        "    # this will do preprocessing and realtime data augmentation:\n",
        "    datagen = ImageDataGenerator(\n",
        "        # set input mean to 0 over the dataset\n",
        "        featurewise_center=False,\n",
        "        # set each sample mean to 0\n",
        "        samplewise_center=False,\n",
        "        # divide inputs by std of dataset\n",
        "        featurewise_std_normalization=False,\n",
        "        # divide each input by its std\n",
        "        samplewise_std_normalization=False,\n",
        "        # apply ZCA whitening\n",
        "        zca_whitening=False,\n",
        "        # randomly rotate images in the range (deg 0 to 180)\n",
        "        rotation_range=0,\n",
        "        # randomly shift images horizontally\n",
        "        width_shift_range=0.1,\n",
        "        # randomly shift images vertically\n",
        "        height_shift_range=0.1,\n",
        "        # randomly flip images\n",
        "        horizontal_flip=True,\n",
        "        # randomly flip images\n",
        "        vertical_flip=False)\n",
        "\n",
        "    # compute quantities required for featurewise normalization\n",
        "    # (std, mean, and principal components if ZCA whitening is applied).\n",
        "    datagen.fit(x_train)\n",
        "\n",
        "    steps_per_epoch =  math.ceil(len(x_train) / batch_size)\n",
        "    # fit the model on the batches generated by datagen.flow().\n",
        "    history = model.fit(x=datagen.flow(x_train, y_train, batch_size=batch_size),\n",
        "              verbose=1,\n",
        "              epochs=epochs,\n",
        "              validation_data=(x_test, y_test),\n",
        "              steps_per_epoch=steps_per_epoch,\n",
        "              callbacks=callbacks)\n",
        "\n",
        "\n",
        "# score trained model\n",
        "plt.plot(history.history['val_loss'])\n",
        "plt.xlabel('Epochs')\n",
        "plt.ylabel('Test Loss')\n",
        "plt.title('Epochs vs Test Loss')\n",
        "plt.grid()"
      ],
      "execution_count": null,
      "outputs": []
    },
    {
      "cell_type": "code",
      "metadata": {
        "id": "tgraP3dKEOI0"
      },
      "source": [
        "import numpy as np\n",
        "\n",
        "\n",
        "def get_random_eraser(p=0.5, s_l=0.02, s_h=0.4, r_1=0.3, r_2=1/0.3, v_l=0, v_h=255, pixel_level=False):\n",
        "    def eraser(input_img):\n",
        "        if input_img.ndim == 3:\n",
        "            img_h, img_w, img_c = input_img.shape\n",
        "        elif input_img.ndim == 2:\n",
        "            img_h, img_w = input_img.shape\n",
        "\n",
        "        p_1 = np.random.rand()\n",
        "\n",
        "        if p_1 > p:\n",
        "            return input_img\n",
        "\n",
        "        while True:\n",
        "            s = np.random.uniform(s_l, s_h) * img_h * img_w\n",
        "            r = np.random.uniform(r_1, r_2)\n",
        "            w = int(np.sqrt(s / r))\n",
        "            h = int(np.sqrt(s * r))\n",
        "            left = np.random.randint(0, img_w)\n",
        "            top = np.random.randint(0, img_h)\n",
        "\n",
        "            if left + w <= img_w and top + h <= img_h:\n",
        "                break\n",
        "\n",
        "        if pixel_level:\n",
        "            if input_img.ndim == 3:\n",
        "                c = np.random.uniform(v_l, v_h, (h, w, img_c))\n",
        "            if input_img.ndim == 2:\n",
        "                c = np.random.uniform(v_l, v_h, (h, w))\n",
        "        else:\n",
        "            c = np.random.uniform(v_l, v_h)\n",
        "\n",
        "        input_img[top:top + h, left:left + w] = c\n",
        "\n",
        "        return input_img\n",
        "\n",
        "    return eraser"
      ],
      "execution_count": null,
      "outputs": []
    },
    {
      "cell_type": "markdown",
      "metadata": {
        "id": "kmJxz2TRdhEH"
      },
      "source": [
        "4-3"
      ]
    },
    {
      "cell_type": "code",
      "metadata": {
        "id": "qHpypgPzEZGI"
      },
      "source": [
        "import numpy as np\n",
        "from tensorflow.keras.datasets import cifar10\n",
        "from __future__ import print_function\n",
        "import keras\n",
        "from keras.layers import Dense, Conv2D, BatchNormalization, Activation\n",
        "from keras.layers import MaxPooling2D, AveragePooling2D, Input, Flatten\n",
        "from tensorflow.keras.optimizers import Adam\n",
        "from keras.callbacks import ModelCheckpoint, ReduceLROnPlateau\n",
        "from keras.preprocessing.image import ImageDataGenerator\n",
        "from keras.regularizers import l2\n",
        "from keras import backend as K\n",
        "from keras.models import Model\n",
        "from keras.datasets import cifar10\n",
        "import numpy as np\n",
        "import os\n",
        "\n",
        "(x_train, y_train), (x_test, y_test) = cifar10.load_data()\n",
        "# Data normalization\n",
        "m, std = np.mean(x_train), np.std(x_train)\n",
        "x_train = (x_train - m)/std\n",
        "x_test = (x_test - m)/std\n",
        "y_train = keras.utils.np_utils.to_categorical(y_train)\n",
        "y_test = keras.utils.np_utils.to_categorical(y_test)\n",
        "print('x_train shape:', x_train.shape)\n",
        "print(x_train.shape[0], 'train samples')\n",
        "print(x_test.shape[0], 'test samples')"
      ],
      "execution_count": null,
      "outputs": []
    },
    {
      "cell_type": "code",
      "metadata": {
        "id": "WksyCT6BtMV_"
      },
      "source": [
        "def resnet_v1(input_shape, depth, num_classes=10):\n",
        "    \"\"\"ResNet Version 1 Model builder [a]\n",
        "    Stacks of 2 x (3 x 3) Conv2D-BN-ReLU\n",
        "    Last ReLU is after the shortcut connection.\n",
        "    At the beginning of each stage, the feature map size is halved\n",
        "    (downsampled) by a convolutional layer with strides=2, while \n",
        "    the number of filters is doubled. Within each stage, \n",
        "    the layers have the same number filters and the\n",
        "    same number of filters.\n",
        "    Features maps sizes:\n",
        "    stage 0: 32x32, 16\n",
        "    stage 1: 16x16, 32\n",
        "    stage 2:  8x8,  64\n",
        "    The Number of parameters is approx the same as Table 6 of [a]:\n",
        "    ResNet20 0.27M\n",
        "    ResNet32 0.46M\n",
        "    ResNet44 0.66M\n",
        "    ResNet56 0.85M\n",
        "    ResNet110 1.7M\n",
        "    Arguments:\n",
        "        input_shape (tensor): shape of input image tensor\n",
        "        depth (int): number of core convolutional layers\n",
        "        num_classes (int): number of classes (CIFAR10 has 10)\n",
        "    Returns:\n",
        "        model (Model): Keras model instance\n",
        "    \"\"\"\n",
        "    if (depth - 2) % 6 != 0:\n",
        "        raise ValueError('depth should be 6n+2 (eg 20, 32, in [a])')\n",
        "    # start model definition.\n",
        "    num_filters = 16\n",
        "    num_res_blocks = int((depth - 2) / 6)\n",
        "\n",
        "    inputs = Input(shape=input_shape)\n",
        "    x = resnet_layer(inputs=inputs)\n",
        "    # instantiate the stack of residual units\n",
        "    for stack in range(3):\n",
        "        for res_block in range(num_res_blocks):\n",
        "            strides = 1\n",
        "            # first layer but not first stack\n",
        "            if stack > 0 and res_block == 0:  \n",
        "                strides = 2  # downsample\n",
        "            y = resnet_layer(inputs=x,\n",
        "                             num_filters=num_filters,\n",
        "                             strides=strides)\n",
        "            y = resnet_layer(inputs=y,\n",
        "                             num_filters=num_filters,\n",
        "                             activation=None)\n",
        "            # first layer but not first stack\n",
        "            if stack > 0 and res_block == 0:\n",
        "                # linear projection residual shortcut\n",
        "                # connection to match changed dims\n",
        "                x = resnet_layer(inputs=x,\n",
        "                                 num_filters=num_filters,\n",
        "                                 kernel_size=1,\n",
        "                                 strides=strides,\n",
        "                                 activation=None,\n",
        "                                 batch_normalization=False)\n",
        "            x = add([x, y])\n",
        "            x = Activation('relu')(x)\n",
        "        num_filters *= 2\n",
        "\n",
        "    # add classifier on top.\n",
        "    # v1 does not use BN after last shortcut connection-ReLU\n",
        "    x = AveragePooling2D(pool_size=8)(x)\n",
        "    y = Flatten()(x)\n",
        "    outputs = Dense(num_classes,\n",
        "                    activation='softmax',\n",
        "                    kernel_initializer='he_normal')(y)\n",
        "\n",
        "    # instantiate model.\n",
        "    model = Model(inputs=inputs, outputs=outputs)\n",
        "    return model\n",
        "def resnet_layer(inputs,\n",
        "                 num_filters=16,\n",
        "                 kernel_size=3,\n",
        "                 strides=1,\n",
        "                 activation='relu',\n",
        "                 batch_normalization=True,\n",
        "                 conv_first=True):\n",
        "    \"\"\"2D Convolution-Batch Normalization-Activation stack builder\n",
        "    Arguments:\n",
        "        inputs (tensor): input tensor from input image or previous layer\n",
        "        num_filters (int): Conv2D number of filters\n",
        "        kernel_size (int): Conv2D square kernel dimensions\n",
        "        strides (int): Conv2D square stride dimensions\n",
        "        activation (string): activation name\n",
        "        batch_normalization (bool): whether to include batch normalization\n",
        "        conv_first (bool): conv-bn-activation (True) or\n",
        "            bn-activation-conv (False)\n",
        "    Returns:\n",
        "        x (tensor): tensor as input to the next layer\n",
        "    \"\"\"\n",
        "    conv = Conv2D(num_filters,\n",
        "                  kernel_size=kernel_size,\n",
        "                  strides=strides,\n",
        "                  padding='same',\n",
        "                  kernel_initializer='he_normal',\n",
        "                  kernel_regularizer=l2(1e-4))\n",
        "\n",
        "    x = inputs\n",
        "    if conv_first:\n",
        "        x = conv(x)\n",
        "        if batch_normalization:\n",
        "            x = BatchNormalization()(x)\n",
        "        if activation is not None:\n",
        "            x = Activation(activation)(x)\n",
        "    else:\n",
        "        if batch_normalization:\n",
        "            x = BatchNormalization()(x)\n",
        "        if activation is not None:\n",
        "            x = Activation(activation)(x)\n",
        "        x = conv(x)\n",
        "    return x"
      ],
      "execution_count": null,
      "outputs": []
    },
    {
      "cell_type": "code",
      "metadata": {
        "id": "2km7FI33tObH"
      },
      "source": [
        "def lr_schedule(epoch):\n",
        "    lr = 1e-3\n",
        "    if epoch > 85:\n",
        "        lr *= 0.5e-3\n",
        "    elif epoch > 75:\n",
        "        lr *= 1e-3\n",
        "    elif epoch > 65:\n",
        "        lr *= 1e-2\n",
        "    elif epoch > 50:\n",
        "        lr *= 1e-1\n",
        "    print('Learning rate:', lr)\n",
        "    return lr\n",
        "lr_scheduler = keras.callbacks.LearningRateScheduler(lr_schedule)"
      ],
      "execution_count": null,
      "outputs": []
    },
    {
      "cell_type": "code",
      "metadata": {
        "id": "Z8YHj6yEtPsE"
      },
      "source": [
        "def batch_generator(x, y, epochs, m, batch_size, augment=None):\n",
        "    for _ in range(epochs):\n",
        "        n = x.shape[0]\n",
        "        reorder = np.random.permutation(n)\n",
        "        cursor = 0\n",
        "        while cursor + batch_size < x.shape[0]:\n",
        "            x_batch = x[reorder[cursor:cursor+batch_size]]\n",
        "            y_batch = y[reorder[cursor:cursor+batch_size]]\n",
        "            if augment != None:\n",
        "                yield np.array([augment(xx) for xx in x_batch for rep in range(m)]), np.array([yy for yy in y_batch for rep in range(m)])\n",
        "            else:\n",
        "                yield x_batch, y_batch\n",
        "            cursor += batch_size"
      ],
      "execution_count": null,
      "outputs": []
    },
    {
      "cell_type": "code",
      "metadata": {
        "id": "i9jICDGOtQ6R"
      },
      "source": [
        "import torch\n",
        "import numpy as np\n",
        "\n",
        "def apply_mask(image, size=12, n_squares=1):\n",
        "    h, w, channels = image.shape\n",
        "    new_image = image\n",
        "    for _ in range(n_squares):\n",
        "        y = np.random.randint(h)\n",
        "        x = np.random.randint(w)\n",
        "        y1 = np.clip(y - size // 2, 0, h)\n",
        "        y2 = np.clip(y + size // 2, 0, h)\n",
        "        x1 = np.clip(x - size // 2, 0, w)\n",
        "        x2 = np.clip(x + size // 2, 0, w)\n",
        "        new_image[y1:y2,x1:x2,:] = 0\n",
        "    return new_image"
      ],
      "execution_count": null,
      "outputs": []
    },
    {
      "cell_type": "code",
      "metadata": {
        "id": "u-syujeBtSDx"
      },
      "source": [
        "import time\n",
        "import tensorflow as tf\n",
        "from tensorflow.keras.layers import Flatten, add\n",
        "\n",
        "val_acc_cutout = []\n",
        "epochs = 100\n",
        "durations = []\n",
        "for i in [2,4,8,16,32]:\n",
        "    model = resnet_v1(\n",
        "        input_shape=x_train.shape[1:],\n",
        "        depth=44\n",
        "    )      \n",
        "    model.compile(\n",
        "        loss='categorical_crossentropy',\n",
        "        optimizer=tf.keras.optimizers.RMSprop(),\n",
        "        metrics=['accuracy']\n",
        "    )    \n",
        "    duration = time.time()\n",
        "    hist = model.fit(\n",
        "        batch_generator(\n",
        "            x_train,\n",
        "            y_train,\n",
        "            m=i,\n",
        "            batch_size=64,\n",
        "            epochs=100, \n",
        "            augment=apply_mask\n",
        "        ),\n",
        "        epochs=1, \n",
        "        validation_data=(x_test,y_test),\n",
        "        steps_per_epoch=np.floor(x_train.shape[0]/64.0),\n",
        "        verbose=0,\n",
        "        callbacks=[lr_scheduler]\n",
        "    )\n",
        "    durations.append(time.time()-duration)\n",
        "    val_acc_cutout.append(hist.history['val_accuracy'])"
      ],
      "execution_count": null,
      "outputs": []
    },
    {
      "cell_type": "code",
      "metadata": {
        "id": "5OTdPqBJtTr-"
      },
      "source": [
        "def opp(l):\n",
        "    return [1-el for el in l]\n",
        "cutout2_data, cutout4_data, cutout8_data, cutout16_data,    \n",
        "  cutout32_data = val_acc_cutout\n",
        "plt.plot(range(1,101),opp(simple_val_acc),\"y-\")\n",
        "plt.plot(range(1,101),opp(cutout2_data),\"b-\")\n",
        "plt.plot(range(1,101),opp(cutout4_data),\"c-\")\n",
        "plt.plot(range(1,101),opp(cutout8_data),\"g-\")\n",
        "plt.plot(range(1,101),opp(cutout16_data),\"r-\")\n",
        "plt.plot(range(1,101),opp(cutout32_data),\"m-\")\n",
        "plt.legend([\"M=0\",\"M=2\",\"M=4\",\"M=8\",\"M=16\",\"M=32\"])\n",
        "plt.plot(np.linspace(0,100,10000),[0.06]*10000,\"k-\")\n",
        "plt.title(\"Validation error for M instances with cutout generated from each input\")\n",
        "plt.xlabel(\"Number of epochs\")\n",
        "plt.ylabel(\"Validation error\")\n",
        "plt.savefig(\"acc_cutout.png\")\n",
        "plt.show()"
      ],
      "execution_count": null,
      "outputs": []
    }
  ]
}