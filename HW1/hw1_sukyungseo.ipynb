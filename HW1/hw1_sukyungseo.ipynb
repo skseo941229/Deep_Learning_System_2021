{
 "cells": [
  {
   "cell_type": "markdown",
   "id": "b9771cc3",
   "metadata": {},
   "source": [
    "Sukyung Seo (ss13969)\n",
    "HW 1"
   ]
  },
  {
   "cell_type": "code",
   "execution_count": 3,
   "id": "175edecb",
   "metadata": {},
   "outputs": [
    {
     "data": {
      "text/plain": [
       "<matplotlib.collections.PathCollection at 0x2076225af70>"
      ]
     },
     "execution_count": 3,
     "metadata": {},
     "output_type": "execute_result"
    },
    {
     "data": {
      "image/png": "[encoded data removed]",
      "text/plain": [
       "<Figure size 432x288 with 1 Axes>"
      ]
     },
     "metadata": {
      "needs_background": "light"
     },
     "output_type": "display_data"
    }
   ],
   "source": [
    "#1-1\n",
    "import matplotlib.pyplot as plt\n",
    "import numpy as np\n",
    "x_coordinates_1 = [-1, 1, -3, 4]\n",
    "y_coordinates_1 = [-1, 1, -3, 4]\n",
    "\n",
    "x_coordinates_2 = [-1,1,-5, 4]\n",
    "y_coordinates_2 = [1, -1, 2, -8]\n",
    "plt.scatter(x_coordinates_1, y_coordinates_1,marker ='o' )\n",
    "plt.scatter(x_coordinates_2, y_coordinates_2,marker ='x' )"
   ]
  },
  {
   "cell_type": "markdown",
   "id": "79c8c989",
   "metadata": {},
   "source": [
    "1-1 answer : This is not linearly separable. There is no line to separate these two features (x1, x2)  "
   ]
  },
  {
   "cell_type": "code",
   "execution_count": 4,
   "id": "5bdeb276",
   "metadata": {},
   "outputs": [
    {
     "data": {
      "text/plain": [
       "[<matplotlib.lines.Line2D at 0x207622da520>]"
      ]
     },
     "execution_count": 4,
     "metadata": {},
     "output_type": "execute_result"
    },
    {
     "data": {
      "image/png": "[encoded data removed]",
      "text/plain": [
       "<Figure size 432x288 with 1 Axes>"
      ]
     },
     "metadata": {
      "needs_background": "light"
     },
     "output_type": "display_data"
    }
   ],
   "source": [
    "#1-2\n",
    "new_1 = []\n",
    "new_2 = []\n",
    "for i in range(4):\n",
    "    new_1.append(max(x_coordinates_1[i], y_coordinates_1[i])-min(x_coordinates_1[i], y_coordinates_1[i]))\n",
    "    new_2.append(max(x_coordinates_2[i], y_coordinates_2[i])-min(x_coordinates_2[i], y_coordinates_2[i]))\n",
    "val = 0  \n",
    "plt.plot(new_1, np.zeros_like(new_1) + val, 'o')\n",
    "plt.plot(new_2, np.zeros_like(new_2) + val, 'x')"
   ]
  },
  {
   "cell_type": "markdown",
   "id": "0be2a4d0",
   "metadata": {},
   "source": [
    "1-2 answer : I made a equation that x1 = max(x1_1)-min(x1_2), x2 = max(x2_1)-min(x2_2). \n",
    "I subtracted mininum value from the maximum value  "
   ]
  },
  {
   "cell_type": "code",
   "execution_count": 5,
   "id": "ae3257d4",
   "metadata": {},
   "outputs": [
    {
     "data": {
      "text/plain": [
       "<matplotlib.lines.Line2D at 0x2076232cc70>"
      ]
     },
     "execution_count": 5,
     "metadata": {},
     "output_type": "execute_result"
    },
    {
     "data": {
      "image/png": "[encoded data removed]",
      "text/plain": [
       "<Figure size 432x288 with 1 Axes>"
      ]
     },
     "metadata": {
      "needs_background": "light"
     },
     "output_type": "display_data"
    }
   ],
   "source": [
    "#1-3\n",
    "plt.plot(new_1, np.zeros_like(new_1) + val, 'o')\n",
    "plt.plot(new_2, np.zeros_like(new_2) + val, 'x')\n",
    "plt.axvline(x=1)"
   ]
  },
  {
   "cell_type": "markdown",
   "id": "cacd3a59",
   "metadata": {},
   "source": [
    "1-3 answer : x= 1 or any line that between x>0 && x <2 can linearly separate two features "
   ]
  },
  {
   "cell_type": "markdown",
   "id": "ad317601",
   "metadata": {},
   "source": [
    "1-4 answer:\n",
    "In classfication problems, it is important to separate two classes.\n",
    "However, just using linear transformation, it only multiplies the value like 2*x1\n",
    "(-1,-1) --> (-2, -2)\n",
    "or move the axis (x-5, y-3) something like that. It preserves the coordinates' original characteristics.\n",
    "Thus, if two classes cannot linearly separable with first sight, it cannot be achieved separating just using linear transformation.\n",
    "Since non linear transformation changes linear relationships between variables, changes the correlation of variables, it can separate two classes. "
   ]
  },
  {
   "cell_type": "code",
   "execution_count": null,
   "id": "95828808",
   "metadata": {},
   "outputs": [],
   "source": [
    "#2-1"
   ]
  },
  {
   "cell_type": "markdown",
   "id": "b0a7fb95",
   "metadata": {},
   "source": [
    "$$E[MSE] = \\frac{1}{t}\\sum\\limits _{i=1} ^{t}E[(f(x_{i}) -g(x_{i})-\\epsilon]^{2}$$"
   ]
  },
  {
   "cell_type": "markdown",
   "id": "08ec5d5b",
   "metadata": {},
   "source": [
    "$$ a= f(x_{i}) -g(x_{i}), b = \\epsilon $$"
   ]
  },
  {
   "cell_type": "markdown",
   "id": "041669ec",
   "metadata": {},
   "source": [
    "$$ a^{2} - 2a*b + b^{2} $$"
   ]
  },
  {
   "cell_type": "markdown",
   "id": "238ebc91",
   "metadata": {},
   "source": [
    "Since $$ -2ab = 0$$ because $$  (E[\\epsilon] = 0) $$"
   ]
  },
  {
   "cell_type": "markdown",
   "id": "fda86624",
   "metadata": {},
   "source": [
    "$$E[MSE] = \\frac{1}{t}\\sum\\limits _{i=1} ^{t}E[(f(x_{i}) -g(x_{i})]^{2} + \\frac{\\sum\\limits _{i=1} ^{t}E[\\epsilon^{2}]}{t} $$"
   ]
  },
  {
   "cell_type": "markdown",
   "id": "d637e974",
   "metadata": {},
   "source": [
    "$$E[((f(x_{i})-[g(x_{i})])]^{2} $$ can be"
   ]
  },
  {
   "cell_type": "markdown",
   "id": "77903e13",
   "metadata": {},
   "source": [
    " $${E[g(x)]-f(x)}^{2}+   E[E[g(x)]-g(x)^{2}]$$"
   ]
  },
  {
   "cell_type": "markdown",
   "id": "800c4064",
   "metadata": {},
   "source": [
    "since"
   ]
  },
  {
   "cell_type": "markdown",
   "id": "694529c1",
   "metadata": {},
   "source": [
    "$$Bias = E[g(x)]-f(x) $$"
   ]
  },
  {
   "cell_type": "markdown",
   "id": "638944d3",
   "metadata": {},
   "source": [
    "$$Variance = E[E[g(x)]-g(x)^{2}] $$"
   ]
  },
  {
   "cell_type": "markdown",
   "id": "9e17f9a7",
   "metadata": {},
   "source": [
    "$$E[MSE]=Bias^{2}+Varaince+Noise$$"
   ]
  },
  {
   "cell_type": "code",
   "execution_count": 13,
   "id": "2989e1b3",
   "metadata": {},
   "outputs": [],
   "source": [
    "#2-2\n",
    "import matplotlib.pyplot as plt\n",
    "import numpy as np\n",
    "import random\n",
    "import math \n",
    "from scipy.interpolate import make_interp_spline, BSpline\n",
    "import pandas as pd"
   ]
  },
  {
   "cell_type": "code",
   "execution_count": 14,
   "id": "e8aaaada",
   "metadata": {},
   "outputs": [
    {
     "data": {
      "image/png": "[encoded data removed]",
      "text/plain": [
       "<Figure size 432x288 with 1 Axes>"
      ]
     },
     "metadata": {
      "needs_background": "light"
     },
     "output_type": "display_data"
    }
   ],
   "source": [
    "#Create a dataset of size 20 within range(0,20)\n",
    "x = []\n",
    "for i in range(20):\n",
    "    mid = float(random.randrange(0, 1000))/100\n",
    "    x.append(mid)\n",
    "\n",
    "mu, sigma = 0, 0.3 # mean and standard deviation\n",
    "s = np.random.normal(mu, sigma, 20)\n",
    "\n",
    "y =[]\n",
    "f = []\n",
    "for i in range(20) :\n",
    "    mid = x[i]+math.sin(1.5*x[i])\n",
    "    f.append(mid)\n",
    "    y.append(mid+s[i])\n",
    "\n",
    "#f(x) create smooth line\n",
    "data = pd.DataFrame({'x':x, 'y':f})\n",
    "sorted_data_f = data.sort_values(by=['x'], ascending = True)\n",
    "\n",
    "#define x as 200 equally spaced values between the min and max of original x \n",
    "xnew = np.linspace(sorted_data_f['x'].min(), sorted_data_f['x'].max(), 200)\n",
    "\n",
    "#define spline with degree k=7\n",
    "spl = make_interp_spline(sorted_data_f['x'], sorted_data_f['y'], k=7)\n",
    "\n",
    "y_smooth = spl(xnew)\n",
    "\n",
    "#Create scatter plot for y and smooth plot\n",
    "data_y = pd.DataFrame({'x':x, 'y':y})\n",
    "sorted_data_y = data_y.sort_values(by=['x'], ascending = True)\n",
    "\n",
    "plt.plot(xnew, y_smooth)\n",
    "plt.scatter(sorted_data_y['x'], sorted_data_y['y'], alpha =0.5)\n",
    "plt.show()"
   ]
  },
  {
   "cell_type": "code",
   "execution_count": 15,
   "id": "8db9862f",
   "metadata": {},
   "outputs": [
    {
     "name": "stdout",
     "output_type": "stream",
     "text": [
      "f dataset\n",
      "       x          y\n",
      "14  0.01   0.024999\n",
      "6   0.99   1.986322\n",
      "10  1.39   2.260685\n",
      "2   1.48   2.276565\n",
      "9   1.67   2.264459\n",
      "0   2.59   1.913200\n",
      "16  2.61   1.911423\n",
      "15  2.63   1.910274\n",
      "13  3.46   2.571904\n",
      "1   4.09   3.942356\n",
      "4   4.81   5.612704\n",
      "7   5.09   6.066119\n",
      "18  5.17   6.165105\n",
      "11  5.98   6.419263\n",
      "12  6.43   6.211554\n",
      "17  7.41   6.417123\n",
      "8   8.35   8.308641\n",
      "3   8.80   9.392074\n",
      "5   9.61  10.571652\n",
      "19  9.78  10.641371\n",
      "y dataset\n",
      "       x          y\n",
      "14  0.01   0.031860\n",
      "6   0.99   1.768602\n",
      "10  1.39   2.366464\n",
      "2   1.48   2.605923\n",
      "9   1.67   2.661777\n",
      "0   2.59   1.872923\n",
      "16  2.61   1.894502\n",
      "15  2.63   1.790819\n",
      "13  3.46   2.839505\n",
      "1   4.09   4.189179\n",
      "4   4.81   6.043777\n",
      "7   5.09   6.219630\n",
      "18  5.17   6.521536\n",
      "11  5.98   6.634421\n",
      "12  6.43   6.505026\n",
      "17  7.41   6.414728\n",
      "8   8.35   8.539456\n",
      "3   8.80   9.260613\n",
      "5   9.61  10.372141\n",
      "19  9.78  11.038972\n"
     ]
    }
   ],
   "source": [
    "#print dataset \n",
    "print(\"f dataset\")\n",
    "print(sorted_data_f)\n",
    "\n",
    "print (\"y dataset\")\n",
    "print(sorted_data_y)"
   ]
  },
  {
   "cell_type": "code",
   "execution_count": null,
   "id": "d8663d1b",
   "metadata": {},
   "outputs": [],
   "source": [
    "#### 2-3 "
   ]
  },
  {
   "cell_type": "code",
   "execution_count": 47,
   "id": "ab8a91b5",
   "metadata": {},
   "outputs": [
    {
     "data": {
      "text/plain": [
       "<matplotlib.collections.PathCollection at 0x20762f540a0>"
      ]
     },
     "execution_count": 47,
     "metadata": {},
     "output_type": "execute_result"
    },
    {
     "data": {
      "image/png": "[encoded data removed]",
      "text/plain": [
       "<Figure size 432x288 with 1 Axes>"
      ]
     },
     "metadata": {
      "needs_background": "light"
     },
     "output_type": "display_data"
    }
   ],
   "source": [
    "POLYNOMIAL_FIT_COLORS = ['orange', 'royalblue', 'darkgreen']\n",
    "polynomial_degrees = [1, 3, 10]\n",
    "LEGEND_FONTSIZE = 14\n",
    "DATA_COLOR = 'black'\n",
    "\n",
    "theta = {}\n",
    "fit = {}\n",
    "for ii, degree in enumerate(polynomial_degrees):\n",
    "    # Note: we should get an overconditioned warning for degree 10 because of extreme overfitting\n",
    "    theta[degree] = np.polyfit(x, y, degree)\n",
    "    fit[degree] = np.polyval(theta[degree],xnew)\n",
    "    plt.plot(xnew, fit[degree], POLYNOMIAL_FIT_COLORS[ii], label=f\"$g_(x)$\")\n",
    "plt.legend(fontsize=LEGEND_FONTSIZE)\n",
    "plt.plot(xnew, y_smooth, color = 'black')\n",
    "plt.scatter(sorted_data_y['x'], sorted_data_y['y'], alpha =0.5,marker ='o')"
   ]
  },
  {
   "cell_type": "markdown",
   "id": "7a79e865",
   "metadata": {},
   "source": [
    "g1 is underfitting because it is not flexible enough to capture real data\n",
    "g10 is overfitting because it is too flexible "
   ]
  },
  {
   "cell_type": "code",
   "execution_count": 57,
   "id": "0dd7f20e",
   "metadata": {},
   "outputs": [],
   "source": [
    "###library load for solving 2-4\n",
    "import numpy as np \n",
    "import statistics\n",
    "import random\n",
    "from collections import defaultdict\n",
    "import matplotlib.pyplot as plt"
   ]
  },
  {
   "cell_type": "code",
   "execution_count": 99,
   "id": "69303bb8",
   "metadata": {
    "scrolled": true
   },
   "outputs": [
    {
     "name": "stderr",
     "output_type": "stream",
     "text": [
      "No handles with labels found to put in legend.\n"
     ]
    },
    {
     "data": {
      "text/plain": [
       "[<matplotlib.lines.Line2D at 0x207688b8670>]"
      ]
     },
     "execution_count": 99,
     "metadata": {},
     "output_type": "execute_result"
    },
    {
     "data": {
      "image/png": "[encoded data removed]",
      "text/plain": [
       "<Figure size 432x288 with 1 Axes>"
      ]
     },
     "metadata": {
      "needs_background": "light"
     },
     "output_type": "display_data"
    }
   ],
   "source": [
    "##2-4 \n",
    "x =20*np.random.random(50)\n",
    "x_train = x[:40]\n",
    "x_test = x[40:]\n",
    "\n",
    "theta = defaultdict(list)\n",
    "train_pred=defaultdict(list)\n",
    "test_pred =defaultdict(list)\n",
    "train_errors =defaultdict(list)\n",
    "test_errors = defaultdict(list)\n",
    "\n",
    "def f(x):\n",
    "    return x+np.sin(x * 1.5)\n",
    "\n",
    "def error_function(pred, actual):\n",
    "    return (pred - actual) ** 2\n",
    "\n",
    "def calculate_estimator_bias_squared(pred_test):\n",
    "    pred_test = np.array(pred_test)\n",
    "    average_model_prediction = pred_test.mean(0)  # E[g(x)]\n",
    "\n",
    "    # (E[g(x)] - f(x))^2, averaged across all trials\n",
    "    return np.mean((average_model_prediction - f(x_test)) ** 2)\n",
    "\n",
    "def calculate_estimator_variance(pred_test):\n",
    "    pred_test = np.array(pred_test)\n",
    "    average_model_prediction = pred_test.mean(0)  # E[g(x)]\n",
    "\n",
    "    # (g(x) - E[g(x)])^2, averaged across all trials\n",
    "    return np.mean((pred_test - average_model_prediction) ** 2)\n",
    "\n",
    "for i in range(100) :\n",
    "    y_train = f(x_train)+NOISE_STD * np.random.randn(*x_train.shape)\n",
    "    y_test =  f(x_test)+NOISE_STD * np.random.randn(*x_test.shape)\n",
    "    \n",
    "    for j in range(1, 16) :\n",
    "        theta = np.polyfit(x_train, y_train, j) \n",
    "        \n",
    "        pred_1 = np.polyval(theta, x_train)\n",
    "        train_pred[j].append(pred_1)\n",
    "        \n",
    "        pred_2 = np.polyval(theta, x_test)\n",
    "        test_pred[j].append(pred_2)\n",
    "        \n",
    "        train_errors[j].append(np.mean(error_function(pred_1, y_train)))\n",
    "        test_errors[j].append(np.mean(error_function(pred_2, y_test)))\n",
    "\n",
    "complexity_train_error = []\n",
    "complexity_test_error = []\n",
    "bias_squared = []\n",
    "variance = []\n",
    "for degree in model_poly_degrees:\n",
    "    complexity_train_error.append(np.mean(train_errors[degree]))\n",
    "    complexity_test_error.append(np.mean(test_errors[degree]))\n",
    "    bias_squared.append(calculate_estimator_bias_squared(test_pred[degree]))\n",
    "    variance.append(calculate_estimator_variance(test_pred[degree]))\n",
    "\n",
    "plt.legend()\n",
    "plt.plot(model_poly_degrees, bias_squared, color='blue', label='$bias^2$')\n",
    "plt.plot(model_poly_degrees, variance, color='green', label='variance')\n",
    "plt.plot(model_poly_degrees, complexity_test_error, label='Testing Set Error', linewidth=3, color='black')"
   ]
  },
  {
   "cell_type": "code",
   "execution_count": 100,
   "id": "98ff652d",
   "metadata": {},
   "outputs": [],
   "source": [
    "best_model_degree = model_poly_degrees[np.argmin(complexity_test_error)]"
   ]
  },
  {
   "cell_type": "code",
   "execution_count": 101,
   "id": "d6eb122a",
   "metadata": {},
   "outputs": [
    {
     "data": {
      "text/plain": [
       "14"
      ]
     },
     "execution_count": 101,
     "metadata": {},
     "output_type": "execute_result"
    }
   ],
   "source": [
    "best_model_degree "
   ]
  },
  {
   "cell_type": "markdown",
   "id": "00d074c4",
   "metadata": {},
   "source": [
    "Left picture shows the a tradeoff between bias and variance with model complexity\n",
    "If a variance is high then bias is low vice-versa\n",
    "D=14 is the best model (low bias and low variance)"
   ]
  },
  {
   "cell_type": "code",
   "execution_count": 102,
   "id": "1b5e98e2",
   "metadata": {},
   "outputs": [
    {
     "name": "stdout",
     "output_type": "stream",
     "text": [
      "Requirement already satisfied: mlxtend in c:\\users\\sukyungseo\\anaconda3\\lib\\site-packages (0.19.0)\n",
      "Requirement already satisfied: scikit-learn>=0.20.3 in c:\\users\\sukyungseo\\anaconda3\\lib\\site-packages (from mlxtend) (0.24.2)\n",
      "Requirement already satisfied: pandas>=0.24.2 in c:\\users\\sukyungseo\\anaconda3\\lib\\site-packages (from mlxtend) (1.3.1)\n",
      "Requirement already satisfied: scipy>=1.2.1 in c:\\users\\sukyungseo\\anaconda3\\lib\\site-packages (from mlxtend) (1.6.2)\n",
      "Requirement already satisfied: joblib>=0.13.2 in c:\\users\\sukyungseo\\anaconda3\\lib\\site-packages (from mlxtend) (1.0.1)\n",
      "Requirement already satisfied: matplotlib>=3.0.0 in c:\\users\\sukyungseo\\anaconda3\\lib\\site-packages (from mlxtend) (3.4.2)\n",
      "Requirement already satisfied: setuptools in c:\\users\\sukyungseo\\anaconda3\\lib\\site-packages (from mlxtend) (52.0.0.post20210125)\n",
      "Requirement already satisfied: numpy>=1.16.2 in c:\\users\\sukyungseo\\anaconda3\\lib\\site-packages (from mlxtend) (1.21.1)\n",
      "Requirement already satisfied: cycler>=0.10 in c:\\users\\sukyungseo\\anaconda3\\lib\\site-packages (from matplotlib>=3.0.0->mlxtend) (0.10.0)\n",
      "Requirement already satisfied: pillow>=6.2.0 in c:\\users\\sukyungseo\\anaconda3\\lib\\site-packages (from matplotlib>=3.0.0->mlxtend) (8.3.1)\n",
      "Requirement already satisfied: python-dateutil>=2.7 in c:\\users\\sukyungseo\\anaconda3\\lib\\site-packages (from matplotlib>=3.0.0->mlxtend) (2.8.2)\n",
      "Requirement already satisfied: pyparsing>=2.2.1 in c:\\users\\sukyungseo\\anaconda3\\lib\\site-packages (from matplotlib>=3.0.0->mlxtend) (2.4.7)\n",
      "Requirement already satisfied: kiwisolver>=1.0.1 in c:\\users\\sukyungseo\\anaconda3\\lib\\site-packages (from matplotlib>=3.0.0->mlxtend) (1.3.1)\n",
      "Requirement already satisfied: six in c:\\users\\sukyungseo\\anaconda3\\lib\\site-packages (from cycler>=0.10->matplotlib>=3.0.0->mlxtend) (1.16.0)\n",
      "Requirement already satisfied: pytz>=2017.3 in c:\\users\\sukyungseo\\anaconda3\\lib\\site-packages (from pandas>=0.24.2->mlxtend) (2021.1)\n",
      "Requirement already satisfied: threadpoolctl>=2.0.0 in c:\\users\\sukyungseo\\anaconda3\\lib\\site-packages (from scikit-learn>=0.20.3->mlxtend) (2.2.0)\n"
     ]
    }
   ],
   "source": [
    "#Problem 2-5\n",
    "!pip install mlxtend\n",
    "from mlxtend.evaluate import bias_variance_decomp"
   ]
  },
  {
   "cell_type": "code",
   "execution_count": 135,
   "id": "6599ed5d",
   "metadata": {},
   "outputs": [],
   "source": [
    "x =20*np.random.random(50)\n",
    "x_train = x[:40]\n",
    "x_test = x[40:]\n",
    "\n",
    "theta = []\n",
    "train_pred= []\n",
    "test_pred = []\n",
    "train_errors = []\n",
    "test_errors =  []\n",
    "\n",
    "def error_function(pred, actual):\n",
    "    return (pred - actual) ** 2\n",
    "\n",
    "def calculate_estimator_bias_squared(pred_test):\n",
    "    pred_test = np.array(pred_test)\n",
    "    average_model_prediction = pred_test.mean(0)  # E[g(x)]\n",
    "\n",
    "    # (E[g(x)] - f(x))^2, averaged across all trials\n",
    "    return np.mean((average_model_prediction - f(x_test)) ** 2)\n",
    "\n",
    "def calculate_estimator_variance(pred_test):\n",
    "    pred_test = np.array(pred_test)\n",
    "    average_model_prediction = pred_test.mean(0)  # E[g(x)]\n",
    "\n",
    "    # (g(x) - E[g(x)])^2, averaged across all trials\n",
    "    return np.mean((pred_test - average_model_prediction) ** 2)\n",
    "\n",
    "\n",
    "y_train = f(x_train)+NOISE_STD * np.random.randn(*x_train.shape)\n",
    "y_test =  f(x_test)+NOISE_STD * np.random.randn(*x_test.shape)\n",
    "    \n",
    "theta = np.polyfit(x_train, y_train, 10) \n",
    "        \n",
    "pred_1 = np.polyval(theta, x_train)\n",
    "train_pred.append(pred_1)\n",
    "        \n",
    "pred_2 = np.polyval(theta, x_test)\n",
    "test_pred.append(pred_2)\n",
    "        \n",
    "train_errors.append(np.mean(error_function(pred_1, y_train)))\n",
    "test_errors.append(np.mean(error_function(pred_2, y_test)))\n",
    "\n",
    "complexity_train_error=np.mean(train_errors)\n",
    "complexity_test_error=np.mean(test_errors)\n",
    "bias_squared=calculate_estimator_bias_squared(test_pred)\n",
    "variance=calculate_estimator_variance(test_pred)"
   ]
  },
  {
   "cell_type": "code",
   "execution_count": 136,
   "id": "65689ea8",
   "metadata": {},
   "outputs": [
    {
     "name": "stdout",
     "output_type": "stream",
     "text": [
      "unregularized order 10 polynomial model\n",
      "MSE:  0.5738608043940919\n",
      "Bias:  0.5139165860846248\n",
      "Variance:  0.0\n"
     ]
    }
   ],
   "source": [
    "print(\"unregularized order 10 polynomial model\")\n",
    "print(\"MSE: \", complexity_test_error)\n",
    "print(\"Bias: \", math.sqrt(bias_squared))\n",
    "print(\"Variance: \", variance)"
   ]
  },
  {
   "cell_type": "code",
   "execution_count": 131,
   "id": "50a839e6",
   "metadata": {},
   "outputs": [],
   "source": [
    "from sklearn.linear_model import Ridge\n",
    "from sklearn.model_selection import cross_val_score\n",
    "from sklearn.model_selection import RepeatedKFold\n",
    "x_train = x_train.reshape(-1, 1)\n",
    "x_test =x_test.reshape(-1, 1)\n",
    "model = Ridge(alpha=1.0)\n",
    "model.fit(x_train , y_train)\n",
    "mse_rb, bias_rb, var_rb = bias_variance_decomp(model, x_train, y_train, x_test, y_test, loss='mse', num_rounds=200, random_seed=1)"
   ]
  },
  {
   "cell_type": "code",
   "execution_count": 132,
   "id": "8c662425",
   "metadata": {},
   "outputs": [
    {
     "name": "stdout",
     "output_type": "stream",
     "text": [
      "L2 regularized model\n",
      "MSE:  0.7743305805721495\n",
      "Bias:  0.7429272357106231\n",
      "Variance:  0.031403344861528036\n"
     ]
    }
   ],
   "source": [
    "print(\"L2 regularized model\")\n",
    "print(\"MSE: \", mse_rb)\n",
    "print(\"Bias: \", bias_rb)\n",
    "print(\"Variance: \", var_rb)"
   ]
  },
  {
   "cell_type": "markdown",
   "id": "f588e60c",
   "metadata": {},
   "source": [
    "Regularized model has a high bias and MSE. I think because regularization attempts to reduce the variance. bias will increase."
   ]
  },
  {
   "cell_type": "code",
   "execution_count": null,
   "id": "c16ced9e",
   "metadata": {},
   "outputs": [],
   "source": [
    "##############Problem 3"
   ]
  },
  {
   "cell_type": "markdown",
   "id": "761e204d",
   "metadata": {},
   "source": [
    "Problem 3- first dataset \n",
    "\n",
    "Dataset Name : ionosphere (https://www.openml.org/d/59) \n",
    "\n",
    "Number of features :35 / \n",
    "Number of instances : 351 / \n",
    "Number of classes : 2 / \n",
    "Number of numerical features : 34 / \n",
    "Number of categorical features : 1"
   ]
  },
  {
   "cell_type": "code",
   "execution_count": 19,
   "id": "91928015",
   "metadata": {},
   "outputs": [
    {
     "name": "stdout",
     "output_type": "stream",
     "text": [
      "<class 'pandas.core.frame.DataFrame'>\n",
      "RangeIndex: 351 entries, 0 to 350\n",
      "Data columns (total 35 columns):\n",
      " #   Column  Non-Null Count  Dtype  \n",
      "---  ------  --------------  -----  \n",
      " 0   a01     351 non-null    int64  \n",
      " 1   a02     351 non-null    int64  \n",
      " 2   a03     351 non-null    float64\n",
      " 3   a04     351 non-null    float64\n",
      " 4   a05     351 non-null    float64\n",
      " 5   a06     351 non-null    float64\n",
      " 6   a07     351 non-null    float64\n",
      " 7   a08     351 non-null    float64\n",
      " 8   a09     351 non-null    float64\n",
      " 9   a10     351 non-null    float64\n",
      " 10  a11     351 non-null    float64\n",
      " 11  a12     351 non-null    float64\n",
      " 12  a13     351 non-null    float64\n",
      " 13  a14     351 non-null    float64\n",
      " 14  a15     351 non-null    float64\n",
      " 15  a16     351 non-null    float64\n",
      " 16  a17     351 non-null    float64\n",
      " 17  a18     351 non-null    float64\n",
      " 18  a19     351 non-null    float64\n",
      " 19  a20     351 non-null    float64\n",
      " 20  a21     351 non-null    float64\n",
      " 21  a22     351 non-null    float64\n",
      " 22  a23     351 non-null    float64\n",
      " 23  a24     351 non-null    float64\n",
      " 24  a25     351 non-null    float64\n",
      " 25  a26     351 non-null    float64\n",
      " 26  a27     351 non-null    float64\n",
      " 27  a28     351 non-null    float64\n",
      " 28  a29     351 non-null    float64\n",
      " 29  a30     351 non-null    float64\n",
      " 30  a31     351 non-null    float64\n",
      " 31  a32     351 non-null    float64\n",
      " 32  a33     351 non-null    float64\n",
      " 33  a34     351 non-null    float64\n",
      " 34  class   351 non-null    object \n",
      "dtypes: float64(32), int64(2), object(1)\n",
      "memory usage: 96.1+ KB\n",
      "None\n",
      "351\n",
      "Counter({'g': 225, 'b': 126})\n"
     ]
    }
   ],
   "source": [
    "#3-1 code \n",
    "import pandas as pd\n",
    "df = pd.read_csv(\"dataset_59_ionosphere.csv\")\n",
    "print(df.info()) #check the number of numerical and categorical feature\n",
    "print(len(df)) # number of instances \n",
    "\n",
    "from collections import Counter\n",
    "print(Counter(df['class'])) #number of classes "
   ]
  },
  {
   "cell_type": "markdown",
   "id": "67eb4e70",
   "metadata": {},
   "source": [
    "Problem 3- second dataset \n",
    "\n",
    "Dataset Name : pendigits (https://www.openml.org/d/32) \n",
    "\n",
    "Number of features : 17 / \n",
    "Number of instances : 10992 / \n",
    "Number of classes : 10 /\n",
    "Number of numerical features : 16 /\n",
    "Number of categorical features : 1"
   ]
  },
  {
   "cell_type": "code",
   "execution_count": 9,
   "id": "996d606e",
   "metadata": {},
   "outputs": [
    {
     "name": "stdout",
     "output_type": "stream",
     "text": [
      "<class 'pandas.core.frame.DataFrame'>\n",
      "RangeIndex: 10992 entries, 0 to 10991\n",
      "Data columns (total 17 columns):\n",
      " #   Column   Non-Null Count  Dtype\n",
      "---  ------   --------------  -----\n",
      " 0   input1   10992 non-null  int64\n",
      " 1   input2   10992 non-null  int64\n",
      " 2   input3   10992 non-null  int64\n",
      " 3   input4   10992 non-null  int64\n",
      " 4   input5   10992 non-null  int64\n",
      " 5   input6   10992 non-null  int64\n",
      " 6   input7   10992 non-null  int64\n",
      " 7   input8   10992 non-null  int64\n",
      " 8   input9   10992 non-null  int64\n",
      " 9   input10  10992 non-null  int64\n",
      " 10  input11  10992 non-null  int64\n",
      " 11  input12  10992 non-null  int64\n",
      " 12  input13  10992 non-null  int64\n",
      " 13  input14  10992 non-null  int64\n",
      " 14  input15  10992 non-null  int64\n",
      " 15  input16  10992 non-null  int64\n",
      " 16  class    10992 non-null  int64\n",
      "dtypes: int64(17)\n",
      "memory usage: 1.4 MB\n",
      "None\n",
      "10992\n",
      "Counter({2: 1144, 4: 1144, 1: 1143, 0: 1143, 7: 1142, 6: 1056, 8: 1055, 5: 1055, 9: 1055, 3: 1055})\n"
     ]
    }
   ],
   "source": [
    "import pandas as pd\n",
    "df2 = pd.read_csv(\"dataset_32_pendigits.csv\")\n",
    "print(df2.info()) #check the number of numerical and categorical feature\n",
    "print(len(df2)) # number of instances \n",
    "\n",
    "from collections import Counter\n",
    "print(Counter(df2['class'])) #number of classes "
   ]
  },
  {
   "cell_type": "code",
   "execution_count": 26,
   "id": "86fd2c6e",
   "metadata": {},
   "outputs": [],
   "source": [
    "#library import for solving 3-2\n",
    "from sklearn.model_selection import train_test_split\n",
    "from sklearn.ensemble import RandomForestClassifier\n",
    "from sklearn import metrics\n",
    "import time\n",
    "from sklearn.ensemble import GradientBoostingClassifier\n",
    "import matplotlib.pyplot as plt\n",
    "from statistics import mean"
   ]
  },
  {
   "cell_type": "markdown",
   "id": "97fd9be8",
   "metadata": {},
   "source": [
    "first data execution "
   ]
  },
  {
   "cell_type": "code",
   "execution_count": 27,
   "id": "5cc77448",
   "metadata": {},
   "outputs": [
    {
     "data": {
      "image/png": "[encoded data removed]",
      "text/plain": [
       "<Figure size 432x288 with 1 Axes>"
      ]
     },
     "metadata": {
      "needs_background": "light"
     },
     "output_type": "display_data"
    },
    {
     "data": {
      "image/png": "[encoded data removed]",
      "text/plain": [
       "<Figure size 432x288 with 1 Axes>"
      ]
     },
     "metadata": {
      "needs_background": "light"
     },
     "output_type": "display_data"
    },
    {
     "name": "stdout",
     "output_type": "stream",
     "text": [
      "[0.8873239436619719, 0.9014084507042254, 0.9295774647887324, 0.8873239436619719, 0.9154929577464789, 0.9154929577464789, 0.9154929577464789, 0.9154929577464789, 0.9295774647887324, 0.9295774647887324]\n",
      "[0.7887323943661971, 0.8873239436619719, 0.8732394366197183, 0.8873239436619719, 0.8873239436619719, 0.9154929577464789, 0.9154929577464789, 0.9154929577464789, 0.9154929577464789, 0.9154929577464789]\n",
      "[0.2148749828338623, 0.2288668155670166, 0.8725006580352783, 0.5896611213684082, 0.5167040824890137, 0.7065939903259277, 0.4367501735687256, 0.39577198028564453, 0.5280733108520508, 0.24949049949645996]\n",
      "[0.0759572982788086, 0.16790223121643066, 0.2488572597503662, 0.4127640724182129, 0.38913512229919434, 0.37578344345092773, 0.3448011875152588, 0.4427464008331299, 0.24480223655700684, 0.26560354232788086]\n",
      "0.9126760563380282\n",
      "0.8901408450704226\n",
      "0.4739287614822388\n",
      "0.29683527946472166\n"
     ]
    }
   ],
   "source": [
    "xlabel = [10,20,30,40,50,60,70,80,90,100]\n",
    "\n",
    "df1 = pd.read_csv(\"dataset_59_ionosphere.csv\")\n",
    "\n",
    "#80% as training, 20% as test\n",
    "train1, test1 = train_test_split(df1, test_size=0.2)\n",
    "\n",
    "X_test1 = test1.loc[:, test1.columns != 'class']\n",
    "y_test1 = test1['class']\n",
    "\n",
    "#training set subsampling 10% 20% .... 100% \n",
    "total = len(train1) \n",
    "acc1_rf =[]\n",
    "wall1_rf = []\n",
    "acc1_gb =[]\n",
    "wall1_gb = []\n",
    "\n",
    "for i in range(10) :\n",
    "    num = int((i+1)*10*total/100)\n",
    "    sub_data = train1.sample(n=num)\n",
    "    \n",
    "    X_sub_data = sub_data.loc[:, sub_data.columns != 'class']\n",
    "    y_sub_data = sub_data['class']\n",
    "    \n",
    "    rf_model = RandomForestClassifier()\n",
    "    gb_model = GradientBoostingClassifier()\n",
    "    \n",
    "    #get wall time for each algorithm \n",
    "    t0 = time.time()\n",
    "    rf_model.fit(X_sub_data, y_sub_data)\n",
    "    rf_seconds = time.time() - t0\n",
    "    \n",
    "    t0 =time.time()\n",
    "    gb_model.fit(X_sub_data, y_sub_data)\n",
    "    gb_seconds = time.time() - t0\n",
    "    \n",
    "    #prediction on test set and get accuracy value for each algorithm \n",
    "    rf_y_pred = rf_model.predict(X_test1)\n",
    "    rf_score = metrics.accuracy_score(y_test1, rf_y_pred)\n",
    "    \n",
    "    gb_y_pred = gb_model.predict(X_test1)\n",
    "    gb_score = metrics.accuracy_score(y_test1, gb_y_pred)\n",
    "    \n",
    "    #Save Accuracy on test set, and wall time for each algorithm\n",
    "    acc1_rf.append(rf_score)\n",
    "    wall1_rf.append(rf_seconds)\n",
    "    \n",
    "    acc1_gb.append(gb_score)\n",
    "    wall1_gb.append(gb_seconds)\n",
    "\n",
    "#Curve 1 -x: increasing size of training data / y: accuracy change (2 models) \n",
    "plt.plot(xlabel, acc1_gb, label='gradient boosting')\n",
    "plt.plot(xlabel, acc1_rf, label ='random roest')\n",
    "plt.legend()\n",
    "plt.xlabel('% of training set')\n",
    "plt.ylabel('Accuracy')\n",
    "plt.show() \n",
    "\n",
    "# Curve 2 -x:increasing size of training data / y: training time (2 models) \n",
    "plt.plot(xlabel, wall1_gb, label='gradient boosting')\n",
    "plt.plot(xlabel, wall1_rf, label ='random roest')\n",
    "plt.legend()\n",
    "plt.xlabel('% of training set')\n",
    "plt.ylabel('Wall Time')\n",
    "plt.show() \n",
    "\n",
    "print(acc1_rf)\n",
    "print(acc1_gb)\n",
    "print(wall1_rf)\n",
    "print(wall1_gb)\n",
    "\n",
    "print(mean(acc1_rf))\n",
    "print(mean(acc1_gb))\n",
    "print(mean(wall1_rf))\n",
    "print(mean(wall1_gb))"
   ]
  },
  {
   "cell_type": "markdown",
   "id": "d6bf9c00",
   "metadata": {},
   "source": [
    "second data execution"
   ]
  },
  {
   "cell_type": "code",
   "execution_count": 28,
   "id": "23c37565",
   "metadata": {},
   "outputs": [
    {
     "data": {
      "image/png": "[encoded data removed]",
      "text/plain": [
       "<Figure size 432x288 with 1 Axes>"
      ]
     },
     "metadata": {
      "needs_background": "light"
     },
     "output_type": "display_data"
    },
    {
     "data": {
      "image/png": "[encoded data removed]",
      "text/plain": [
       "<Figure size 432x288 with 1 Axes>"
      ]
     },
     "metadata": {
      "needs_background": "light"
     },
     "output_type": "display_data"
    },
    {
     "name": "stdout",
     "output_type": "stream",
     "text": [
      "[0.9586175534333788, 0.9831741700773079, 0.9818099135970896, 0.9859026830377444, 0.9840836743974534, 0.9859026830377444, 0.988631195998181, 0.988631195998181, 0.990450204638472, 0.990450204638472]\n",
      "[0.9463392451114143, 0.9718053660754888, 0.9722601182355616, 0.9836289222373806, 0.9854479308776717, 0.9836289222373806, 0.9863574351978172, 0.9877216916780355, 0.9890859481582538, 0.988631195998181]\n",
      "[0.267956018447876, 0.3807823657989502, 0.5696878433227539, 0.8166396617889404, 0.8934669494628906, 0.853508472442627, 1.034407615661621, 2.2996857166290283, 1.2373135089874268, 1.5311458110809326]\n",
      "[3.6246654987335205, 5.853112697601318, 8.478856086730957, 16.91392421722412, 12.654752492904663, 14.677598476409912, 21.40474581718445, 20.365338802337646, 22.56905508041382, 27.062332153320312]\n",
      "0.9837653478854025\n",
      "0.9794906775807185\n",
      "0.9884593963623047\n",
      "15.360438132286072\n"
     ]
    }
   ],
   "source": [
    "df2 = pd.read_csv(\"dataset_32_pendigits.csv\")\n",
    "\n",
    "#80% as training, 20% as test\n",
    "train1, test1 = train_test_split(df2, test_size=0.2)\n",
    "\n",
    "X_test1 = test1.loc[:, test1.columns != 'class']\n",
    "y_test1 = test1['class']\n",
    "\n",
    "#training set subsampling 10% 20% .... 100% \n",
    "total = len(train1) \n",
    "acc1_rf =[]\n",
    "wall1_rf = []\n",
    "acc1_gb =[]\n",
    "wall1_gb = []\n",
    "\n",
    "for i in range(10) : \n",
    "    num = int((i+1)*10*total/100)\n",
    "    sub_data = train1.sample(n=num)\n",
    "    \n",
    "    X_sub_data = sub_data.loc[:, sub_data.columns != 'class']\n",
    "    y_sub_data = sub_data['class']\n",
    "    \n",
    "    rf_model = RandomForestClassifier()\n",
    "    gb_model = GradientBoostingClassifier()\n",
    "    \n",
    "    #get wall time for each algorithm \n",
    "    t0 = time.time()\n",
    "    rf_model.fit(X_sub_data, y_sub_data)\n",
    "    rf_seconds = time.time() - t0\n",
    "    \n",
    "    t0 =time.time()\n",
    "    gb_model.fit(X_sub_data, y_sub_data)\n",
    "    gb_seconds = time.time() - t0\n",
    "    \n",
    "    #prediction on test set and get accuracy value for each algorithm \n",
    "    rf_y_pred = rf_model.predict(X_test1)\n",
    "    rf_score = metrics.accuracy_score(y_test1, rf_y_pred)\n",
    "    \n",
    "    gb_y_pred = gb_model.predict(X_test1)\n",
    "    gb_score = metrics.accuracy_score(y_test1, gb_y_pred)\n",
    "    \n",
    "    #Save Accuracy on test set, and wall time for each algorithm\n",
    "    acc1_rf.append(rf_score)\n",
    "    wall1_rf.append(rf_seconds)\n",
    "    \n",
    "    acc1_gb.append(gb_score)\n",
    "    wall1_gb.append(gb_seconds)\n",
    "\n",
    "#Curve 1 -x: increasing size of training data / y: accuracy change (2 models) \n",
    "plt.plot(xlabel, acc1_gb, label='gradient boosting')\n",
    "plt.plot(xlabel, acc1_rf, label ='random roest')\n",
    "plt.legend()\n",
    "plt.xlabel('% of training set')\n",
    "plt.ylabel('Accuracy')\n",
    "plt.ylim([0.8,1])\n",
    "plt.show() \n",
    "\n",
    "# Curve 2 -x:increasing size of training data / y: training time (2 models) \n",
    "plt.plot(xlabel, wall1_gb, label='gradient boosting')\n",
    "plt.plot(xlabel, wall1_rf, label ='random roest')\n",
    "plt.legend()\n",
    "plt.xlabel('% of training set')\n",
    "plt.ylabel('Wall Time')\n",
    "plt.show() \n",
    "\n",
    "print(acc1_rf)\n",
    "print(acc1_gb)\n",
    "print(wall1_rf)\n",
    "print(wall1_gb)\n",
    "\n",
    "print(mean(acc1_rf))\n",
    "print(mean(acc1_gb))\n",
    "print(mean(wall1_rf))\n",
    "print(mean(wall1_gb))"
   ]
  },
  {
   "cell_type": "markdown",
   "id": "449e003c",
   "metadata": {},
   "source": [
    "Problem 3-3\n",
    "\n",
    "First observation In first set random forest takes longer time but not too big difference with gradient boosting, In second set gradient boost takes really longer time than random forest. I think since gradient boosting algorithm build one tree at a time it takes longer when the problem is multi-class. \n",
    "\n",
    "Second observation is random forest shows better accuracy than gradient boosting in two scenarios. \n",
    "\n",
    "Third observation : As data is increasing, the performance is increasing little by little but it doesn't increase after a certain point"
   ]
  },
  {
   "cell_type": "code",
   "execution_count": null,
   "id": "5ed3c0c7",
   "metadata": {},
   "outputs": [],
   "source": [
    "## Problem 4"
   ]
  },
  {
   "cell_type": "markdown",
   "id": "85de4ab8",
   "metadata": {},
   "source": [
    "4-1\n",
    "True negative only matters for ROC because ROC needs True negative for calculating false positive rate = FP/(TN+FP ).  \n",
    "\n",
    "When data is fixed, there is a unique confusion matrix for a ROC space. It is true to PR. Even if PR doesn't consider TN, there is a fixed number of positive and negative examples, and it considers other three properties in a matrix. So, TN value is also unique.Thus, there is a one-to-one relationship between confusion matrices and PR. Since ROC is the same that it is also one-to-one mapping, ROC and PR is one-to-one mapping. Translating ROC to PR is possible and vice-versa.  "
   ]
  },
  {
   "cell_type": "markdown",
   "id": "d668d2bd",
   "metadata": {},
   "source": [
    "4-2 dataset\n",
    "https://www.openml.org/d/1510"
   ]
  },
  {
   "cell_type": "code",
   "execution_count": 33,
   "id": "600b66a2",
   "metadata": {},
   "outputs": [],
   "source": [
    "##import library for 4-2\n",
    "from sklearn.metrics import precision_recall_curve\n",
    "from sklearn.metrics import f1_score\n",
    "from sklearn.metrics import auc\n",
    "from sklearn.model_selection import train_test_split\n",
    "from sklearn.ensemble import AdaBoostClassifier\n",
    "from sklearn.linear_model import LogisticRegression\n",
    "from sklearn.metrics import roc_curve\n",
    "from sklearn.metrics import roc_auc_score\n",
    "import pandas as pd\n",
    "import matplotlib.pyplot as plt\n",
    "import numpy as np"
   ]
  },
  {
   "cell_type": "code",
   "execution_count": 36,
   "id": "45292569",
   "metadata": {},
   "outputs": [
    {
     "name": "stderr",
     "output_type": "stream",
     "text": [
      "C:\\Users\\sukyungseo\\anaconda3\\lib\\site-packages\\sklearn\\linear_model\\_logistic.py:763: ConvergenceWarning: lbfgs failed to converge (status=1):\n",
      "STOP: TOTAL NO. of ITERATIONS REACHED LIMIT.\n",
      "\n",
      "Increase the number of iterations (max_iter) or scale the data as shown in:\n",
      "    https://scikit-learn.org/stable/modules/preprocessing.html\n",
      "Please also refer to the documentation for alternative solver options:\n",
      "    https://scikit-learn.org/stable/modules/linear_model.html#logistic-regression\n",
      "  n_iter_i = _check_optimize_result(\n"
     ]
    },
    {
     "data": {
      "text/plain": [
       "<matplotlib.legend.Legend at 0x20765cce5e0>"
      ]
     },
     "execution_count": 36,
     "metadata": {},
     "output_type": "execute_result"
    },
    {
     "data": {
      "image/png": "[encoded data removed]",
      "text/plain": [
       "<Figure size 432x288 with 1 Axes>"
      ]
     },
     "metadata": {
      "needs_background": "light"
     },
     "output_type": "display_data"
    }
   ],
   "source": [
    "df2 = pd.read_csv(\"phpAmSP4g.csv\")\n",
    "df2['Class'] = np.where((df2.Class == 1),0,df2.Class)\n",
    "df2['Class'] = np.where((df2.Class == 2),1,df2.Class)\n",
    "\n",
    "#80% as training, 20% as test\n",
    "train1, test1 = train_test_split(df2, test_size=0.2)\n",
    "\n",
    "X_test1 = test1.loc[:, test1.columns != 'Class']\n",
    "y_test1 = test1['Class']\n",
    "\n",
    "X_train1 = train1.loc[:, train1.columns != 'Class']\n",
    "y_train1 = train1['Class']\n",
    "\n",
    "lr_model = LogisticRegression(solver='lbfgs')\n",
    "lr_model.fit(X_train1, y_train1)\n",
    "\n",
    "lr_probs = lr_model.predict_proba(X_test1)\n",
    "lr_yhat = lr_model.predict(X_test1)\n",
    "lr_probs = lr_probs[:, 1]\n",
    "lr_auc = roc_auc_score(y_test1, lr_probs)\n",
    "\n",
    "ab_model =  AdaBoostClassifier()\n",
    "ab_model.fit(X_train1, y_train1)\n",
    "\n",
    "ab_probs = ab_model.predict_proba(X_test1)\n",
    "ab_yhat = ab_model.predict(X_test1)\n",
    "ab_probs = ab_probs[:, 1]\n",
    "ab_auc = roc_auc_score(y_test1, ab_probs)\n",
    "\n",
    "ab_fpr, ab_tpr, _ = roc_curve(y_test1, ab_probs)\n",
    "plt.plot(ab_fpr, ab_tpr, marker='.', label='Adaboost')\n",
    "\n",
    "lr_fpr, lr_tpr, _ = roc_curve(y_test1, lr_probs)\n",
    "plt.plot(lr_fpr, lr_tpr, marker='.', label='Logistic')\n",
    "# axis labels\n",
    "plt.title(\"ROC Curve\")\n",
    "plt.xlabel('False Positive Rate')\n",
    "plt.ylabel('True Positive Rate')\n",
    "plt.legend()"
   ]
  },
  {
   "cell_type": "code",
   "execution_count": 37,
   "id": "35b3e454",
   "metadata": {},
   "outputs": [
    {
     "data": {
      "text/plain": [
       "<matplotlib.legend.Legend at 0x207622daf40>"
      ]
     },
     "execution_count": 37,
     "metadata": {},
     "output_type": "execute_result"
    },
    {
     "data": {
      "image/png": "[encoded data removed]",
      "text/plain": [
       "<Figure size 432x288 with 1 Axes>"
      ]
     },
     "metadata": {
      "needs_background": "light"
     },
     "output_type": "display_data"
    }
   ],
   "source": [
    "lr_precision, lr_recall, _ = precision_recall_curve(y_test1, lr_probs)\n",
    "lr_f1, lr_auc = f1_score(y_test1, lr_yhat), auc(lr_recall, lr_precision)\n",
    "\n",
    "ab_precision, ab_recall, _ = precision_recall_curve(y_test1, ab_probs)\n",
    "ab_f1, ab_auc = f1_score(y_test1, ab_yhat), auc(ab_recall, ab_precision)\n",
    "plt.plot(ab_recall, ab_precision, marker='.', label='Adaboostc')\n",
    "plt.plot(lr_recall, lr_precision, marker='.', label='Logistic')\n",
    "plt.title(\"PR Curve\")\n",
    "plt.xlabel('Recall')\n",
    "plt.ylabel('Precision')\n",
    "plt.legend()"
   ]
  },
  {
   "cell_type": "markdown",
   "id": "475ef7c3",
   "metadata": {},
   "source": [
    "The point where an all positive classifier lies in ROC curve is : (0,1)\n",
    "It means that zero false positive rate (Recall=1)\n",
    "The point where an all positive classifier lies in PR curve is : (1, 1)"
   ]
  },
  {
   "cell_type": "code",
   "execution_count": 40,
   "id": "b859742a",
   "metadata": {},
   "outputs": [],
   "source": [
    "####AUPRG code copy from https://github.com/meeliskull/prg/blob/master/Python_package/prg/prg.py\n",
    "from __future__ import division\n",
    "import warnings\n",
    "import numpy as np\n",
    "import matplotlib.pyplot as plt\n",
    "\n",
    "def precision(tp, fn, fp, tn):\n",
    "    with np.errstate(divide='ignore', invalid='ignore'):\n",
    "        return tp/(tp + fp)\n",
    "\n",
    "\n",
    "def recall(tp, fn, fp, tn):\n",
    "    with np.errstate(divide='ignore', invalid='ignore'):\n",
    "        return tp/(tp + fn)\n",
    "\n",
    "\n",
    "def precision_gain(tp, fn, fp, tn):\n",
    "    \"\"\"Calculates Precision Gain from the contingency table\n",
    "    This function calculates Precision Gain from the entries of the contingency\n",
    "    table: number of true positives (TP), false negatives (FN), false positives\n",
    "    (FP), and true negatives (TN). More information on Precision-Recall-Gain\n",
    "    curves and how to cite this work is available at\n",
    "    http://www.cs.bris.ac.uk/~flach/PRGcurves/.\n",
    "    \"\"\"\n",
    "    n_pos = tp + fn\n",
    "    n_neg = fp + tn\n",
    "    with np.errstate(divide='ignore', invalid='ignore'):\n",
    "        prec_gain = 1. - (n_pos/n_neg) * (fp/tp)\n",
    "    if np.alen(prec_gain) > 1:\n",
    "        prec_gain[tn + fn == 0] = 0\n",
    "    elif tn + fn == 0:\n",
    "        prec_gain = 0\n",
    "    return prec_gain\n",
    "\n",
    "\n",
    "def recall_gain(tp, fn, fp, tn):\n",
    "    \"\"\"Calculates Recall Gain from the contingency table\n",
    "    This function calculates Recall Gain from the entries of the contingency\n",
    "    table: number of true positives (TP), false negatives (FN), false positives\n",
    "    (FP), and true negatives (TN). More information on Precision-Recall-Gain\n",
    "    curves and how to cite this work is available at\n",
    "    http://www.cs.bris.ac.uk/~flach/PRGcurves/.\n",
    "    Args:\n",
    "        tp (float) or ([float]): True Positives\n",
    "        fn (float) or ([float]): False Negatives\n",
    "        fp (float) or ([float]): False Positives\n",
    "        tn (float) or ([float]): True Negatives\n",
    "    Returns:\n",
    "        (float) or ([float])\n",
    "    \"\"\"\n",
    "    n_pos = tp + fn\n",
    "    n_neg = fp + tn\n",
    "    with np.errstate(divide='ignore', invalid='ignore'):\n",
    "        rg = 1. - (n_pos/n_neg) * (fn/tp)\n",
    "    if np.alen(rg) > 1:\n",
    "        rg[tn + fn == 0] = 1\n",
    "    elif tn + fn == 0:\n",
    "        rg = 1\n",
    "    return rg\n",
    "\n",
    "\n",
    "def create_segments(labels, pos_scores, neg_scores):\n",
    "    n = np.alen(labels)\n",
    "    # reorder labels and pos_scores by decreasing pos_scores, using increasing neg_scores in breaking ties\n",
    "    new_order = np.lexsort((neg_scores, -pos_scores))\n",
    "    labels = labels[new_order]\n",
    "    pos_scores = pos_scores[new_order]\n",
    "    neg_scores = neg_scores[new_order]\n",
    "    # create a table of segments\n",
    "    segments = {'pos_score': np.zeros(n), 'neg_score': np.zeros(n),\n",
    "                'pos_count': np.zeros(n), 'neg_count': np.zeros(n)}\n",
    "    j = -1\n",
    "    for i, label in enumerate(labels):\n",
    "        if ((i == 0) or (pos_scores[i-1] != pos_scores[i])\n",
    "                     or (neg_scores[i-1] != neg_scores[i])):\n",
    "            j += 1\n",
    "            segments['pos_score'][j] = pos_scores[i]\n",
    "            segments['neg_score'][j] = neg_scores[i]\n",
    "        if label == 0:\n",
    "            segments['neg_count'][j] += 1\n",
    "        else:\n",
    "            segments['pos_count'][j] += 1\n",
    "    segments['pos_score'] = segments['pos_score'][0:j+1]\n",
    "    segments['neg_score'] = segments['neg_score'][0:j+1]\n",
    "    segments['pos_count'] = segments['pos_count'][0:j+1]\n",
    "    segments['neg_count'] = segments['neg_count'][0:j+1]\n",
    "    return segments\n",
    "\n",
    "\n",
    "def get_point(points, index):\n",
    "    keys = points.keys()\n",
    "    point = np.zeros(np.alen(keys))\n",
    "    key_indices = dict()\n",
    "    for i, key in enumerate(keys):\n",
    "        point[i] = points[key][index]\n",
    "        key_indices[key] = i\n",
    "    return [point, key_indices]\n",
    "\n",
    "\n",
    "def insert_point(new_point, key_indices, points, precision_gain=0,\n",
    "        recall_gain=0, is_crossing=0):\n",
    "    for key in key_indices.keys():\n",
    "        points[key] = np.insert(points[key], 0, new_point[key_indices[key]])\n",
    "    points['precision_gain'][0] = precision_gain\n",
    "    points['recall_gain'][0] = recall_gain\n",
    "    points['is_crossing'][0] = is_crossing\n",
    "    new_order = np.lexsort((-points['precision_gain'],points['recall_gain']))\n",
    "    for key in points.keys():\n",
    "        points[key] = points[key][new_order]\n",
    "    return points\n",
    "\n",
    "\n",
    "def _create_crossing_points(points, n_pos, n_neg):\n",
    "    n = n_pos+n_neg\n",
    "    points['is_crossing'] = np.zeros(np.alen(points['pos_score']))\n",
    "    # introduce a crossing point at the crossing through the y-axis\n",
    "    j = np.amin(np.where(points['recall_gain'] >= 0)[0])\n",
    "    if points['recall_gain'][j] > 0:  # otherwise there is a point on the boundary and no need for a crossing point\n",
    "        [point_1, key_indices_1] = get_point(points, j)\n",
    "        [point_2, key_indices_2] = get_point(points, j-1)\n",
    "        delta = point_1 - point_2\n",
    "        if delta[key_indices_1['TP']] > 0:\n",
    "            alpha = (n_pos*n_pos/n - points['TP'][j-1]) / delta[key_indices_1['TP']]\n",
    "        else:\n",
    "            alpha = 0.5\n",
    "\n",
    "        with warnings.catch_warnings():\n",
    "            warnings.simplefilter(\"ignore\")\n",
    "            new_point = point_2 + alpha*delta\n",
    "\n",
    "        new_prec_gain = precision_gain(new_point[key_indices_1['TP']], new_point[key_indices_1['FN']],\n",
    "                                       new_point[key_indices_1['FP']], new_point[key_indices_1['TN']])\n",
    "        points = insert_point(new_point, key_indices_1, points,\n",
    "                              precision_gain=new_prec_gain, is_crossing=1)\n",
    "\n",
    "    # now introduce crossing points at the crossings through the non-negative part of the x-axis\n",
    "    x = points['recall_gain']\n",
    "    y = points['precision_gain']\n",
    "    temp_y_0 = np.append(y, 0)\n",
    "    temp_0_y = np.append(0, y)\n",
    "    temp_1_x = np.append(1, x)\n",
    "    with np.errstate(invalid='ignore'):\n",
    "        indices = np.where(np.logical_and((temp_y_0 * temp_0_y < 0), (temp_1_x >= 0)))[0]\n",
    "    for i in indices:\n",
    "        cross_x = x[i-1] + (-y[i-1]) / (y[i] - y[i-1]) * (x[i] - x[i-1])\n",
    "        [point_1, key_indices_1] = get_point(points, i)\n",
    "        [point_2, key_indices_2] = get_point(points, i-1)\n",
    "        delta = point_1 - point_2\n",
    "        if delta[key_indices_1['TP']] > 0:\n",
    "            alpha = (n_pos * n_pos / (n - n_neg * cross_x) - points['TP'][i-1]) / delta[key_indices_1['TP']]\n",
    "        else:\n",
    "            alpha = (n_neg / n_pos * points['TP'][i-1] - points['FP'][i-1]) / delta[key_indices_1['FP']]\n",
    "\n",
    "        with warnings.catch_warnings():\n",
    "            warnings.simplefilter(\"ignore\")\n",
    "            new_point = point_2 + alpha*delta\n",
    "\n",
    "        new_rec_gain = recall_gain(new_point[key_indices_1['TP']], new_point[key_indices_1['FN']],\n",
    "                                   new_point[key_indices_1['FP']], new_point[key_indices_1['TN']])\n",
    "        points = insert_point(new_point, key_indices_1, points,\n",
    "                              recall_gain=new_rec_gain, is_crossing=1)\n",
    "        i += 1\n",
    "        indices += 1\n",
    "        x = points['recall_gain']\n",
    "        y = points['precision_gain']\n",
    "        temp_y_0 = np.append(y, 0)\n",
    "        temp_0_y = np.append(0, y)\n",
    "        temp_1_x = np.append(1, x)\n",
    "    return points\n",
    "\n",
    "\n",
    "def create_prg_curve(labels, pos_scores, neg_scores=[]):\n",
    "    \"\"\"Precision-Recall-Gain curve\n",
    "    This function creates the Precision-Recall-Gain curve from the vector of\n",
    "    labels and vector of scores where higher score indicates a higher\n",
    "    probability to be positive. More information on Precision-Recall-Gain\n",
    "    curves and how to cite this work is available at\n",
    "    http://www.cs.bris.ac.uk/~flach/PRGcurves/.\n",
    "    \"\"\"\n",
    "    create_crossing_points = True # do it always because calc_auprg otherwise gives the wrong result\n",
    "    if np.alen(neg_scores) == 0:\n",
    "        neg_scores = -pos_scores\n",
    "    n = np.alen(labels)\n",
    "    n_pos = np.sum(labels)\n",
    "    n_neg = n - n_pos\n",
    "    # convert negative labels into 0s\n",
    "    labels = 1 * (labels == 1)\n",
    "    segments = create_segments(labels, pos_scores, neg_scores)\n",
    "    # calculate recall gains and precision gains for all thresholds\n",
    "    points = dict()\n",
    "    points['pos_score'] = np.insert(segments['pos_score'], 0, np.inf)\n",
    "    points['neg_score'] = np.insert(segments['neg_score'], 0, -np.inf)\n",
    "    points['TP'] = np.insert(np.cumsum(segments['pos_count']), 0, 0)\n",
    "    points['FP'] = np.insert(np.cumsum(segments['neg_count']), 0, 0)\n",
    "    points['FN'] = n_pos - points['TP']\n",
    "    points['TN'] = n_neg - points['FP']\n",
    "    points['precision'] = precision(points['TP'], points['FN'], points['FP'], points['TN'])\n",
    "    points['recall'] = recall(points['TP'], points['FN'], points['FP'], points['TN'])\n",
    "    points['precision_gain'] = precision_gain(points['TP'], points['FN'], points['FP'], points['TN'])\n",
    "    points['recall_gain'] = recall_gain(points['TP'], points['FN'], points['FP'], points['TN'])\n",
    "    if create_crossing_points == True:\n",
    "        points = _create_crossing_points(points, n_pos, n_neg)\n",
    "    else:\n",
    "        points['pos_score'] = points['pos_score'][1:]\n",
    "        points['neg_score'] = points['neg_score'][1:]\n",
    "        points['TP'] = points['TP'][1:]\n",
    "        points['FP'] = points['FP'][1:]\n",
    "        points['FN'] = points['FN'][1:]\n",
    "        points['TN'] = points['TN'][1:]\n",
    "        points['precision_gain'] = points['precision_gain'][1:]\n",
    "        points['recall_gain'] = points['recall_gain'][1:]\n",
    "    with np.errstate(invalid='ignore'):\n",
    "        points['in_unit_square'] = np.logical_and(points['recall_gain'] >= 0,\n",
    "                                              points['precision_gain'] >= 0)\n",
    "    return points\n",
    "\n",
    "\n",
    "def calc_auprg(prg_curve):\n",
    "    \"\"\"Calculate area under the Precision-Recall-Gain curve\n",
    "    This function calculates the area under the Precision-Recall-Gain curve\n",
    "    from the results of the function create_prg_curve. More information on\n",
    "    Precision-Recall-Gain curves and how to cite this work is available at\n",
    "    http://www.cs.bris.ac.uk/~flach/PRGcurves/.\n",
    "    \"\"\"\n",
    "    area = 0\n",
    "    recall_gain = prg_curve['recall_gain']\n",
    "    precision_gain = prg_curve['precision_gain']\n",
    "    for i in range(1,len(recall_gain)):\n",
    "        if (not np.isnan(recall_gain[i-1])) and (recall_gain[i-1]>=0):\n",
    "            width = recall_gain[i]-recall_gain[i-1]\n",
    "            height = (precision_gain[i]+precision_gain[i-1])/2\n",
    "            area += width*height\n",
    "    return(area)\n",
    "\n",
    "\n",
    "# from\n",
    "def convex_hull(points):\n",
    "    \"\"\"Computes the convex hull of a set of 2D points.\n",
    "    Input: an iterable sequence of (x, y) pairs representing the points.\n",
    "    Output: a list of vertices of the convex hull in counter-clockwise order,\n",
    "      starting from the vertex with the lexicographically smallest coordinates.\n",
    "    Implements Andrew's monotone chain algorithm. O(n log n) complexity.\n",
    "    Source code from:\n",
    "    https://en.wikibooks.org/wiki/Algorithm_Implementation/Geometry/Convex_hull/Monotone_chain\n",
    "    \"\"\"\n",
    "\n",
    "    # Sort the points lexicographically (tuples are compared lexicographically).\n",
    "    # Remove duplicates to detect the case we have just one unique point.\n",
    "    points = sorted(set(points))\n",
    "\n",
    "    # Boring case: no points or a single point, possibly repeated multiple times.\n",
    "    if len(points) <= 1:\n",
    "        return points\n",
    "\n",
    "    # 2D cross product of OA and OB vectors, i.e. z-component of their 3D cross product.\n",
    "    # Returns a positive value, if OAB makes a counter-clockwise turn,\n",
    "    # negative for clockwise turn, and zero if the points are collinear.\n",
    "    def cross(o, a, b):\n",
    "        return (a[0] - o[0]) * (b[1] - o[1]) - (a[1] - o[1]) * (b[0] - o[0])\n",
    "\n",
    "    # Build upper hull\n",
    "    upper = []\n",
    "    for p in reversed(points):\n",
    "        while len(upper) >= 2 and cross(upper[-2], upper[-1], p) <= 0:\n",
    "            upper.pop()\n",
    "        upper.append(p)\n",
    "\n",
    "    return upper\n",
    "\n",
    "\n",
    "def plot_prg(prg_curve,show_convex_hull=True,show_f_calibrated_scores=False):\n",
    "    \"\"\"Plot the Precision-Recall-Gain curve\n",
    "    This function plots the Precision-Recall-Gain curve resulting from the\n",
    "    function create_prg_curve using ggplot. More information on\n",
    "    Precision-Recall-Gain curves and how to cite this work is available at\n",
    "    http://www.cs.bris.ac.uk/~flach/PRGcurves/.\n",
    "    @param prg_curve the data structure resulting from the function create_prg_curve\n",
    "    @param show_convex_hull whether to show the convex hull (default: TRUE)\n",
    "    @param show_f_calibrated_scores whether to show the F-calibrated scores (default:TRUE)\n",
    "    @return the ggplot object which can be plotted using print()\n",
    "    @details This function plots the Precision-Recall-Gain curve, indicating\n",
    "        for each point whether it is a crossing-point or not (see help on\n",
    "        create_prg_curve). By default, only the part of the curve\n",
    "        within the unit square [0,1]x[0,1] is plotted.\n",
    "    @examples\n",
    "        labels = c(1,1,1,0,1,1,1,1,1,1,0,1,1,1,0,1,0,0,1,0,0,0,1,0,1)\n",
    "        scores = (25:1)/25\n",
    "        plot_prg(create_prg_curve(labels,scores))\n",
    "    \"\"\"\n",
    "    pg = prg_curve['precision_gain']\n",
    "    rg = prg_curve['recall_gain']\n",
    "\n",
    "    fig = plt.figure(figsize=(6,5))\n",
    "    plt.clf()\n",
    "    plt.axes(frameon=False)\n",
    "    ax = fig.gca()\n",
    "    ax.set_xticks(np.arange(0,1.25,0.25))\n",
    "    ax.set_yticks(np.arange(0,1.25,0.25))\n",
    "    ax.grid(b=True)\n",
    "    ax.set_xlim((-0.05,1.02))\n",
    "    ax.set_ylim((-0.05,1.02))\n",
    "    ax.set_aspect('equal')\n",
    "    # Plot vertical and horizontal lines crossing the 0 axis\n",
    "    plt.axvline(x=0, ymin=-0.05, ymax=1, color='k')\n",
    "    plt.axhline(y=0, xmin=-0.05, xmax=1, color='k')\n",
    "    plt.axvline(x=1, ymin=0, ymax=1, color='k')\n",
    "    plt.axhline(y=1, xmin=0, xmax=1, color='k')\n",
    "    # Plot cyan lines\n",
    "    indices = np.arange(np.argmax(prg_curve['in_unit_square']) - 1,\n",
    "                        len(prg_curve['in_unit_square']))\n",
    "    plt.plot(rg[indices], pg[indices], 'c-', linewidth=2)\n",
    "    # Plot blue lines\n",
    "    indices = np.logical_or(prg_curve['is_crossing'],\n",
    "                       prg_curve['in_unit_square'])\n",
    "    plt.plot(rg[indices], pg[indices], 'b-', linewidth=2)\n",
    "    # Plot blue dots\n",
    "    indices = np.logical_and(prg_curve['in_unit_square'],\n",
    "                             True - prg_curve['is_crossing'])\n",
    "    plt.scatter(rg[indices], pg[indices], marker='o', color='b', s=40)\n",
    "    # Plot lines out of the boundaries\n",
    "    plt.xlabel('Recall Gain')\n",
    "    plt.ylabel('Precision Gain')\n",
    "\n",
    "    valid_points = np.logical_and( ~ np.isnan(rg), ~ np.isnan(pg))\n",
    "    upper_hull = convex_hull(zip(rg[valid_points],pg[valid_points]))\n",
    "    rg_hull, pg_hull = zip(*upper_hull)\n",
    "    if show_convex_hull:\n",
    "        plt.plot(rg_hull, pg_hull, 'r--')\n",
    "    if show_f_calibrated_scores:\n",
    "        raise Exception(\"Show calibrated scores not implemented yet\")\n",
    "    plt.show()\n",
    "    return fig\n",
    "\n",
    "\n",
    "def plot_pr(prg_curve):\n",
    "    p = prg_curve['precision']\n",
    "    r = prg_curve['recall']\n",
    "\n",
    "    fig = plt.figure(figsize=(6,5))\n",
    "    plt.clf()\n",
    "    plt.axes(frameon=False)\n",
    "    ax = fig.gca()\n",
    "    ax.set_xticks(np.arange(0,1.25,0.25))\n",
    "    ax.set_yticks(np.arange(0,1.25,0.25))\n",
    "    ax.grid(b=True)\n",
    "    ax.set_xlim((-0.05,1.02))\n",
    "    ax.set_ylim((-0.05,1.02))\n",
    "    ax.set_aspect('equal')\n",
    "    # Plot vertical and horizontal lines crossing the 0 axis\n",
    "    plt.axvline(x=0, ymin=-0.05, ymax=1, color='k')\n",
    "    plt.axhline(y=0, xmin=-0.05, xmax=1, color='k')\n",
    "    plt.axvline(x=1, ymin=0, ymax=1, color='k')\n",
    "    plt.axhline(y=1, xmin=0, xmax=1, color='k')\n",
    "    # Plot blue lines\n",
    "    plt.plot(r, p, 'ob-', linewidth=2)\n",
    "    plt.xlabel('Recall')\n",
    "    plt.ylabel('Precision')\n",
    "\n",
    "    plt.show()\n",
    "    return fig\n",
    "\n",
    "\n",
    "def test():\n",
    "    labels = np.array([1,1,1,0,1,1,1,1,1,1,0,1,1,1,0,1,0,0,1,0,0,0,1,0,1], dtype='int')\n",
    "    scores = np.around(np.log(np.arange(1,26)[::-1]),1)\n",
    "    scores = np.arange(1,26)[::-1]\n",
    "    prg_curve = create_prg_curve(labels, scores)\n",
    "    auprg = calc_auprg(prg_curve)\n",
    "    plot_prg(prg_curve)\n",
    "\n",
    "\n",
    "if __name__ == '__main__':\n",
    "    pass"
   ]
  },
  {
   "cell_type": "code",
   "execution_count": 45,
   "id": "30160323",
   "metadata": {},
   "outputs": [
    {
     "name": "stdout",
     "output_type": "stream",
     "text": [
      "LR means logistic regression, AB means adaboost\n",
      "LR aucpr:  0.9824447947683375\n",
      "AB aucpr:  0.99046459796904\n",
      "LR auc:  0.9822157398968157\n",
      "AB auc:  0.9903730295989348\n",
      "LR aucprg:  0.9878384802066978\n",
      "AB aucprg:  0.994780913696321\n"
     ]
    }
   ],
   "source": [
    "#4-3 \n",
    "from sklearn.metrics import average_precision_score\n",
    "\n",
    "lr_aucpr = average_precision_score(y_test1, lr_probs)\n",
    "ab_aucpr = average_precision_score(y_test1, ab_probs)\n",
    "print(\"LR means logistic regression, AB means adaboost\")\n",
    "print(\"LR aucpr: \", lr_aucpr)\n",
    "print(\"AB aucpr: \", ab_aucpr)\n",
    "print(\"LR auc: \" , lr_auc)\n",
    "print(\"AB auc: \" , ab_auc)\n",
    "lr_labels = np.array(y_test1.tolist(), dtype='int')\n",
    "lr_prg_curve = create_prg_curve(lr_labels, lr_probs)\n",
    "lr_auprg = calc_auprg(lr_prg_curve)\n",
    "ab_labels = np.array(y_test1.tolist(), dtype='int')\n",
    "ab_prg_curve = create_prg_curve(ab_labels, ab_probs)\n",
    "ab_auprg = calc_auprg(ab_prg_curve)\n",
    "print(\"LR aucprg: \",lr_auprg)\n",
    "print(\"AB aucprg: \", ab_auprg)"
   ]
  },
  {
   "cell_type": "markdown",
   "id": "e87d94b5",
   "metadata": {},
   "source": [
    "The logisic regression model is good at distinguishing between pos and neg classes\n",
    "Logistic Regression can care more about positive than negtive class (AUCPR)\n",
    "I agree that according to author's propose, there is advantages with calculation speeds and allowing assessment over a range of operating points.\n",
    "Additionally, AUPR and AUPRG value are correlated. "
   ]
  },
  {
   "cell_type": "markdown",
   "id": "57047722",
   "metadata": {},
   "source": [
    "I don't believe practitioners should use PR gain curve over than PR curve. This debate is similar to when we interpret confusion matrix. Based on circumstances, we think specificity importantly than other values such as sensitivity. \n",
    "Thus \"should use\" is not right. "
   ]
  },
  {
   "cell_type": "markdown",
   "id": "48e37c52",
   "metadata": {},
   "source": [
    "If there is class imbalance in dataset, AUPRG is much better than AUPR."
   ]
  },
  {
   "cell_type": "code",
   "execution_count": null,
   "id": "4037d7ec",
   "metadata": {},
   "outputs": [],
   "source": []
  }
 ],
 "metadata": {
  "kernelspec": {
   "display_name": "Python 3",
   "language": "python",
   "name": "python3"
  },
  "language_info": {
   "codemirror_mode": {
    "name": "ipython",
    "version": 3
   },
   "file_extension": ".py",
   "mimetype": "text/x-python",
   "name": "python",
   "nbconvert_exporter": "python",
   "pygments_lexer": "ipython3",
   "version": "3.8.10"
  }
 },
 "nbformat": 4,
 "nbformat_minor": 5
}
