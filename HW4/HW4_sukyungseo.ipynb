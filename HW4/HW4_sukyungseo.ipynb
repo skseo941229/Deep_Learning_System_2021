{
  "nbformat": 4,
  "nbformat_minor": 0,
  "metadata": {
    "colab": {
      "name": "HW4-sukyungseo.ipynb",
      "provenance": []
    },
    "kernelspec": {
      "name": "python3",
      "display_name": "Python 3"
    },
    "language_info": {
      "name": "python"
    }
  },
  "cells": [
    {
      "cell_type": "markdown",
      "metadata": {
        "id": "uNVlVdbCE0Ae"
      },
      "source": [
        "#1."
      ]
    },
    {
      "cell_type": "markdown",
      "metadata": {
        "id": "5cj0eG2iOeEG"
      },
      "source": [
        "1-1-a"
      ]
    },
    {
      "cell_type": "code",
      "metadata": {
        "id": "fghCl_AUEEgX"
      },
      "source": [
        "from keras.utils import np_utils\n",
        "from keras.datasets import cifar10\n",
        "import keras\n",
        "import tensorflow as tf\n",
        "import tensorflow.keras as keras\n",
        "import numpy as np\n",
        "from matplotlib import pyplot as plt"
      ],
      "execution_count": null,
      "outputs": []
    },
    {
      "cell_type": "code",
      "metadata": {
        "id": "6_JrAcNREpFG",
        "colab": {
          "base_uri": "https://localhost:8080/"
        },
        "outputId": "bbec5ef4-0308-4d62-bee9-d62236b5d22b"
      },
      "source": [
        "(x_train, y_train),(x_test, y_test) = tf.keras.datasets.cifar100.load_data()"
      ],
      "execution_count": null,
      "outputs": [
        {
          "output_type": "stream",
          "name": "stdout",
          "text": [
            "Downloading data from https://www.cs.toronto.edu/~kriz/cifar-100-python.tar.gz\n",
            "169009152/169001437 [==============================] - 12s 0us/step\n",
            "169017344/169001437 [==============================] - 12s 0us/step\n"
          ]
        }
      ]
    },
    {
      "cell_type": "code",
      "metadata": {
        "id": "NEDa222qQAhw"
      },
      "source": [
        "x_train = x_train.astype('float32')\n",
        "x_test = x_test.astype('float32')\n",
        "x_train  /= 255.0\n",
        "x_test /= 255.0"
      ],
      "execution_count": null,
      "outputs": []
    },
    {
      "cell_type": "code",
      "metadata": {
        "id": "UTWubeYpFS7v"
      },
      "source": [
        "y_train=np_utils.to_categorical(y_train)\n",
        "y_test=np_utils.to_categorical(y_test)"
      ],
      "execution_count": null,
      "outputs": []
    },
    {
      "cell_type": "markdown",
      "metadata": {
        "id": "CG9U2NnxIsgA"
      },
      "source": [
        "Number of class : 100  \n",
        "Number of images per class : 600  \n",
        "There are 20 targetsuperclasses.  \n",
        "50000 training and 10000 test dataset. \n"
      ]
    },
    {
      "cell_type": "code",
      "metadata": {
        "colab": {
          "base_uri": "https://localhost:8080/",
          "height": 284
        },
        "id": "g5IJ2cggJc9b",
        "outputId": "c05e280f-ebe4-4ff7-deb3-282dcb1eae02"
      },
      "source": [
        "plt.imshow(x_train[0])"
      ],
      "execution_count": null,
      "outputs": [
        {
          "output_type": "execute_result",
          "data": {
            "text/plain": [
              "<matplotlib.image.AxesImage at 0x7f54e07e2f90>"
            ]
          },
          "metadata": {},
          "execution_count": 13
        },
        {
          "output_type": "display_data",
          "data": {
            "image/png": "[encoded data removed]",
            "text/plain": [
              "<Figure size 432x288 with 1 Axes>"
            ]
          },
          "metadata": {
            "needs_background": "light"
          }
        }
      ]
    },
    {
      "cell_type": "code",
      "metadata": {
        "colab": {
          "base_uri": "https://localhost:8080/",
          "height": 284
        },
        "id": "Nv3DYlXhJnz-",
        "outputId": "37993a55-acda-45fa-94b7-7e32a639d6fa"
      },
      "source": [
        "plt.imshow(x_train[1])"
      ],
      "execution_count": null,
      "outputs": [
        {
          "output_type": "execute_result",
          "data": {
            "text/plain": [
              "<matplotlib.image.AxesImage at 0x7f6d6f2e4a10>"
            ]
          },
          "metadata": {},
          "execution_count": 28
        },
        {
          "output_type": "display_data",
          "data": {
            "image/png": "[encoded data removed]",
            "text/plain": [
              "<Figure size 432x288 with 1 Axes>"
            ]
          },
          "metadata": {
            "needs_background": "light"
          }
        }
      ]
    },
    {
      "cell_type": "code",
      "metadata": {
        "colab": {
          "base_uri": "https://localhost:8080/",
          "height": 284
        },
        "id": "TniZajRhJpse",
        "outputId": "10e1c8c1-da76-4645-d315-52064d5549a1"
      },
      "source": [
        "plt.imshow(x_train[2])"
      ],
      "execution_count": null,
      "outputs": [
        {
          "output_type": "execute_result",
          "data": {
            "text/plain": [
              "<matplotlib.image.AxesImage at 0x7f6d6f25f450>"
            ]
          },
          "metadata": {},
          "execution_count": 29
        },
        {
          "output_type": "display_data",
          "data": {
            "image/png": "[encoded data removed]",
            "text/plain": [
              "<Figure size 432x288 with 1 Axes>"
            ]
          },
          "metadata": {
            "needs_background": "light"
          }
        }
      ]
    },
    {
      "cell_type": "code",
      "metadata": {
        "colab": {
          "base_uri": "https://localhost:8080/",
          "height": 284
        },
        "id": "K47b4Q6cJred",
        "outputId": "bb5e5fcc-4673-4f0b-c9e5-b499a1483e8e"
      },
      "source": [
        "plt.imshow(x_train[3])"
      ],
      "execution_count": null,
      "outputs": [
        {
          "output_type": "execute_result",
          "data": {
            "text/plain": [
              "<matplotlib.image.AxesImage at 0x7f6d6f1cc7d0>"
            ]
          },
          "metadata": {},
          "execution_count": 30
        },
        {
          "output_type": "display_data",
          "data": {
            "image/png": "[encoded data removed]",
            "text/plain": [
              "<Figure size 432x288 with 1 Axes>"
            ]
          },
          "metadata": {
            "needs_background": "light"
          }
        }
      ]
    },
    {
      "cell_type": "code",
      "metadata": {
        "colab": {
          "base_uri": "https://localhost:8080/"
        },
        "id": "gevq1WKiKY0u",
        "outputId": "dbc41910-3ce7-43e1-fc47-053a74d540b5"
      },
      "source": [
        "x_train.shape"
      ],
      "execution_count": null,
      "outputs": [
        {
          "output_type": "execute_result",
          "data": {
            "text/plain": [
              "(50000, 32, 32, 3)"
            ]
          },
          "metadata": {},
          "execution_count": 31
        }
      ]
    },
    {
      "cell_type": "code",
      "metadata": {
        "id": "u4P4u7dXKd5n"
      },
      "source": [
        "input_t = keras.Input(shape=(32,32,3))"
      ],
      "execution_count": null,
      "outputs": []
    },
    {
      "cell_type": "code",
      "metadata": {
        "colab": {
          "base_uri": "https://localhost:8080/"
        },
        "id": "2khTcrf4K4Nw",
        "outputId": "801ea57b-00f2-4b58-c694-4f2db9c557ab"
      },
      "source": [
        "!pip install Keras-Applications"
      ],
      "execution_count": null,
      "outputs": [
        {
          "output_type": "stream",
          "name": "stdout",
          "text": [
            "Collecting Keras-Applications\n",
            "  Downloading Keras_Applications-1.0.8-py3-none-any.whl (50 kB)\n",
            "\u001b[?25l\r\u001b[K     |██████▌                         | 10 kB 23.7 MB/s eta 0:00:01\r\u001b[K     |█████████████                   | 20 kB 11.8 MB/s eta 0:00:01\r\u001b[K     |███████████████████▍            | 30 kB 8.8 MB/s eta 0:00:01\r\u001b[K     |█████████████████████████▉      | 40 kB 8.2 MB/s eta 0:00:01\r\u001b[K     |████████████████████████████████| 50 kB 2.5 MB/s \n",
            "\u001b[?25hRequirement already satisfied: h5py in /usr/local/lib/python3.7/dist-packages (from Keras-Applications) (3.1.0)\n",
            "Requirement already satisfied: numpy>=1.9.1 in /usr/local/lib/python3.7/dist-packages (from Keras-Applications) (1.19.5)\n",
            "Requirement already satisfied: cached-property in /usr/local/lib/python3.7/dist-packages (from h5py->Keras-Applications) (1.5.2)\n",
            "Installing collected packages: Keras-Applications\n",
            "Successfully installed Keras-Applications-1.0.8\n"
          ]
        }
      ]
    },
    {
      "cell_type": "code",
      "metadata": {
        "colab": {
          "base_uri": "https://localhost:8080/",
          "height": 511
        },
        "id": "Gy8edG_iJ3-r",
        "outputId": "2441fab4-b32d-4906-831d-7108f0349c5d"
      },
      "source": [
        "!pip install keras==2.2.4\n",
        "import keras\n",
        "!pip install --upgrade keras keras-applications"
      ],
      "execution_count": null,
      "outputs": [
        {
          "output_type": "stream",
          "name": "stdout",
          "text": [
            "Requirement already satisfied: keras==2.2.4 in /usr/local/lib/python3.7/dist-packages (2.2.4)\n",
            "Requirement already satisfied: numpy>=1.9.1 in /usr/local/lib/python3.7/dist-packages (from keras==2.2.4) (1.19.5)\n",
            "Requirement already satisfied: pyyaml in /usr/local/lib/python3.7/dist-packages (from keras==2.2.4) (3.13)\n",
            "Requirement already satisfied: six>=1.9.0 in /usr/local/lib/python3.7/dist-packages (from keras==2.2.4) (1.15.0)\n",
            "Requirement already satisfied: h5py in /usr/local/lib/python3.7/dist-packages (from keras==2.2.4) (3.1.0)\n",
            "Requirement already satisfied: keras-preprocessing>=1.0.5 in /usr/local/lib/python3.7/dist-packages (from keras==2.2.4) (1.1.2)\n",
            "Requirement already satisfied: keras-applications>=1.0.6 in /usr/local/lib/python3.7/dist-packages (from keras==2.2.4) (1.0.8)\n",
            "Requirement already satisfied: scipy>=0.14 in /usr/local/lib/python3.7/dist-packages (from keras==2.2.4) (1.4.1)\n",
            "Requirement already satisfied: cached-property in /usr/local/lib/python3.7/dist-packages (from h5py->keras==2.2.4) (1.5.2)\n",
            "Requirement already satisfied: keras in /usr/local/lib/python3.7/dist-packages (2.2.4)\n",
            "Collecting keras\n",
            "  Downloading keras-2.6.0-py2.py3-none-any.whl (1.3 MB)\n",
            "\u001b[K     |████████████████████████████████| 1.3 MB 3.6 MB/s \n",
            "\u001b[?25hRequirement already satisfied: keras-applications in /usr/local/lib/python3.7/dist-packages (1.0.8)\n",
            "Requirement already satisfied: numpy>=1.9.1 in /usr/local/lib/python3.7/dist-packages (from keras-applications) (1.19.5)\n",
            "Requirement already satisfied: h5py in /usr/local/lib/python3.7/dist-packages (from keras-applications) (3.1.0)\n",
            "Requirement already satisfied: cached-property in /usr/local/lib/python3.7/dist-packages (from h5py->keras-applications) (1.5.2)\n",
            "Installing collected packages: keras\n",
            "  Attempting uninstall: keras\n",
            "    Found existing installation: Keras 2.2.4\n",
            "    Uninstalling Keras-2.2.4:\n",
            "      Successfully uninstalled Keras-2.2.4\n",
            "Successfully installed keras-2.6.0\n"
          ]
        },
        {
          "output_type": "display_data",
          "data": {
            "application/vnd.colab-display-data+json": {
              "pip_warning": {
                "packages": [
                  "keras"
                ]
              }
            }
          },
          "metadata": {}
        }
      ]
    },
    {
      "cell_type": "code",
      "metadata": {
        "id": "GCaoEUyXLj8f"
      },
      "source": [
        "resnet_model = tf.keras.applications.ResNet50(weights=None, classes=100, input_shape=(32, 32, 3))"
      ],
      "execution_count": null,
      "outputs": []
    },
    {
      "cell_type": "markdown",
      "metadata": {
        "id": "XveHvDASOdFm"
      },
      "source": [
        "1-1-b"
      ]
    },
    {
      "cell_type": "code",
      "metadata": {
        "colab": {
          "base_uri": "https://localhost:8080/"
        },
        "id": "5t70zJUvOiFH",
        "outputId": "bef54852-a96d-4534-82d3-552c654e6312"
      },
      "source": [
        "tf.keras.optimizers.SGD(lr=0.001, momentum=0.9, name=\"SGD\")\n",
        "resnet_model.compile(optimizer='SGD',loss='categorical_crossentropy',metrics=['accuracy'])\n",
        "resnet_history = resnet_model.fit(x_train, y_train, batch_size=64, epochs=200, validation_data=(x_test,y_test),verbose=1)"
      ],
      "execution_count": null,
      "outputs": [
        {
          "output_type": "stream",
          "name": "stderr",
          "text": [
            "/usr/local/lib/python3.7/dist-packages/keras/optimizer_v2/optimizer_v2.py:356: UserWarning: The `lr` argument is deprecated, use `learning_rate` instead.\n",
            "  \"The `lr` argument is deprecated, use `learning_rate` instead.\")\n"
          ]
        },
        {
          "output_type": "stream",
          "name": "stdout",
          "text": [
            "Epoch 1/200\n",
            "782/782 [==============================] - 3284s 4s/step - loss: 4.5745 - accuracy: 0.0820 - val_loss: 7.1056 - val_accuracy: 0.1129\n",
            "Epoch 2/200\n",
            "782/782 [==============================] - 3315s 4s/step - loss: 3.9315 - accuracy: 0.1495 - val_loss: 4.6440 - val_accuracy: 0.1239\n",
            "Epoch 3/200\n",
            "782/782 [==============================] - 3171s 4s/step - loss: 3.6644 - accuracy: 0.1909 - val_loss: 4.6722 - val_accuracy: 0.1707\n",
            "Epoch 4/200\n",
            "782/782 [==============================] - 3199s 4s/step - loss: 3.4449 - accuracy: 0.2238 - val_loss: 8.2586 - val_accuracy: 0.1940\n",
            "Epoch 5/200\n",
            "782/782 [==============================] - 3164s 4s/step - loss: 3.2254 - accuracy: 0.2577 - val_loss: 5.8243 - val_accuracy: 0.1691\n",
            "Epoch 6/200\n",
            "782/782 [==============================] - 3245s 4s/step - loss: 3.0265 - accuracy: 0.2932 - val_loss: 3.5556 - val_accuracy: 0.1860\n",
            "Epoch 7/200\n",
            "782/782 [==============================] - 3150s 4s/step - loss: 2.8232 - accuracy: 0.3235 - val_loss: 6.2220 - val_accuracy: 0.2175\n",
            "Epoch 8/200\n",
            "782/782 [==============================] - 3174s 4s/step - loss: 2.6301 - accuracy: 0.3595 - val_loss: 4.7298 - val_accuracy: 0.2424\n",
            "Epoch 9/200\n",
            "782/782 [==============================] - 3199s 4s/step - loss: 2.4361 - accuracy: 0.3942 - val_loss: 5.4268 - val_accuracy: 0.2255\n",
            "Epoch 10/200\n",
            "782/782 [==============================] - 3178s 4s/step - loss: 2.2515 - accuracy: 0.4266 - val_loss: 5.3798 - val_accuracy: 0.2264\n",
            "Epoch 11/200\n",
            "782/782 [==============================] - 3141s 4s/step - loss: 2.0547 - accuracy: 0.4641 - val_loss: 5.4915 - val_accuracy: 0.2497\n",
            "Epoch 12/200\n",
            "782/782 [==============================] - 3118s 4s/step - loss: 1.8589 - accuracy: 0.5036 - val_loss: 4.9830 - val_accuracy: 0.2504\n",
            "Epoch 13/200\n",
            "782/782 [==============================] - 3114s 4s/step - loss: 1.6811 - accuracy: 0.5429 - val_loss: 3.8576 - val_accuracy: 0.2472\n",
            "Epoch 14/200\n",
            "782/782 [==============================] - 3111s 4s/step - loss: 1.5188 - accuracy: 0.5787 - val_loss: 4.3570 - val_accuracy: 0.2434\n",
            "Epoch 15/200\n",
            "782/782 [==============================] - 3137s 4s/step - loss: 1.3392 - accuracy: 0.6230 - val_loss: 4.7021 - val_accuracy: 0.2424\n",
            "Epoch 16/200\n",
            "782/782 [==============================] - 3119s 4s/step - loss: 1.2000 - accuracy: 0.6559 - val_loss: 5.5737 - val_accuracy: 0.2463\n",
            "Epoch 17/200\n",
            "782/782 [==============================] - 3121s 4s/step - loss: 1.0615 - accuracy: 0.6923 - val_loss: 6.4354 - val_accuracy: 0.2341\n",
            "Epoch 18/200\n",
            "782/782 [==============================] - 3140s 4s/step - loss: 0.9210 - accuracy: 0.7313 - val_loss: 5.2347 - val_accuracy: 0.2168\n",
            "Epoch 19/200\n",
            "782/782 [==============================] - 3128s 4s/step - loss: 0.8102 - accuracy: 0.7601 - val_loss: 5.2946 - val_accuracy: 0.2467\n",
            "Epoch 20/200\n",
            "782/782 [==============================] - 3168s 4s/step - loss: 0.6991 - accuracy: 0.7902 - val_loss: 4.7290 - val_accuracy: 0.2433\n",
            "Epoch 21/200\n",
            "782/782 [==============================] - 3136s 4s/step - loss: 0.6239 - accuracy: 0.8129 - val_loss: 4.9028 - val_accuracy: 0.2424\n",
            "Epoch 22/200\n",
            "782/782 [==============================] - 3215s 4s/step - loss: 0.5605 - accuracy: 0.8320 - val_loss: 4.8586 - val_accuracy: 0.2518\n",
            "Epoch 23/200\n",
            "782/782 [==============================] - 3154s 4s/step - loss: 0.4825 - accuracy: 0.8554 - val_loss: 5.1926 - val_accuracy: 0.2249\n",
            "Epoch 24/200\n",
            "782/782 [==============================] - 3243s 4s/step - loss: 0.4346 - accuracy: 0.8705 - val_loss: 4.9808 - val_accuracy: 0.2686\n",
            "Epoch 25/200\n",
            "782/782 [==============================] - 3214s 4s/step - loss: 0.3652 - accuracy: 0.8899 - val_loss: 4.7662 - val_accuracy: 0.2935\n",
            "Epoch 26/200\n",
            "782/782 [==============================] - 3182s 4s/step - loss: 0.3230 - accuracy: 0.9042 - val_loss: 4.9924 - val_accuracy: 0.2821\n",
            "Epoch 27/200\n",
            "782/782 [==============================] - 3181s 4s/step - loss: 0.2968 - accuracy: 0.9116 - val_loss: 5.4326 - val_accuracy: 0.2443\n",
            "Epoch 28/200\n",
            "197/782 [======>.......................] - ETA: 39:13 - loss: 0.2674 - accuracy: 0.9216"
          ]
        }
      ]
    },
    {
      "cell_type": "markdown",
      "metadata": {
        "id": "KU3KsnGn5CjK"
      },
      "source": [
        "1-1-c"
      ]
    },
    {
      "cell_type": "code",
      "metadata": {
        "id": "tF8FF-NS9aLb"
      },
      "source": [
        "#implemented in different file \n",
        "tf.keras.optimizers.SGD(lr=0.01, momentum=0.9, name=\"SGD\")\n",
        "resnet_model.compile(optimizer='SGD',loss='categorical_crossentropy',metrics=['accuracy'])\n",
        "resnet_history = resnet_model.fit(x_train, y_train, batch_size=64, epochs=200, validation_data=(x_test,y_test),verbose=1)"
      ],
      "execution_count": null,
      "outputs": []
    },
    {
      "cell_type": "code",
      "metadata": {
        "id": "VtJ5ZA859f1Q"
      },
      "source": [
        "#implemented in different file \n",
        "tf.keras.optimizers.SGD(lr=0.1, momentum=0.9, name=\"SGD\")\n",
        "resnet_model.compile(optimizer='SGD',loss='categorical_crossentropy',metrics=['accuracy'])\n",
        "resnet_history = resnet_model.fit(x_train, y_train, batch_size=64, epochs=200, validation_data=(x_test,y_test),verbose=1)"
      ],
      "execution_count": null,
      "outputs": []
    },
    {
      "cell_type": "markdown",
      "metadata": {
        "id": "2baNVQW5IPAh"
      },
      "source": [
        "Learning rate with 0.001 gives the best accuracy. At 0.01 gives 0.8916 accuracy. 0.1 gives 0.9188 and 0.001 gives 0.9216. "
      ]
    },
    {
      "cell_type": "markdown",
      "metadata": {
        "id": "iPBhPHtw5FJv"
      },
      "source": [
        "1-2-a"
      ]
    },
    {
      "cell_type": "code",
      "metadata": {
        "colab": {
          "base_uri": "https://localhost:8080/"
        },
        "id": "weHO9CrE6w7U",
        "outputId": "56dab221-5a1c-46e6-a26f-f40c5f5c3f8f"
      },
      "source": [
        "for layer in resnet_model.layers[:-1]:\n",
        "  layer.trainable = False\n",
        "\n",
        "### LR 1\n",
        "tf.keras.optimizers.SGD(lr=1, momentum=0.9, name=\"SGD\")\n",
        "resnet_model.compile(optimizer='SGD',loss='categorical_crossentropy',metrics=['accuracy'])\n",
        "resnet_history = resnet_model.fit(x_train, y_train, batch_size=64, epochs=200, validation_data=(x_test,y_test),verbose=1)\n"
      ],
      "execution_count": null,
      "outputs": [
        {
          "output_type": "stream",
          "name": "stderr",
          "text": [
            "/usr/local/lib/python3.7/dist-packages/keras/optimizer_v2/optimizer_v2.py:356: UserWarning: The `lr` argument is deprecated, use `learning_rate` instead.\n",
            "  \"The `lr` argument is deprecated, use `learning_rate` instead.\")\n"
          ]
        },
        {
          "output_type": "stream",
          "name": "stdout",
          "text": [
            "Epoch 1/200\n",
            "782/782 [==============================] - 240s 304ms/step - loss: 4.6044 - accuracy: 0.0098 - val_loss: 4.6038 - val_accuracy: 0.0097\n",
            "Epoch 2/200\n",
            "782/782 [==============================] - 219s 280ms/step - loss: 4.6033 - accuracy: 0.0094 - val_loss: 4.6027 - val_accuracy: 0.0093\n",
            "Epoch 3/200\n",
            "782/782 [==============================] - 223s 286ms/step - loss: 4.6022 - accuracy: 0.0103 - val_loss: 4.6017 - val_accuracy: 0.0093\n",
            "Epoch 4/200\n",
            "782/782 [==============================] - 219s 280ms/step - loss: 4.6012 - accuracy: 0.0096 - val_loss: 4.6007 - val_accuracy: 0.0084\n",
            "Epoch 5/200\n",
            "782/782 [==============================] - 219s 281ms/step - loss: 4.6003 - accuracy: 0.0100 - val_loss: 4.5998 - val_accuracy: 0.0101\n",
            "Epoch 6/200\n",
            "782/782 [==============================] - 222s 284ms/step - loss: 4.5994 - accuracy: 0.0098 - val_loss: 4.5990 - val_accuracy: 0.0096\n",
            "Epoch 7/200\n",
            "782/782 [==============================] - 223s 285ms/step - loss: 4.5985 - accuracy: 0.0103 - val_loss: 4.5981 - val_accuracy: 0.0102\n",
            "Epoch 8/200\n",
            "782/782 [==============================] - 224s 286ms/step - loss: 4.5977 - accuracy: 0.0103 - val_loss: 4.5973 - val_accuracy: 0.0100\n",
            "Epoch 9/200\n",
            "782/782 [==============================] - 221s 282ms/step - loss: 4.5969 - accuracy: 0.0103 - val_loss: 4.5966 - val_accuracy: 0.0103\n",
            "Epoch 10/200\n",
            "782/782 [==============================] - 220s 281ms/step - loss: 4.5961 - accuracy: 0.0102 - val_loss: 4.5958 - val_accuracy: 0.0105\n",
            "Epoch 11/200\n",
            "782/782 [==============================] - 222s 283ms/step - loss: 4.5953 - accuracy: 0.0105 - val_loss: 4.5950 - val_accuracy: 0.0105\n",
            "Epoch 12/200\n",
            "782/782 [==============================] - 222s 284ms/step - loss: 4.5945 - accuracy: 0.0107 - val_loss: 4.5943 - val_accuracy: 0.0106\n",
            "Epoch 13/200\n",
            "782/782 [==============================] - 221s 282ms/step - loss: 4.5938 - accuracy: 0.0108 - val_loss: 4.5936 - val_accuracy: 0.0108\n",
            "Epoch 14/200\n",
            "782/782 [==============================] - 221s 282ms/step - loss: 4.5931 - accuracy: 0.0110 - val_loss: 4.5929 - val_accuracy: 0.0107\n",
            "Epoch 15/200\n",
            "782/782 [==============================] - 223s 285ms/step - loss: 4.5923 - accuracy: 0.0112 - val_loss: 4.5921 - val_accuracy: 0.0108\n",
            "Epoch 16/200\n",
            "782/782 [==============================] - 223s 285ms/step - loss: 4.5916 - accuracy: 0.0115 - val_loss: 4.5914 - val_accuracy: 0.0111\n",
            "Epoch 17/200\n",
            "782/782 [==============================] - 227s 291ms/step - loss: 4.5909 - accuracy: 0.0120 - val_loss: 4.5907 - val_accuracy: 0.0115\n",
            "Epoch 18/200\n",
            "782/782 [==============================] - 227s 291ms/step - loss: 4.5902 - accuracy: 0.0121 - val_loss: 4.5901 - val_accuracy: 0.0119\n",
            "Epoch 19/200\n",
            "782/782 [==============================] - 228s 291ms/step - loss: 4.5895 - accuracy: 0.0130 - val_loss: 4.5894 - val_accuracy: 0.0125\n",
            "Epoch 20/200\n",
            "782/782 [==============================] - 228s 292ms/step - loss: 4.5888 - accuracy: 0.0136 - val_loss: 4.5887 - val_accuracy: 0.0133\n",
            "Epoch 21/200\n",
            "782/782 [==============================] - 229s 293ms/step - loss: 4.5881 - accuracy: 0.0137 - val_loss: 4.5880 - val_accuracy: 0.0138\n",
            "Epoch 22/200\n",
            "782/782 [==============================] - 228s 291ms/step - loss: 4.5874 - accuracy: 0.0144 - val_loss: 4.5873 - val_accuracy: 0.0143\n",
            "Epoch 23/200\n",
            "782/782 [==============================] - 228s 292ms/step - loss: 4.5867 - accuracy: 0.0151 - val_loss: 4.5867 - val_accuracy: 0.0151\n",
            "Epoch 24/200\n",
            "782/782 [==============================] - 229s 293ms/step - loss: 4.5860 - accuracy: 0.0163 - val_loss: 4.5860 - val_accuracy: 0.0160\n",
            "Epoch 25/200\n",
            "782/782 [==============================] - 227s 291ms/step - loss: 4.5854 - accuracy: 0.0163 - val_loss: 4.5854 - val_accuracy: 0.0165\n",
            "Epoch 26/200\n",
            "782/782 [==============================] - 228s 292ms/step - loss: 4.5847 - accuracy: 0.0171 - val_loss: 4.5847 - val_accuracy: 0.0171\n",
            "Epoch 27/200\n",
            "782/782 [==============================] - 227s 290ms/step - loss: 4.5840 - accuracy: 0.0174 - val_loss: 4.5841 - val_accuracy: 0.0178\n",
            "Epoch 28/200\n",
            "782/782 [==============================] - 227s 290ms/step - loss: 4.5834 - accuracy: 0.0177 - val_loss: 4.5834 - val_accuracy: 0.0186\n",
            "Epoch 29/200\n",
            "782/782 [==============================] - 227s 291ms/step - loss: 4.5827 - accuracy: 0.0183 - val_loss: 4.5828 - val_accuracy: 0.0190\n",
            "Epoch 30/200\n",
            "782/782 [==============================] - 227s 291ms/step - loss: 4.5821 - accuracy: 0.0189 - val_loss: 4.5822 - val_accuracy: 0.0196\n",
            "Epoch 31/200\n",
            "782/782 [==============================] - 228s 292ms/step - loss: 4.5814 - accuracy: 0.0188 - val_loss: 4.5815 - val_accuracy: 0.0199\n",
            "Epoch 32/200\n",
            "782/782 [==============================] - 229s 293ms/step - loss: 4.5808 - accuracy: 0.0195 - val_loss: 4.5809 - val_accuracy: 0.0199\n",
            "Epoch 33/200\n",
            "782/782 [==============================] - 228s 291ms/step - loss: 4.5802 - accuracy: 0.0196 - val_loss: 4.5803 - val_accuracy: 0.0199\n",
            "Epoch 34/200\n",
            "782/782 [==============================] - 228s 291ms/step - loss: 4.5795 - accuracy: 0.0206 - val_loss: 4.5797 - val_accuracy: 0.0202\n",
            "Epoch 35/200\n",
            "782/782 [==============================] - 228s 292ms/step - loss: 4.5789 - accuracy: 0.0203 - val_loss: 4.5791 - val_accuracy: 0.0203\n",
            "Epoch 36/200\n",
            "782/782 [==============================] - 230s 294ms/step - loss: 4.5783 - accuracy: 0.0207 - val_loss: 4.5785 - val_accuracy: 0.0212\n",
            "Epoch 37/200\n",
            "782/782 [==============================] - 228s 292ms/step - loss: 4.5777 - accuracy: 0.0213 - val_loss: 4.5779 - val_accuracy: 0.0211\n",
            "Epoch 38/200\n",
            "782/782 [==============================] - 229s 293ms/step - loss: 4.5771 - accuracy: 0.0214 - val_loss: 4.5773 - val_accuracy: 0.0212\n",
            "Epoch 39/200\n",
            "782/782 [==============================] - 231s 295ms/step - loss: 4.5765 - accuracy: 0.0220 - val_loss: 4.5767 - val_accuracy: 0.0220\n",
            "Epoch 40/200\n",
            "782/782 [==============================] - 230s 294ms/step - loss: 4.5759 - accuracy: 0.0221 - val_loss: 4.5761 - val_accuracy: 0.0214\n",
            "Epoch 41/200\n",
            "782/782 [==============================] - 229s 293ms/step - loss: 4.5753 - accuracy: 0.0223 - val_loss: 4.5755 - val_accuracy: 0.0214\n",
            "Epoch 42/200\n",
            "782/782 [==============================] - 229s 294ms/step - loss: 4.5747 - accuracy: 0.0225 - val_loss: 4.5749 - val_accuracy: 0.0215\n",
            "Epoch 43/200\n",
            "782/782 [==============================] - 232s 297ms/step - loss: 4.5741 - accuracy: 0.0229 - val_loss: 4.5744 - val_accuracy: 0.0220\n",
            "Epoch 44/200\n",
            "782/782 [==============================] - 229s 293ms/step - loss: 4.5735 - accuracy: 0.0232 - val_loss: 4.5738 - val_accuracy: 0.0222\n",
            "Epoch 45/200\n",
            "782/782 [==============================] - 229s 293ms/step - loss: 4.5729 - accuracy: 0.0235 - val_loss: 4.5732 - val_accuracy: 0.0218\n",
            "Epoch 46/200\n",
            "782/782 [==============================] - 228s 292ms/step - loss: 4.5723 - accuracy: 0.0240 - val_loss: 4.5727 - val_accuracy: 0.0220\n",
            "Epoch 47/200\n",
            "782/782 [==============================] - 230s 294ms/step - loss: 4.5718 - accuracy: 0.0240 - val_loss: 4.5721 - val_accuracy: 0.0221\n",
            "Epoch 48/200\n",
            "782/782 [==============================] - 228s 291ms/step - loss: 4.5712 - accuracy: 0.0239 - val_loss: 4.5715 - val_accuracy: 0.0222\n",
            "Epoch 49/200\n",
            "782/782 [==============================] - 227s 291ms/step - loss: 4.5706 - accuracy: 0.0241 - val_loss: 4.5710 - val_accuracy: 0.0224\n",
            "Epoch 50/200\n",
            "782/782 [==============================] - 228s 292ms/step - loss: 4.5701 - accuracy: 0.0244 - val_loss: 4.5705 - val_accuracy: 0.0230\n",
            "Epoch 51/200\n",
            "782/782 [==============================] - 230s 294ms/step - loss: 4.5695 - accuracy: 0.0250 - val_loss: 4.5699 - val_accuracy: 0.0235\n",
            "Epoch 52/200\n",
            "782/782 [==============================] - 231s 296ms/step - loss: 4.5690 - accuracy: 0.0248 - val_loss: 4.5694 - val_accuracy: 0.0238\n",
            "Epoch 53/200\n",
            "782/782 [==============================] - 230s 294ms/step - loss: 4.5684 - accuracy: 0.0255 - val_loss: 4.5688 - val_accuracy: 0.0235\n",
            "Epoch 54/200\n",
            "782/782 [==============================] - 230s 294ms/step - loss: 4.5679 - accuracy: 0.0259 - val_loss: 4.5683 - val_accuracy: 0.0234\n",
            "Epoch 55/200\n",
            "782/782 [==============================] - 231s 296ms/step - loss: 4.5673 - accuracy: 0.0260 - val_loss: 4.5678 - val_accuracy: 0.0238\n",
            "Epoch 56/200\n",
            "782/782 [==============================] - 230s 295ms/step - loss: 4.5668 - accuracy: 0.0262 - val_loss: 4.5672 - val_accuracy: 0.0238\n",
            "Epoch 57/200\n",
            "782/782 [==============================] - 232s 297ms/step - loss: 4.5662 - accuracy: 0.0265 - val_loss: 4.5667 - val_accuracy: 0.0246\n",
            "Epoch 58/200\n",
            "782/782 [==============================] - 232s 297ms/step - loss: 4.5657 - accuracy: 0.0262 - val_loss: 4.5662 - val_accuracy: 0.0252\n",
            "Epoch 59/200\n",
            "782/782 [==============================] - 230s 294ms/step - loss: 4.5652 - accuracy: 0.0263 - val_loss: 4.5657 - val_accuracy: 0.0251\n",
            "Epoch 60/200\n",
            "782/782 [==============================] - 230s 294ms/step - loss: 4.5646 - accuracy: 0.0266 - val_loss: 4.5652 - val_accuracy: 0.0254\n",
            "Epoch 61/200\n",
            "782/782 [==============================] - 230s 294ms/step - loss: 4.5641 - accuracy: 0.0269 - val_loss: 4.5647 - val_accuracy: 0.0256\n",
            "Epoch 62/200\n",
            "782/782 [==============================] - 230s 294ms/step - loss: 4.5636 - accuracy: 0.0269 - val_loss: 4.5642 - val_accuracy: 0.0259\n",
            "Epoch 63/200\n",
            "782/782 [==============================] - 229s 293ms/step - loss: 4.5631 - accuracy: 0.0277 - val_loss: 4.5637 - val_accuracy: 0.0261\n",
            "Epoch 64/200\n",
            "782/782 [==============================] - 232s 297ms/step - loss: 4.5626 - accuracy: 0.0278 - val_loss: 4.5632 - val_accuracy: 0.0265\n",
            "Epoch 65/200\n",
            "782/782 [==============================] - 232s 296ms/step - loss: 4.5621 - accuracy: 0.0276 - val_loss: 4.5627 - val_accuracy: 0.0264\n",
            "Epoch 66/200\n",
            "782/782 [==============================] - 230s 294ms/step - loss: 4.5616 - accuracy: 0.0277 - val_loss: 4.5622 - val_accuracy: 0.0269\n",
            "Epoch 67/200\n",
            "782/782 [==============================] - 230s 294ms/step - loss: 4.5611 - accuracy: 0.0283 - val_loss: 4.5617 - val_accuracy: 0.0271\n",
            "Epoch 68/200\n",
            "782/782 [==============================] - 229s 292ms/step - loss: 4.5606 - accuracy: 0.0287 - val_loss: 4.5612 - val_accuracy: 0.0276\n",
            "Epoch 69/200\n",
            "782/782 [==============================] - 229s 292ms/step - loss: 4.5601 - accuracy: 0.0277 - val_loss: 4.5607 - val_accuracy: 0.0276\n",
            "Epoch 70/200\n",
            "782/782 [==============================] - 231s 296ms/step - loss: 4.5596 - accuracy: 0.0287 - val_loss: 4.5603 - val_accuracy: 0.0275\n",
            "Epoch 71/200\n",
            "782/782 [==============================] - 230s 294ms/step - loss: 4.5591 - accuracy: 0.0291 - val_loss: 4.5598 - val_accuracy: 0.0277\n",
            "Epoch 72/200\n",
            "782/782 [==============================] - 226s 290ms/step - loss: 4.5586 - accuracy: 0.0290 - val_loss: 4.5593 - val_accuracy: 0.0274\n",
            "Epoch 73/200\n",
            "782/782 [==============================] - 228s 291ms/step - loss: 4.5581 - accuracy: 0.0288 - val_loss: 4.5588 - val_accuracy: 0.0273\n",
            "Epoch 74/200\n",
            "782/782 [==============================] - 229s 293ms/step - loss: 4.5577 - accuracy: 0.0297 - val_loss: 4.5584 - val_accuracy: 0.0276\n",
            "Epoch 75/200\n",
            "782/782 [==============================] - 227s 291ms/step - loss: 4.5572 - accuracy: 0.0294 - val_loss: 4.5579 - val_accuracy: 0.0275\n",
            "Epoch 76/200\n",
            "782/782 [==============================] - 225s 288ms/step - loss: 4.5567 - accuracy: 0.0292 - val_loss: 4.5575 - val_accuracy: 0.0274\n",
            "Epoch 77/200\n",
            "782/782 [==============================] - 227s 290ms/step - loss: 4.5562 - accuracy: 0.0297 - val_loss: 4.5570 - val_accuracy: 0.0273\n",
            "Epoch 78/200\n",
            "782/782 [==============================] - 225s 288ms/step - loss: 4.5558 - accuracy: 0.0296 - val_loss: 4.5565 - val_accuracy: 0.0278\n",
            "Epoch 79/200\n",
            "782/782 [==============================] - 226s 289ms/step - loss: 4.5553 - accuracy: 0.0300 - val_loss: 4.5561 - val_accuracy: 0.0281\n",
            "Epoch 80/200\n",
            "782/782 [==============================] - 225s 288ms/step - loss: 4.5548 - accuracy: 0.0309 - val_loss: 4.5557 - val_accuracy: 0.0281\n",
            "Epoch 81/200\n",
            "782/782 [==============================] - 227s 290ms/step - loss: 4.5544 - accuracy: 0.0303 - val_loss: 4.5552 - val_accuracy: 0.0278\n",
            "Epoch 82/200\n",
            "782/782 [==============================] - 228s 292ms/step - loss: 4.5539 - accuracy: 0.0301 - val_loss: 4.5548 - val_accuracy: 0.0281\n",
            "Epoch 83/200\n",
            "782/782 [==============================] - 229s 293ms/step - loss: 4.5535 - accuracy: 0.0305 - val_loss: 4.5543 - val_accuracy: 0.0285\n",
            "Epoch 84/200\n",
            "782/782 [==============================] - 227s 290ms/step - loss: 4.5530 - accuracy: 0.0304 - val_loss: 4.5539 - val_accuracy: 0.0288\n",
            "Epoch 85/200\n",
            "782/782 [==============================] - 227s 290ms/step - loss: 4.5526 - accuracy: 0.0313 - val_loss: 4.5535 - val_accuracy: 0.0290\n",
            "Epoch 86/200\n",
            "782/782 [==============================] - 224s 287ms/step - loss: 4.5521 - accuracy: 0.0313 - val_loss: 4.5530 - val_accuracy: 0.0293\n",
            "Epoch 87/200\n",
            "782/782 [==============================] - 227s 290ms/step - loss: 4.5517 - accuracy: 0.0309 - val_loss: 4.5526 - val_accuracy: 0.0293\n",
            "Epoch 88/200\n",
            "782/782 [==============================] - 227s 290ms/step - loss: 4.5513 - accuracy: 0.0313 - val_loss: 4.5522 - val_accuracy: 0.0293\n",
            "Epoch 89/200\n",
            "782/782 [==============================] - 226s 290ms/step - loss: 4.5508 - accuracy: 0.0311 - val_loss: 4.5517 - val_accuracy: 0.0290\n",
            "Epoch 90/200\n",
            "782/782 [==============================] - 227s 290ms/step - loss: 4.5504 - accuracy: 0.0315 - val_loss: 4.5513 - val_accuracy: 0.0295\n",
            "Epoch 91/200\n",
            "782/782 [==============================] - 228s 291ms/step - loss: 4.5500 - accuracy: 0.0316 - val_loss: 4.5509 - val_accuracy: 0.0302\n",
            "Epoch 92/200\n",
            "782/782 [==============================] - 227s 290ms/step - loss: 4.5495 - accuracy: 0.0321 - val_loss: 4.5505 - val_accuracy: 0.0302\n",
            "Epoch 93/200\n",
            "782/782 [==============================] - 231s 295ms/step - loss: 4.5491 - accuracy: 0.0316 - val_loss: 4.5501 - val_accuracy: 0.0306\n",
            "Epoch 94/200\n",
            "782/782 [==============================] - 229s 293ms/step - loss: 4.5487 - accuracy: 0.0323 - val_loss: 4.5497 - val_accuracy: 0.0307\n",
            "Epoch 95/200\n",
            "782/782 [==============================] - 228s 291ms/step - loss: 4.5483 - accuracy: 0.0321 - val_loss: 4.5493 - val_accuracy: 0.0310\n",
            "Epoch 96/200\n",
            "782/782 [==============================] - 229s 292ms/step - loss: 4.5479 - accuracy: 0.0326 - val_loss: 4.5489 - val_accuracy: 0.0306\n",
            "Epoch 97/200\n",
            "782/782 [==============================] - 228s 292ms/step - loss: 4.5474 - accuracy: 0.0323 - val_loss: 4.5485 - val_accuracy: 0.0311\n",
            "Epoch 98/200\n",
            "782/782 [==============================] - 230s 294ms/step - loss: 4.5470 - accuracy: 0.0324 - val_loss: 4.5481 - val_accuracy: 0.0315\n",
            "Epoch 99/200\n",
            "782/782 [==============================] - 231s 296ms/step - loss: 4.5466 - accuracy: 0.0332 - val_loss: 4.5477 - val_accuracy: 0.0315\n",
            "Epoch 100/200\n",
            "782/782 [==============================] - 232s 297ms/step - loss: 4.5462 - accuracy: 0.0327 - val_loss: 4.5473 - val_accuracy: 0.0318\n",
            "Epoch 101/200\n",
            "782/782 [==============================] - 228s 291ms/step - loss: 4.5458 - accuracy: 0.0330 - val_loss: 4.5469 - val_accuracy: 0.0328\n",
            "Epoch 102/200\n",
            "782/782 [==============================] - 228s 292ms/step - loss: 4.5454 - accuracy: 0.0327 - val_loss: 4.5465 - val_accuracy: 0.0330\n",
            "Epoch 103/200\n",
            "782/782 [==============================] - 231s 295ms/step - loss: 4.5450 - accuracy: 0.0332 - val_loss: 4.5461 - val_accuracy: 0.0328\n",
            "Epoch 104/200\n",
            "782/782 [==============================] - 231s 295ms/step - loss: 4.5446 - accuracy: 0.0326 - val_loss: 4.5457 - val_accuracy: 0.0329\n",
            "Epoch 105/200\n",
            "782/782 [==============================] - 230s 294ms/step - loss: 4.5442 - accuracy: 0.0337 - val_loss: 4.5453 - val_accuracy: 0.0326\n",
            "Epoch 106/200\n",
            "782/782 [==============================] - 229s 293ms/step - loss: 4.5438 - accuracy: 0.0338 - val_loss: 4.5449 - val_accuracy: 0.0325\n",
            "Epoch 107/200\n",
            "782/782 [==============================] - 229s 294ms/step - loss: 4.5434 - accuracy: 0.0331 - val_loss: 4.5446 - val_accuracy: 0.0327\n",
            "Epoch 108/200\n",
            "782/782 [==============================] - 231s 295ms/step - loss: 4.5430 - accuracy: 0.0327 - val_loss: 4.5442 - val_accuracy: 0.0328\n",
            "Epoch 109/200\n",
            "782/782 [==============================] - 229s 293ms/step - loss: 4.5427 - accuracy: 0.0337 - val_loss: 4.5438 - val_accuracy: 0.0333\n",
            "Epoch 110/200\n",
            "782/782 [==============================] - 230s 294ms/step - loss: 4.5423 - accuracy: 0.0337 - val_loss: 4.5434 - val_accuracy: 0.0333\n",
            "Epoch 111/200\n",
            "782/782 [==============================] - 232s 297ms/step - loss: 4.5419 - accuracy: 0.0341 - val_loss: 4.5431 - val_accuracy: 0.0334\n",
            "Epoch 112/200\n",
            "782/782 [==============================] - 236s 302ms/step - loss: 4.5415 - accuracy: 0.0338 - val_loss: 4.5427 - val_accuracy: 0.0335\n",
            "Epoch 113/200\n",
            "782/782 [==============================] - 236s 302ms/step - loss: 4.5411 - accuracy: 0.0342 - val_loss: 4.5423 - val_accuracy: 0.0335\n",
            "Epoch 114/200\n",
            "782/782 [==============================] - 239s 305ms/step - loss: 4.5408 - accuracy: 0.0345 - val_loss: 4.5420 - val_accuracy: 0.0337\n",
            "Epoch 115/200\n",
            "782/782 [==============================] - 239s 305ms/step - loss: 4.5404 - accuracy: 0.0343 - val_loss: 4.5416 - val_accuracy: 0.0340\n",
            "Epoch 116/200\n",
            "782/782 [==============================] - 239s 305ms/step - loss: 4.5400 - accuracy: 0.0347 - val_loss: 4.5412 - val_accuracy: 0.0341\n",
            "Epoch 117/200\n",
            "782/782 [==============================] - 241s 309ms/step - loss: 4.5396 - accuracy: 0.0344 - val_loss: 4.5409 - val_accuracy: 0.0346\n",
            "Epoch 118/200\n",
            "782/782 [==============================] - 238s 305ms/step - loss: 4.5393 - accuracy: 0.0347 - val_loss: 4.5405 - val_accuracy: 0.0342\n",
            "Epoch 119/200\n",
            "782/782 [==============================] - 238s 305ms/step - loss: 4.5389 - accuracy: 0.0341 - val_loss: 4.5402 - val_accuracy: 0.0341\n",
            "Epoch 120/200\n",
            "782/782 [==============================] - 239s 306ms/step - loss: 4.5385 - accuracy: 0.0345 - val_loss: 4.5398 - val_accuracy: 0.0341\n",
            "Epoch 121/200\n",
            "782/782 [==============================] - 240s 306ms/step - loss: 4.5382 - accuracy: 0.0351 - val_loss: 4.5395 - val_accuracy: 0.0339\n",
            "Epoch 122/200\n",
            "782/782 [==============================] - 236s 301ms/step - loss: 4.5378 - accuracy: 0.0351 - val_loss: 4.5391 - val_accuracy: 0.0341\n",
            "Epoch 123/200\n",
            "782/782 [==============================] - 240s 307ms/step - loss: 4.5375 - accuracy: 0.0352 - val_loss: 4.5388 - val_accuracy: 0.0344\n",
            "Epoch 124/200\n",
            "782/782 [==============================] - 240s 307ms/step - loss: 4.5371 - accuracy: 0.0344 - val_loss: 4.5384 - val_accuracy: 0.0343\n",
            "Epoch 125/200\n",
            "782/782 [==============================] - 238s 304ms/step - loss: 4.5368 - accuracy: 0.0354 - val_loss: 4.5381 - val_accuracy: 0.0343\n",
            "Epoch 126/200\n",
            "782/782 [==============================] - 237s 303ms/step - loss: 4.5364 - accuracy: 0.0349 - val_loss: 4.5378 - val_accuracy: 0.0345\n",
            "Epoch 127/200\n",
            "782/782 [==============================] - 239s 306ms/step - loss: 4.5361 - accuracy: 0.0349 - val_loss: 4.5374 - val_accuracy: 0.0344\n",
            "Epoch 128/200\n",
            "782/782 [==============================] - 239s 305ms/step - loss: 4.5357 - accuracy: 0.0349 - val_loss: 4.5371 - val_accuracy: 0.0344\n",
            "Epoch 129/200\n",
            "782/782 [==============================] - 239s 306ms/step - loss: 4.5354 - accuracy: 0.0352 - val_loss: 4.5367 - val_accuracy: 0.0347\n",
            "Epoch 130/200\n",
            "782/782 [==============================] - 236s 302ms/step - loss: 4.5350 - accuracy: 0.0355 - val_loss: 4.5364 - val_accuracy: 0.0344\n",
            "Epoch 131/200\n",
            "782/782 [==============================] - 237s 303ms/step - loss: 4.5347 - accuracy: 0.0351 - val_loss: 4.5361 - val_accuracy: 0.0347\n",
            "Epoch 132/200\n",
            "782/782 [==============================] - 240s 307ms/step - loss: 4.5343 - accuracy: 0.0360 - val_loss: 4.5358 - val_accuracy: 0.0350\n",
            "Epoch 133/200\n",
            "782/782 [==============================] - 241s 309ms/step - loss: 4.5340 - accuracy: 0.0354 - val_loss: 4.5354 - val_accuracy: 0.0351\n",
            "Epoch 134/200\n",
            "782/782 [==============================] - 240s 307ms/step - loss: 4.5337 - accuracy: 0.0359 - val_loss: 4.5351 - val_accuracy: 0.0347\n",
            "Epoch 135/200\n",
            "782/782 [==============================] - 241s 309ms/step - loss: 4.5333 - accuracy: 0.0357 - val_loss: 4.5348 - val_accuracy: 0.0349\n",
            "Epoch 136/200\n",
            "782/782 [==============================] - 242s 310ms/step - loss: 4.5330 - accuracy: 0.0360 - val_loss: 4.5345 - val_accuracy: 0.0351\n",
            "Epoch 137/200\n",
            "782/782 [==============================] - 241s 308ms/step - loss: 4.5327 - accuracy: 0.0360 - val_loss: 4.5341 - val_accuracy: 0.0349\n",
            "Epoch 138/200\n",
            "782/782 [==============================] - 238s 304ms/step - loss: 4.5323 - accuracy: 0.0360 - val_loss: 4.5338 - val_accuracy: 0.0348\n",
            "Epoch 139/200\n",
            "782/782 [==============================] - 239s 306ms/step - loss: 4.5320 - accuracy: 0.0359 - val_loss: 4.5335 - val_accuracy: 0.0349\n",
            "Epoch 140/200\n",
            "782/782 [==============================] - 240s 306ms/step - loss: 4.5317 - accuracy: 0.0358 - val_loss: 4.5332 - val_accuracy: 0.0347\n",
            "Epoch 141/200\n",
            "782/782 [==============================] - 239s 306ms/step - loss: 4.5314 - accuracy: 0.0362 - val_loss: 4.5329 - val_accuracy: 0.0355\n",
            "Epoch 142/200\n",
            "782/782 [==============================] - 239s 305ms/step - loss: 4.5310 - accuracy: 0.0359 - val_loss: 4.5326 - val_accuracy: 0.0356\n",
            "Epoch 143/200\n",
            "782/782 [==============================] - 237s 303ms/step - loss: 4.5307 - accuracy: 0.0363 - val_loss: 4.5322 - val_accuracy: 0.0358\n",
            "Epoch 144/200\n",
            "782/782 [==============================] - 237s 303ms/step - loss: 4.5304 - accuracy: 0.0367 - val_loss: 4.5319 - val_accuracy: 0.0355\n",
            "Epoch 145/200\n",
            "782/782 [==============================] - 236s 302ms/step - loss: 4.5301 - accuracy: 0.0366 - val_loss: 4.5316 - val_accuracy: 0.0355\n",
            "Epoch 146/200\n",
            "782/782 [==============================] - 237s 303ms/step - loss: 4.5298 - accuracy: 0.0366 - val_loss: 4.5313 - val_accuracy: 0.0357\n",
            "Epoch 147/200\n",
            "782/782 [==============================] - 238s 304ms/step - loss: 4.5294 - accuracy: 0.0367 - val_loss: 4.5310 - val_accuracy: 0.0355\n",
            "Epoch 148/200\n",
            "782/782 [==============================] - 240s 307ms/step - loss: 4.5291 - accuracy: 0.0367 - val_loss: 4.5307 - val_accuracy: 0.0359\n",
            "Epoch 149/200\n",
            "782/782 [==============================] - 243s 310ms/step - loss: 4.5288 - accuracy: 0.0374 - val_loss: 4.5304 - val_accuracy: 0.0357\n",
            "Epoch 150/200\n",
            "782/782 [==============================] - 241s 308ms/step - loss: 4.5285 - accuracy: 0.0368 - val_loss: 4.5301 - val_accuracy: 0.0363\n",
            "Epoch 151/200\n",
            "782/782 [==============================] - 243s 311ms/step - loss: 4.5282 - accuracy: 0.0376 - val_loss: 4.5298 - val_accuracy: 0.0359\n",
            "Epoch 152/200\n",
            "782/782 [==============================] - 240s 307ms/step - loss: 4.5279 - accuracy: 0.0374 - val_loss: 4.5295 - val_accuracy: 0.0362\n",
            "Epoch 153/200\n",
            "782/782 [==============================] - 240s 308ms/step - loss: 4.5276 - accuracy: 0.0369 - val_loss: 4.5292 - val_accuracy: 0.0362\n",
            "Epoch 154/200\n",
            "782/782 [==============================] - 241s 308ms/step - loss: 4.5273 - accuracy: 0.0374 - val_loss: 4.5289 - val_accuracy: 0.0361\n",
            "Epoch 155/200\n",
            "782/782 [==============================] - 243s 311ms/step - loss: 4.5270 - accuracy: 0.0379 - val_loss: 4.5286 - val_accuracy: 0.0365\n",
            "Epoch 156/200\n",
            "782/782 [==============================] - 241s 308ms/step - loss: 4.5267 - accuracy: 0.0378 - val_loss: 4.5283 - val_accuracy: 0.0366\n",
            "Epoch 157/200\n",
            "782/782 [==============================] - 241s 308ms/step - loss: 4.5264 - accuracy: 0.0378 - val_loss: 4.5281 - val_accuracy: 0.0369\n",
            "Epoch 158/200\n",
            "782/782 [==============================] - 241s 308ms/step - loss: 4.5261 - accuracy: 0.0381 - val_loss: 4.5278 - val_accuracy: 0.0368\n",
            "Epoch 159/200\n",
            "782/782 [==============================] - 241s 308ms/step - loss: 4.5258 - accuracy: 0.0378 - val_loss: 4.5275 - val_accuracy: 0.0368\n",
            "Epoch 160/200\n",
            "782/782 [==============================] - 236s 302ms/step - loss: 4.5255 - accuracy: 0.0374 - val_loss: 4.5272 - val_accuracy: 0.0366\n",
            "Epoch 161/200\n",
            "782/782 [==============================] - 237s 303ms/step - loss: 4.5252 - accuracy: 0.0376 - val_loss: 4.5269 - val_accuracy: 0.0368\n",
            "Epoch 162/200\n",
            "782/782 [==============================] - 237s 303ms/step - loss: 4.5249 - accuracy: 0.0384 - val_loss: 4.5266 - val_accuracy: 0.0368\n",
            "Epoch 163/200\n",
            "782/782 [==============================] - 239s 306ms/step - loss: 4.5246 - accuracy: 0.0379 - val_loss: 4.5263 - val_accuracy: 0.0371\n",
            "Epoch 164/200\n",
            "782/782 [==============================] - 241s 309ms/step - loss: 4.5243 - accuracy: 0.0380 - val_loss: 4.5261 - val_accuracy: 0.0373\n",
            "Epoch 165/200\n",
            "782/782 [==============================] - 239s 305ms/step - loss: 4.5240 - accuracy: 0.0385 - val_loss: 4.5258 - val_accuracy: 0.0374\n",
            "Epoch 166/200\n",
            "782/782 [==============================] - 240s 308ms/step - loss: 4.5237 - accuracy: 0.0378 - val_loss: 4.5255 - val_accuracy: 0.0377\n",
            "Epoch 167/200\n",
            "782/782 [==============================] - 240s 307ms/step - loss: 4.5235 - accuracy: 0.0383 - val_loss: 4.5252 - val_accuracy: 0.0375\n",
            "Epoch 168/200\n",
            "782/782 [==============================] - 240s 307ms/step - loss: 4.5232 - accuracy: 0.0382 - val_loss: 4.5250 - val_accuracy: 0.0377\n",
            "Epoch 169/200\n",
            "782/782 [==============================] - 239s 306ms/step - loss: 4.5229 - accuracy: 0.0386 - val_loss: 4.5247 - val_accuracy: 0.0380\n",
            "Epoch 170/200\n",
            "782/782 [==============================] - 238s 304ms/step - loss: 4.5226 - accuracy: 0.0385 - val_loss: 4.5244 - val_accuracy: 0.0384\n",
            "Epoch 171/200\n",
            "782/782 [==============================] - 239s 306ms/step - loss: 4.5223 - accuracy: 0.0388 - val_loss: 4.5241 - val_accuracy: 0.0385\n",
            "Epoch 172/200\n",
            "782/782 [==============================] - 241s 308ms/step - loss: 4.5221 - accuracy: 0.0385 - val_loss: 4.5239 - val_accuracy: 0.0384\n",
            "Epoch 173/200\n",
            "782/782 [==============================] - 237s 303ms/step - loss: 4.5218 - accuracy: 0.0384 - val_loss: 4.5236 - val_accuracy: 0.0385\n",
            "Epoch 174/200\n",
            "782/782 [==============================] - 238s 304ms/step - loss: 4.5215 - accuracy: 0.0389 - val_loss: 4.5233 - val_accuracy: 0.0383\n",
            "Epoch 175/200\n",
            "782/782 [==============================] - 239s 305ms/step - loss: 4.5212 - accuracy: 0.0386 - val_loss: 4.5231 - val_accuracy: 0.0378\n",
            "Epoch 176/200\n",
            "782/782 [==============================] - 236s 302ms/step - loss: 4.5210 - accuracy: 0.0393 - val_loss: 4.5228 - val_accuracy: 0.0381\n",
            "Epoch 177/200\n",
            "782/782 [==============================] - 235s 300ms/step - loss: 4.5207 - accuracy: 0.0390 - val_loss: 4.5226 - val_accuracy: 0.0381\n",
            "Epoch 178/200\n",
            "782/782 [==============================] - 237s 303ms/step - loss: 4.5204 - accuracy: 0.0388 - val_loss: 4.5223 - val_accuracy: 0.0384\n",
            "Epoch 179/200\n",
            "782/782 [==============================] - 241s 308ms/step - loss: 4.5201 - accuracy: 0.0386 - val_loss: 4.5220 - val_accuracy: 0.0381\n",
            "Epoch 180/200\n",
            "782/782 [==============================] - 240s 307ms/step - loss: 4.5199 - accuracy: 0.0385 - val_loss: 4.5218 - val_accuracy: 0.0382\n",
            "Epoch 181/200\n",
            "782/782 [==============================] - 239s 305ms/step - loss: 4.5196 - accuracy: 0.0390 - val_loss: 4.5215 - val_accuracy: 0.0384\n",
            "Epoch 182/200\n",
            "782/782 [==============================] - 239s 306ms/step - loss: 4.5193 - accuracy: 0.0389 - val_loss: 4.5212 - val_accuracy: 0.0387\n",
            "Epoch 183/200\n",
            "782/782 [==============================] - 238s 304ms/step - loss: 4.5191 - accuracy: 0.0399 - val_loss: 4.5210 - val_accuracy: 0.0386\n",
            "Epoch 184/200\n",
            "782/782 [==============================] - 239s 306ms/step - loss: 4.5188 - accuracy: 0.0399 - val_loss: 4.5207 - val_accuracy: 0.0385\n",
            "Epoch 185/200\n",
            "782/782 [==============================] - 235s 300ms/step - loss: 4.5185 - accuracy: 0.0384 - val_loss: 4.5205 - val_accuracy: 0.0391\n",
            "Epoch 186/200\n",
            "782/782 [==============================] - 238s 304ms/step - loss: 4.5183 - accuracy: 0.0392 - val_loss: 4.5202 - val_accuracy: 0.0397\n",
            "Epoch 187/200\n",
            "782/782 [==============================] - 236s 302ms/step - loss: 4.5180 - accuracy: 0.0391 - val_loss: 4.5200 - val_accuracy: 0.0399\n",
            "Epoch 188/200\n",
            "782/782 [==============================] - 234s 299ms/step - loss: 4.5178 - accuracy: 0.0399 - val_loss: 4.5197 - val_accuracy: 0.0396\n",
            "Epoch 189/200\n",
            "782/782 [==============================] - 230s 294ms/step - loss: 4.5175 - accuracy: 0.0393 - val_loss: 4.5195 - val_accuracy: 0.0399\n",
            "Epoch 190/200\n",
            "782/782 [==============================] - 229s 293ms/step - loss: 4.5172 - accuracy: 0.0398 - val_loss: 4.5192 - val_accuracy: 0.0401\n",
            "Epoch 191/200\n",
            "782/782 [==============================] - 229s 293ms/step - loss: 4.5170 - accuracy: 0.0394 - val_loss: 4.5190 - val_accuracy: 0.0400\n",
            "Epoch 192/200\n",
            "782/782 [==============================] - 229s 292ms/step - loss: 4.5167 - accuracy: 0.0400 - val_loss: 4.5187 - val_accuracy: 0.0402\n",
            "Epoch 193/200\n",
            "782/782 [==============================] - 228s 291ms/step - loss: 4.5165 - accuracy: 0.0398 - val_loss: 4.5185 - val_accuracy: 0.0408\n",
            "Epoch 194/200\n",
            "782/782 [==============================] - 228s 292ms/step - loss: 4.5162 - accuracy: 0.0406 - val_loss: 4.5182 - val_accuracy: 0.0406\n",
            "Epoch 195/200\n",
            "782/782 [==============================] - 225s 288ms/step - loss: 4.5160 - accuracy: 0.0400 - val_loss: 4.5180 - val_accuracy: 0.0404\n",
            "Epoch 196/200\n",
            "782/782 [==============================] - 226s 290ms/step - loss: 4.5157 - accuracy: 0.0406 - val_loss: 4.5178 - val_accuracy: 0.0405\n",
            "Epoch 197/200\n",
            "782/782 [==============================] - 228s 291ms/step - loss: 4.5155 - accuracy: 0.0398 - val_loss: 4.5175 - val_accuracy: 0.0405\n",
            "Epoch 198/200\n",
            "782/782 [==============================] - 226s 289ms/step - loss: 4.5152 - accuracy: 0.0403 - val_loss: 4.5173 - val_accuracy: 0.0404\n",
            "Epoch 199/200\n",
            "782/782 [==============================] - 226s 289ms/step - loss: 4.5150 - accuracy: 0.0398 - val_loss: 4.5170 - val_accuracy: 0.0408\n",
            "Epoch 200/200\n",
            "782/782 [==============================] - 225s 288ms/step - loss: 4.5147 - accuracy: 0.0409 - val_loss: 4.5168 - val_accuracy: 0.0410\n"
          ]
        }
      ]
    },
    {
      "cell_type": "code",
      "metadata": {
        "colab": {
          "base_uri": "https://localhost:8080/"
        },
        "id": "PCcybY616nc-",
        "outputId": "e0a2c831-19c2-4bc6-e61e-ce009eb49f2f"
      },
      "source": [
        "import statistics\n",
        "print(statistics.mean(resnet_history.history['accuracy']))"
      ],
      "execution_count": null,
      "outputs": [
        {
          "output_type": "stream",
          "name": "stdout",
          "text": [
            "0.02988360000308603\n"
          ]
        }
      ]
    },
    {
      "cell_type": "code",
      "metadata": {
        "id": "j1x-nzuF3bWk"
      },
      "source": [
        "#implemented in different file\n",
        "for layer in resnet_model.layers[:-1]:\n",
        "  layer.trainable = False\n",
        "\n",
        "### LR 0.1\n",
        "tf.keras.optimizers.SGD(lr=0.1, momentum=0.9, name=\"SGD\")\n",
        "resnet_model.compile(optimizer='SGD',loss='categorical_crossentropy',metrics=['accuracy'])\n",
        "resnet_history = resnet_model.fit(x_train, y_train, batch_size=64, epochs=200, validation_data=(x_test,y_test),verbose=1)"
      ],
      "execution_count": null,
      "outputs": []
    },
    {
      "cell_type": "code",
      "metadata": {
        "colab": {
          "base_uri": "https://localhost:8080/",
          "height": 1000
        },
        "id": "Y0zPsO_s3hEH",
        "outputId": "27c99908-01d9-4671-9fe8-d627d52ba7be"
      },
      "source": [
        "\n",
        "for layer in resnet_model.layers[:-1]:\n",
        "  layer.trainable = False\n",
        "\n",
        "### LR 0.01\n",
        "tf.keras.optimizers.SGD(lr=0.01, momentum=0.9, name=\"SGD\")\n",
        "resnet_model.compile(optimizer='SGD',loss='categorical_crossentropy',metrics=['accuracy'])\n",
        "resnet_history = resnet_model.fit(x_train, y_train, batch_size=64, epochs=200, validation_data=(x_test,y_test),verbose=1)\n"
      ],
      "execution_count": null,
      "outputs": [
        {
          "output_type": "stream",
          "name": "stderr",
          "text": [
            "/usr/local/lib/python3.7/dist-packages/keras/optimizer_v2/optimizer_v2.py:356: UserWarning: The `lr` argument is deprecated, use `learning_rate` instead.\n",
            "  \"The `lr` argument is deprecated, use `learning_rate` instead.\")\n"
          ]
        },
        {
          "output_type": "stream",
          "name": "stdout",
          "text": [
            "Epoch 1/200\n",
            "782/782 [==============================] - 211s 266ms/step - loss: 4.6048 - accuracy: 0.0088 - val_loss: 4.6042 - val_accuracy: 0.0101\n",
            "Epoch 2/200\n",
            "782/782 [==============================] - 191s 244ms/step - loss: 4.6036 - accuracy: 0.0092 - val_loss: 4.6031 - val_accuracy: 0.0117\n",
            "Epoch 3/200\n",
            "782/782 [==============================] - 189s 242ms/step - loss: 4.6025 - accuracy: 0.0103 - val_loss: 4.6020 - val_accuracy: 0.0096\n",
            "Epoch 4/200\n",
            "782/782 [==============================] - 189s 242ms/step - loss: 4.6015 - accuracy: 0.0096 - val_loss: 4.6011 - val_accuracy: 0.0094\n",
            "Epoch 5/200\n",
            "782/782 [==============================] - 190s 243ms/step - loss: 4.6005 - accuracy: 0.0088 - val_loss: 4.6002 - val_accuracy: 0.0098\n",
            "Epoch 6/200\n",
            "782/782 [==============================] - 190s 243ms/step - loss: 4.5996 - accuracy: 0.0098 - val_loss: 4.5993 - val_accuracy: 0.0099\n",
            "Epoch 7/200\n",
            "782/782 [==============================] - 191s 245ms/step - loss: 4.5988 - accuracy: 0.0108 - val_loss: 4.5985 - val_accuracy: 0.0110\n",
            "Epoch 8/200\n",
            "782/782 [==============================] - 191s 244ms/step - loss: 4.5979 - accuracy: 0.0103 - val_loss: 4.5977 - val_accuracy: 0.0112\n",
            "Epoch 9/200\n",
            "782/782 [==============================] - 189s 242ms/step - loss: 4.5971 - accuracy: 0.0105 - val_loss: 4.5969 - val_accuracy: 0.0116\n",
            "Epoch 10/200\n",
            "782/782 [==============================] - 188s 241ms/step - loss: 4.5963 - accuracy: 0.0111 - val_loss: 4.5961 - val_accuracy: 0.0116\n",
            "Epoch 11/200\n",
            "782/782 [==============================] - 189s 242ms/step - loss: 4.5956 - accuracy: 0.0115 - val_loss: 4.5954 - val_accuracy: 0.0115\n",
            "Epoch 12/200\n",
            "782/782 [==============================] - 189s 242ms/step - loss: 4.5948 - accuracy: 0.0112 - val_loss: 4.5946 - val_accuracy: 0.0118\n",
            "Epoch 13/200\n",
            "782/782 [==============================] - 188s 240ms/step - loss: 4.5940 - accuracy: 0.0110 - val_loss: 4.5939 - val_accuracy: 0.0126\n",
            "Epoch 14/200\n",
            "782/782 [==============================] - 189s 241ms/step - loss: 4.5933 - accuracy: 0.0121 - val_loss: 4.5932 - val_accuracy: 0.0127\n",
            "Epoch 15/200\n",
            "782/782 [==============================] - 189s 241ms/step - loss: 4.5926 - accuracy: 0.0127 - val_loss: 4.5925 - val_accuracy: 0.0130\n",
            "Epoch 16/200\n",
            "782/782 [==============================] - 189s 242ms/step - loss: 4.5919 - accuracy: 0.0129 - val_loss: 4.5918 - val_accuracy: 0.0130\n",
            "Epoch 17/200\n",
            "782/782 [==============================] - 189s 242ms/step - loss: 4.5911 - accuracy: 0.0134 - val_loss: 4.5911 - val_accuracy: 0.0131\n",
            "Epoch 18/200\n",
            "782/782 [==============================] - 190s 243ms/step - loss: 4.5904 - accuracy: 0.0129 - val_loss: 4.5904 - val_accuracy: 0.0140\n",
            "Epoch 19/200\n",
            "782/782 [==============================] - 189s 242ms/step - loss: 4.5897 - accuracy: 0.0133 - val_loss: 4.5897 - val_accuracy: 0.0132\n",
            "Epoch 20/200\n",
            "782/782 [==============================] - 189s 242ms/step - loss: 4.5890 - accuracy: 0.0137 - val_loss: 4.5890 - val_accuracy: 0.0135\n",
            "Epoch 21/200\n",
            "782/782 [==============================] - 189s 241ms/step - loss: 4.5883 - accuracy: 0.0135 - val_loss: 4.5883 - val_accuracy: 0.0141\n",
            "Epoch 22/200\n",
            "782/782 [==============================] - 189s 242ms/step - loss: 4.5876 - accuracy: 0.0150 - val_loss: 4.5877 - val_accuracy: 0.0144\n",
            "Epoch 23/200\n",
            "782/782 [==============================] - 189s 242ms/step - loss: 4.5870 - accuracy: 0.0159 - val_loss: 4.5870 - val_accuracy: 0.0143\n",
            "Epoch 24/200\n",
            "782/782 [==============================] - 189s 241ms/step - loss: 4.5863 - accuracy: 0.0148 - val_loss: 4.5863 - val_accuracy: 0.0149\n",
            "Epoch 25/200\n",
            "782/782 [==============================] - 192s 245ms/step - loss: 4.5856 - accuracy: 0.0162 - val_loss: 4.5857 - val_accuracy: 0.0145\n",
            "Epoch 26/200\n",
            "782/782 [==============================] - 189s 241ms/step - loss: 4.5849 - accuracy: 0.0161 - val_loss: 4.5850 - val_accuracy: 0.0152\n",
            "Epoch 27/200\n",
            "782/782 [==============================] - 189s 241ms/step - loss: 4.5843 - accuracy: 0.0164 - val_loss: 4.5844 - val_accuracy: 0.0157\n",
            "Epoch 28/200\n",
            "782/782 [==============================] - 189s 242ms/step - loss: 4.5836 - accuracy: 0.0169 - val_loss: 4.5837 - val_accuracy: 0.0169\n",
            "Epoch 29/200\n",
            "782/782 [==============================] - 189s 242ms/step - loss: 4.5830 - accuracy: 0.0190 - val_loss: 4.5831 - val_accuracy: 0.0166\n",
            "Epoch 30/200\n",
            "782/782 [==============================] - 187s 240ms/step - loss: 4.5823 - accuracy: 0.0184 - val_loss: 4.5825 - val_accuracy: 0.0174\n",
            "Epoch 31/200\n",
            "782/782 [==============================] - 187s 240ms/step - loss: 4.5817 - accuracy: 0.0187 - val_loss: 4.5818 - val_accuracy: 0.0175\n",
            "Epoch 32/200\n",
            "782/782 [==============================] - 188s 240ms/step - loss: 4.5810 - accuracy: 0.0207 - val_loss: 4.5812 - val_accuracy: 0.0183\n",
            "Epoch 33/200\n",
            "782/782 [==============================] - 191s 244ms/step - loss: 4.5804 - accuracy: 0.0198 - val_loss: 4.5806 - val_accuracy: 0.0190\n",
            "Epoch 34/200\n",
            "782/782 [==============================] - 188s 240ms/step - loss: 4.5798 - accuracy: 0.0207 - val_loss: 4.5800 - val_accuracy: 0.0191\n",
            "Epoch 35/200\n",
            "782/782 [==============================] - 188s 241ms/step - loss: 4.5791 - accuracy: 0.0201 - val_loss: 4.5794 - val_accuracy: 0.0205\n",
            "Epoch 36/200\n",
            "782/782 [==============================] - 188s 240ms/step - loss: 4.5785 - accuracy: 0.0212 - val_loss: 4.5788 - val_accuracy: 0.0213\n",
            "Epoch 37/200\n",
            "782/782 [==============================] - 188s 240ms/step - loss: 4.5779 - accuracy: 0.0229 - val_loss: 4.5782 - val_accuracy: 0.0216\n",
            "Epoch 38/200\n",
            "782/782 [==============================] - 188s 240ms/step - loss: 4.5773 - accuracy: 0.0240 - val_loss: 4.5776 - val_accuracy: 0.0213\n",
            "Epoch 39/200\n",
            "782/782 [==============================] - 189s 242ms/step - loss: 4.5767 - accuracy: 0.0218 - val_loss: 4.5770 - val_accuracy: 0.0217\n",
            "Epoch 40/200\n",
            "782/782 [==============================] - 189s 241ms/step - loss: 4.5761 - accuracy: 0.0222 - val_loss: 4.5764 - val_accuracy: 0.0223\n",
            "Epoch 41/200\n",
            "782/782 [==============================] - 189s 241ms/step - loss: 4.5755 - accuracy: 0.0235 - val_loss: 4.5758 - val_accuracy: 0.0236\n",
            "Epoch 42/200\n",
            "782/782 [==============================] - 189s 242ms/step - loss: 4.5749 - accuracy: 0.0241 - val_loss: 4.5752 - val_accuracy: 0.0240\n",
            "Epoch 43/200\n",
            "782/782 [==============================] - 189s 242ms/step - loss: 4.5743 - accuracy: 0.0237 - val_loss: 4.5746 - val_accuracy: 0.0241\n",
            "Epoch 44/200\n",
            "782/782 [==============================] - 189s 242ms/step - loss: 4.5737 - accuracy: 0.0255 - val_loss: 4.5740 - val_accuracy: 0.0245\n",
            "Epoch 45/200\n",
            "782/782 [==============================] - 189s 242ms/step - loss: 4.5731 - accuracy: 0.0255 - val_loss: 4.5735 - val_accuracy: 0.0249\n",
            "Epoch 46/200\n",
            "782/782 [==============================] - 189s 241ms/step - loss: 4.5725 - accuracy: 0.0249 - val_loss: 4.5729 - val_accuracy: 0.0259\n",
            "Epoch 47/200\n",
            "782/782 [==============================] - 189s 242ms/step - loss: 4.5719 - accuracy: 0.0253 - val_loss: 4.5723 - val_accuracy: 0.0259\n",
            "Epoch 48/200\n",
            "782/782 [==============================] - 189s 241ms/step - loss: 4.5713 - accuracy: 0.0257 - val_loss: 4.5718 - val_accuracy: 0.0259\n",
            "Epoch 49/200\n",
            "782/782 [==============================] - 189s 241ms/step - loss: 4.5708 - accuracy: 0.0257 - val_loss: 4.5712 - val_accuracy: 0.0263\n",
            "Epoch 50/200\n",
            "782/782 [==============================] - 189s 242ms/step - loss: 4.5702 - accuracy: 0.0274 - val_loss: 4.5707 - val_accuracy: 0.0259\n",
            "Epoch 51/200\n",
            "782/782 [==============================] - 189s 242ms/step - loss: 4.5696 - accuracy: 0.0263 - val_loss: 4.5701 - val_accuracy: 0.0256\n",
            "Epoch 52/200\n",
            "782/782 [==============================] - 189s 242ms/step - loss: 4.5691 - accuracy: 0.0273 - val_loss: 4.5696 - val_accuracy: 0.0261\n",
            "Epoch 53/200\n",
            "782/782 [==============================] - 189s 241ms/step - loss: 4.5685 - accuracy: 0.0272 - val_loss: 4.5690 - val_accuracy: 0.0261\n",
            "Epoch 54/200\n",
            "782/782 [==============================] - 189s 241ms/step - loss: 4.5680 - accuracy: 0.0263 - val_loss: 4.5685 - val_accuracy: 0.0270\n",
            "Epoch 55/200\n",
            "782/782 [==============================] - 188s 241ms/step - loss: 4.5674 - accuracy: 0.0272 - val_loss: 4.5679 - val_accuracy: 0.0271\n",
            "Epoch 56/200\n",
            "782/782 [==============================] - 188s 241ms/step - loss: 4.5669 - accuracy: 0.0278 - val_loss: 4.5674 - val_accuracy: 0.0272\n",
            "Epoch 57/200\n",
            "782/782 [==============================] - 189s 241ms/step - loss: 4.5663 - accuracy: 0.0280 - val_loss: 4.5669 - val_accuracy: 0.0276\n",
            "Epoch 58/200\n",
            "782/782 [==============================] - 189s 241ms/step - loss: 4.5658 - accuracy: 0.0274 - val_loss: 4.5664 - val_accuracy: 0.0274\n",
            "Epoch 59/200\n",
            "782/782 [==============================] - 188s 240ms/step - loss: 4.5653 - accuracy: 0.0275 - val_loss: 4.5658 - val_accuracy: 0.0287\n",
            "Epoch 60/200\n",
            "782/782 [==============================] - 188s 240ms/step - loss: 4.5647 - accuracy: 0.0276 - val_loss: 4.5653 - val_accuracy: 0.0284\n",
            "Epoch 61/200\n",
            "782/782 [==============================] - 187s 240ms/step - loss: 4.5642 - accuracy: 0.0283 - val_loss: 4.5648 - val_accuracy: 0.0288\n",
            "Epoch 62/200\n",
            "782/782 [==============================] - 188s 240ms/step - loss: 4.5637 - accuracy: 0.0276 - val_loss: 4.5643 - val_accuracy: 0.0282\n",
            "Epoch 63/200\n",
            "782/782 [==============================] - 188s 240ms/step - loss: 4.5631 - accuracy: 0.0299 - val_loss: 4.5638 - val_accuracy: 0.0284\n",
            "Epoch 64/200\n",
            "782/782 [==============================] - 188s 240ms/step - loss: 4.5626 - accuracy: 0.0285 - val_loss: 4.5633 - val_accuracy: 0.0285\n",
            "Epoch 65/200\n",
            "782/782 [==============================] - 188s 240ms/step - loss: 4.5621 - accuracy: 0.0287 - val_loss: 4.5628 - val_accuracy: 0.0293\n",
            "Epoch 66/200\n",
            "782/782 [==============================] - 188s 240ms/step - loss: 4.5616 - accuracy: 0.0298 - val_loss: 4.5623 - val_accuracy: 0.0296\n",
            "Epoch 67/200\n",
            "782/782 [==============================] - 188s 240ms/step - loss: 4.5611 - accuracy: 0.0298 - val_loss: 4.5618 - val_accuracy: 0.0290\n",
            "Epoch 68/200\n",
            "782/782 [==============================] - 188s 240ms/step - loss: 4.5606 - accuracy: 0.0297 - val_loss: 4.5613 - val_accuracy: 0.0290\n",
            "Epoch 69/200\n",
            "782/782 [==============================] - 188s 240ms/step - loss: 4.5601 - accuracy: 0.0292 - val_loss: 4.5608 - val_accuracy: 0.0303\n",
            "Epoch 70/200\n",
            "782/782 [==============================] - 188s 240ms/step - loss: 4.5596 - accuracy: 0.0290 - val_loss: 4.5603 - val_accuracy: 0.0306\n",
            "Epoch 71/200\n",
            "782/782 [==============================] - 188s 240ms/step - loss: 4.5591 - accuracy: 0.0304 - val_loss: 4.5598 - val_accuracy: 0.0300\n",
            "Epoch 72/200\n",
            "782/782 [==============================] - 188s 241ms/step - loss: 4.5586 - accuracy: 0.0307 - val_loss: 4.5593 - val_accuracy: 0.0303\n",
            "Epoch 73/200\n",
            "782/782 [==============================] - 188s 241ms/step - loss: 4.5581 - accuracy: 0.0315 - val_loss: 4.5589 - val_accuracy: 0.0307\n",
            "Epoch 74/200\n",
            "782/782 [==============================] - 188s 241ms/step - loss: 4.5576 - accuracy: 0.0304 - val_loss: 4.5584 - val_accuracy: 0.0311\n",
            "Epoch 75/200\n",
            "782/782 [==============================] - 188s 241ms/step - loss: 4.5571 - accuracy: 0.0316 - val_loss: 4.5579 - val_accuracy: 0.0311\n",
            "Epoch 76/200\n",
            "782/782 [==============================] - 188s 241ms/step - loss: 4.5566 - accuracy: 0.0320 - val_loss: 4.5574 - val_accuracy: 0.0308\n",
            "Epoch 77/200\n",
            "782/782 [==============================] - 189s 241ms/step - loss: 4.5561 - accuracy: 0.0326 - val_loss: 4.5570 - val_accuracy: 0.0310\n",
            "Epoch 78/200\n",
            "782/782 [==============================] - 189s 241ms/step - loss: 4.5557 - accuracy: 0.0315 - val_loss: 4.5565 - val_accuracy: 0.0313\n",
            "Epoch 79/200\n",
            "782/782 [==============================] - 189s 241ms/step - loss: 4.5552 - accuracy: 0.0313 - val_loss: 4.5560 - val_accuracy: 0.0311\n",
            "Epoch 80/200\n",
            "782/782 [==============================] - 188s 241ms/step - loss: 4.5547 - accuracy: 0.0311 - val_loss: 4.5556 - val_accuracy: 0.0317\n",
            "Epoch 81/200\n",
            "782/782 [==============================] - 188s 241ms/step - loss: 4.5543 - accuracy: 0.0313 - val_loss: 4.5551 - val_accuracy: 0.0319\n",
            "Epoch 82/200\n",
            "782/782 [==============================] - 189s 242ms/step - loss: 4.5538 - accuracy: 0.0319 - val_loss: 4.5547 - val_accuracy: 0.0324\n",
            "Epoch 83/200\n",
            "782/782 [==============================] - 189s 242ms/step - loss: 4.5533 - accuracy: 0.0325 - val_loss: 4.5542 - val_accuracy: 0.0321\n",
            "Epoch 84/200\n",
            "782/782 [==============================] - 189s 242ms/step - loss: 4.5529 - accuracy: 0.0317 - val_loss: 4.5538 - val_accuracy: 0.0327\n",
            "Epoch 85/200\n",
            "782/782 [==============================] - 189s 242ms/step - loss: 4.5524 - accuracy: 0.0335 - val_loss: 4.5533 - val_accuracy: 0.0323\n",
            "Epoch 86/200\n",
            "782/782 [==============================] - 189s 242ms/step - loss: 4.5520 - accuracy: 0.0333 - val_loss: 4.5529 - val_accuracy: 0.0326\n",
            "Epoch 87/200\n",
            "782/782 [==============================] - 189s 242ms/step - loss: 4.5515 - accuracy: 0.0320 - val_loss: 4.5525 - val_accuracy: 0.0327\n",
            "Epoch 88/200\n",
            "782/782 [==============================] - 189s 242ms/step - loss: 4.5511 - accuracy: 0.0345 - val_loss: 4.5520 - val_accuracy: 0.0324\n",
            "Epoch 89/200\n",
            "782/782 [==============================] - 189s 242ms/step - loss: 4.5506 - accuracy: 0.0330 - val_loss: 4.5516 - val_accuracy: 0.0324\n",
            "Epoch 90/200\n",
            "782/782 [==============================] - 189s 242ms/step - loss: 4.5502 - accuracy: 0.0333 - val_loss: 4.5512 - val_accuracy: 0.0328\n",
            "Epoch 91/200\n",
            "782/782 [==============================] - 189s 242ms/step - loss: 4.5497 - accuracy: 0.0332 - val_loss: 4.5507 - val_accuracy: 0.0327\n",
            "Epoch 92/200\n",
            "782/782 [==============================] - 189s 242ms/step - loss: 4.5493 - accuracy: 0.0335 - val_loss: 4.5503 - val_accuracy: 0.0322\n",
            "Epoch 93/200\n",
            "782/782 [==============================] - 189s 242ms/step - loss: 4.5488 - accuracy: 0.0336 - val_loss: 4.5499 - val_accuracy: 0.0325\n",
            "Epoch 94/200\n",
            "782/782 [==============================] - 189s 242ms/step - loss: 4.5484 - accuracy: 0.0336 - val_loss: 4.5494 - val_accuracy: 0.0333\n",
            "Epoch 95/200\n",
            "782/782 [==============================] - 189s 242ms/step - loss: 4.5480 - accuracy: 0.0341 - val_loss: 4.5490 - val_accuracy: 0.0334\n",
            "Epoch 96/200\n",
            "782/782 [==============================] - 189s 242ms/step - loss: 4.5475 - accuracy: 0.0336 - val_loss: 4.5486 - val_accuracy: 0.0335\n",
            "Epoch 97/200\n",
            "782/782 [==============================] - 189s 242ms/step - loss: 4.5471 - accuracy: 0.0352 - val_loss: 4.5482 - val_accuracy: 0.0332\n",
            "Epoch 98/200\n",
            "782/782 [==============================] - 189s 242ms/step - loss: 4.5467 - accuracy: 0.0344 - val_loss: 4.5478 - val_accuracy: 0.0337\n",
            "Epoch 99/200\n",
            "782/782 [==============================] - 189s 242ms/step - loss: 4.5463 - accuracy: 0.0349 - val_loss: 4.5474 - val_accuracy: 0.0338\n",
            "Epoch 100/200\n",
            "782/782 [==============================] - 190s 242ms/step - loss: 4.5459 - accuracy: 0.0342 - val_loss: 4.5470 - val_accuracy: 0.0339\n",
            "Epoch 101/200\n",
            "782/782 [==============================] - 190s 243ms/step - loss: 4.5454 - accuracy: 0.0348 - val_loss: 4.5466 - val_accuracy: 0.0342\n",
            "Epoch 102/200\n",
            "782/782 [==============================] - 190s 243ms/step - loss: 4.5450 - accuracy: 0.0346 - val_loss: 4.5462 - val_accuracy: 0.0342\n",
            "Epoch 103/200\n",
            "782/782 [==============================] - 190s 243ms/step - loss: 4.5446 - accuracy: 0.0350 - val_loss: 4.5458 - val_accuracy: 0.0342\n",
            "Epoch 104/200\n",
            "782/782 [==============================] - 190s 243ms/step - loss: 4.5442 - accuracy: 0.0356 - val_loss: 4.5454 - val_accuracy: 0.0339\n",
            "Epoch 105/200\n",
            "782/782 [==============================] - 190s 243ms/step - loss: 4.5438 - accuracy: 0.0350 - val_loss: 4.5450 - val_accuracy: 0.0336\n",
            "Epoch 106/200\n",
            "782/782 [==============================] - 189s 242ms/step - loss: 4.5434 - accuracy: 0.0354 - val_loss: 4.5446 - val_accuracy: 0.0340\n",
            "Epoch 107/200\n",
            "782/782 [==============================] - 189s 242ms/step - loss: 4.5430 - accuracy: 0.0348 - val_loss: 4.5442 - val_accuracy: 0.0345\n",
            "Epoch 108/200\n",
            "782/782 [==============================] - 189s 241ms/step - loss: 4.5426 - accuracy: 0.0360 - val_loss: 4.5438 - val_accuracy: 0.0348\n",
            "Epoch 109/200\n",
            "782/782 [==============================] - 189s 241ms/step - loss: 4.5422 - accuracy: 0.0354 - val_loss: 4.5434 - val_accuracy: 0.0349\n",
            "Epoch 110/200\n",
            "782/782 [==============================] - 188s 241ms/step - loss: 4.5418 - accuracy: 0.0357 - val_loss: 4.5430 - val_accuracy: 0.0347\n",
            "Epoch 111/200\n",
            "782/782 [==============================] - 188s 241ms/step - loss: 4.5414 - accuracy: 0.0356 - val_loss: 4.5426 - val_accuracy: 0.0351\n",
            "Epoch 112/200\n",
            "782/782 [==============================] - 188s 241ms/step - loss: 4.5410 - accuracy: 0.0355 - val_loss: 4.5423 - val_accuracy: 0.0357\n",
            "Epoch 113/200\n",
            "782/782 [==============================] - 188s 241ms/step - loss: 4.5406 - accuracy: 0.0354 - val_loss: 4.5419 - val_accuracy: 0.0366\n",
            "Epoch 114/200\n",
            "782/782 [==============================] - 188s 241ms/step - loss: 4.5402 - accuracy: 0.0360 - val_loss: 4.5415 - val_accuracy: 0.0368\n",
            "Epoch 115/200\n",
            "782/782 [==============================] - 188s 241ms/step - loss: 4.5398 - accuracy: 0.0365 - val_loss: 4.5411 - val_accuracy: 0.0372\n",
            "Epoch 116/200\n",
            "782/782 [==============================] - 188s 241ms/step - loss: 4.5395 - accuracy: 0.0368 - val_loss: 4.5408 - val_accuracy: 0.0373\n",
            "Epoch 117/200\n",
            "782/782 [==============================] - 189s 242ms/step - loss: 4.5391 - accuracy: 0.0359 - val_loss: 4.5404 - val_accuracy: 0.0372\n",
            "Epoch 118/200\n",
            "782/782 [==============================] - 189s 242ms/step - loss: 4.5387 - accuracy: 0.0364 - val_loss: 4.5400 - val_accuracy: 0.0372\n",
            "Epoch 119/200\n",
            "782/782 [==============================] - 190s 242ms/step - loss: 4.5383 - accuracy: 0.0361 - val_loss: 4.5396 - val_accuracy: 0.0374\n",
            "Epoch 120/200\n",
            "782/782 [==============================] - 189s 242ms/step - loss: 4.5379 - accuracy: 0.0366 - val_loss: 4.5393 - val_accuracy: 0.0374\n",
            "Epoch 121/200\n",
            "782/782 [==============================] - 189s 242ms/step - loss: 4.5376 - accuracy: 0.0364 - val_loss: 4.5389 - val_accuracy: 0.0378\n",
            "Epoch 122/200\n",
            "782/782 [==============================] - 189s 242ms/step - loss: 4.5372 - accuracy: 0.0362 - val_loss: 4.5386 - val_accuracy: 0.0374\n",
            "Epoch 123/200\n",
            "782/782 [==============================] - 189s 242ms/step - loss: 4.5368 - accuracy: 0.0370 - val_loss: 4.5382 - val_accuracy: 0.0379\n",
            "Epoch 124/200\n",
            "782/782 [==============================] - 189s 242ms/step - loss: 4.5365 - accuracy: 0.0377 - val_loss: 4.5378 - val_accuracy: 0.0376\n",
            "Epoch 125/200\n",
            "782/782 [==============================] - 190s 242ms/step - loss: 4.5361 - accuracy: 0.0371 - val_loss: 4.5375 - val_accuracy: 0.0380\n",
            "Epoch 126/200\n",
            "782/782 [==============================] - 189s 242ms/step - loss: 4.5357 - accuracy: 0.0389 - val_loss: 4.5371 - val_accuracy: 0.0378\n",
            "Epoch 127/200\n",
            "782/782 [==============================] - 190s 242ms/step - loss: 4.5354 - accuracy: 0.0382 - val_loss: 4.5368 - val_accuracy: 0.0371\n",
            "Epoch 128/200\n",
            "782/782 [==============================] - 189s 242ms/step - loss: 4.5350 - accuracy: 0.0381 - val_loss: 4.5364 - val_accuracy: 0.0375\n",
            "Epoch 129/200\n",
            "782/782 [==============================] - 189s 242ms/step - loss: 4.5346 - accuracy: 0.0370 - val_loss: 4.5361 - val_accuracy: 0.0378\n",
            "Epoch 130/200\n",
            "782/782 [==============================] - 189s 242ms/step - loss: 4.5343 - accuracy: 0.0379 - val_loss: 4.5357 - val_accuracy: 0.0383\n",
            "Epoch 131/200\n",
            "782/782 [==============================] - 189s 242ms/step - loss: 4.5339 - accuracy: 0.0378 - val_loss: 4.5354 - val_accuracy: 0.0384\n",
            "Epoch 132/200\n",
            "782/782 [==============================] - 189s 242ms/step - loss: 4.5336 - accuracy: 0.0383 - val_loss: 4.5351 - val_accuracy: 0.0384\n",
            "Epoch 133/200\n",
            "782/782 [==============================] - 189s 242ms/step - loss: 4.5332 - accuracy: 0.0385 - val_loss: 4.5347 - val_accuracy: 0.0383\n",
            "Epoch 134/200\n",
            "782/782 [==============================] - 189s 242ms/step - loss: 4.5329 - accuracy: 0.0375 - val_loss: 4.5344 - val_accuracy: 0.0382\n",
            "Epoch 135/200\n",
            "782/782 [==============================] - 189s 242ms/step - loss: 4.5325 - accuracy: 0.0375 - val_loss: 4.5340 - val_accuracy: 0.0396\n",
            "Epoch 136/200\n",
            "782/782 [==============================] - 189s 242ms/step - loss: 4.5322 - accuracy: 0.0386 - val_loss: 4.5337 - val_accuracy: 0.0395\n",
            "Epoch 137/200\n",
            "782/782 [==============================] - 189s 242ms/step - loss: 4.5318 - accuracy: 0.0378 - val_loss: 4.5334 - val_accuracy: 0.0400\n",
            "Epoch 138/200\n",
            "782/782 [==============================] - 189s 242ms/step - loss: 4.5315 - accuracy: 0.0392 - val_loss: 4.5330 - val_accuracy: 0.0400\n",
            "Epoch 139/200\n",
            "782/782 [==============================] - 189s 242ms/step - loss: 4.5312 - accuracy: 0.0387 - val_loss: 4.5327 - val_accuracy: 0.0396\n",
            "Epoch 140/200\n",
            "782/782 [==============================] - 189s 242ms/step - loss: 4.5308 - accuracy: 0.0376 - val_loss: 4.5324 - val_accuracy: 0.0400\n",
            "Epoch 141/200\n",
            "782/782 [==============================] - 189s 242ms/step - loss: 4.5305 - accuracy: 0.0384 - val_loss: 4.5321 - val_accuracy: 0.0399\n",
            "Epoch 142/200\n",
            "782/782 [==============================] - 189s 242ms/step - loss: 4.5302 - accuracy: 0.0401 - val_loss: 4.5317 - val_accuracy: 0.0398\n",
            "Epoch 143/200\n",
            "782/782 [==============================] - 189s 242ms/step - loss: 4.5298 - accuracy: 0.0390 - val_loss: 4.5314 - val_accuracy: 0.0399\n",
            "Epoch 144/200\n",
            "782/782 [==============================] - 189s 242ms/step - loss: 4.5295 - accuracy: 0.0390 - val_loss: 4.5311 - val_accuracy: 0.0397\n",
            "Epoch 145/200\n",
            "782/782 [==============================] - 189s 242ms/step - loss: 4.5292 - accuracy: 0.0391 - val_loss: 4.5308 - val_accuracy: 0.0402\n",
            "Epoch 146/200\n",
            "782/782 [==============================] - 189s 242ms/step - loss: 4.5288 - accuracy: 0.0389 - val_loss: 4.5304 - val_accuracy: 0.0404\n",
            "Epoch 147/200\n",
            "782/782 [==============================] - 189s 242ms/step - loss: 4.5285 - accuracy: 0.0400 - val_loss: 4.5301 - val_accuracy: 0.0395\n",
            "Epoch 148/200\n",
            "782/782 [==============================] - 189s 242ms/step - loss: 4.5282 - accuracy: 0.0401 - val_loss: 4.5298 - val_accuracy: 0.0392\n",
            "Epoch 149/200\n",
            "782/782 [==============================] - 189s 242ms/step - loss: 4.5279 - accuracy: 0.0395 - val_loss: 4.5295 - val_accuracy: 0.0393\n",
            "Epoch 150/200\n",
            "782/782 [==============================] - 189s 242ms/step - loss: 4.5275 - accuracy: 0.0399 - val_loss: 4.5292 - val_accuracy: 0.0398\n",
            "Epoch 151/200\n",
            "782/782 [==============================] - 189s 242ms/step - loss: 4.5272 - accuracy: 0.0384 - val_loss: 4.5289 - val_accuracy: 0.0399\n",
            "Epoch 152/200\n",
            "782/782 [==============================] - 189s 242ms/step - loss: 4.5269 - accuracy: 0.0397 - val_loss: 4.5286 - val_accuracy: 0.0399\n",
            "Epoch 153/200\n",
            "782/782 [==============================] - 189s 242ms/step - loss: 4.5266 - accuracy: 0.0396 - val_loss: 4.5283 - val_accuracy: 0.0397\n",
            "Epoch 154/200\n",
            "782/782 [==============================] - 189s 242ms/step - loss: 4.5263 - accuracy: 0.0387 - val_loss: 4.5279 - val_accuracy: 0.0399\n",
            "Epoch 155/200\n",
            "782/782 [==============================] - 189s 242ms/step - loss: 4.5259 - accuracy: 0.0400 - val_loss: 4.5276 - val_accuracy: 0.0397\n",
            "Epoch 156/200\n",
            "782/782 [==============================] - 189s 242ms/step - loss: 4.5256 - accuracy: 0.0393 - val_loss: 4.5273 - val_accuracy: 0.0398\n",
            "Epoch 157/200\n",
            "782/782 [==============================] - 189s 242ms/step - loss: 4.5253 - accuracy: 0.0407 - val_loss: 4.5270 - val_accuracy: 0.0399\n",
            "Epoch 158/200\n",
            "782/782 [==============================] - 189s 242ms/step - loss: 4.5250 - accuracy: 0.0395 - val_loss: 4.5267 - val_accuracy: 0.0396\n",
            "Epoch 159/200\n",
            "782/782 [==============================] - 189s 242ms/step - loss: 4.5247 - accuracy: 0.0402 - val_loss: 4.5264 - val_accuracy: 0.0398\n",
            "Epoch 160/200\n",
            "782/782 [==============================] - 189s 242ms/step - loss: 4.5244 - accuracy: 0.0406 - val_loss: 4.5261 - val_accuracy: 0.0397\n",
            "Epoch 161/200\n",
            "782/782 [==============================] - 189s 242ms/step - loss: 4.5241 - accuracy: 0.0404 - val_loss: 4.5258 - val_accuracy: 0.0399\n",
            "Epoch 162/200\n",
            "782/782 [==============================] - 190s 243ms/step - loss: 4.5238 - accuracy: 0.0404 - val_loss: 4.5255 - val_accuracy: 0.0398\n",
            "Epoch 163/200\n",
            "782/782 [==============================] - 189s 242ms/step - loss: 4.5235 - accuracy: 0.0408 - val_loss: 4.5253 - val_accuracy: 0.0394\n",
            "Epoch 164/200\n",
            "782/782 [==============================] - 189s 242ms/step - loss: 4.5232 - accuracy: 0.0396 - val_loss: 4.5250 - val_accuracy: 0.0398\n",
            "Epoch 165/200\n",
            "782/782 [==============================] - 189s 242ms/step - loss: 4.5229 - accuracy: 0.0410 - val_loss: 4.5247 - val_accuracy: 0.0396\n",
            "Epoch 166/200\n",
            "782/782 [==============================] - 189s 242ms/step - loss: 4.5226 - accuracy: 0.0409 - val_loss: 4.5244 - val_accuracy: 0.0399\n",
            "Epoch 167/200\n",
            "782/782 [==============================] - 189s 242ms/step - loss: 4.5223 - accuracy: 0.0409 - val_loss: 4.5241 - val_accuracy: 0.0402\n",
            "Epoch 168/200\n",
            "782/782 [==============================] - 190s 243ms/step - loss: 4.5220 - accuracy: 0.0403 - val_loss: 4.5238 - val_accuracy: 0.0405\n",
            "Epoch 169/200\n",
            "782/782 [==============================] - 190s 243ms/step - loss: 4.5217 - accuracy: 0.0399 - val_loss: 4.5235 - val_accuracy: 0.0406\n",
            "Epoch 170/200\n",
            "782/782 [==============================] - 190s 243ms/step - loss: 4.5214 - accuracy: 0.0407 - val_loss: 4.5232 - val_accuracy: 0.0406\n",
            "Epoch 171/200\n",
            "782/782 [==============================] - 190s 243ms/step - loss: 4.5211 - accuracy: 0.0415 - val_loss: 4.5229 - val_accuracy: 0.0407\n",
            "Epoch 172/200\n",
            "782/782 [==============================] - 190s 243ms/step - loss: 4.5208 - accuracy: 0.0407 - val_loss: 4.5227 - val_accuracy: 0.0406\n",
            "Epoch 173/200\n",
            "782/782 [==============================] - 190s 243ms/step - loss: 4.5205 - accuracy: 0.0401 - val_loss: 4.5224 - val_accuracy: 0.0403\n",
            "Epoch 174/200\n",
            "782/782 [==============================] - 190s 243ms/step - loss: 4.5202 - accuracy: 0.0408 - val_loss: 4.5221 - val_accuracy: 0.0407\n",
            "Epoch 175/200\n",
            "782/782 [==============================] - 190s 243ms/step - loss: 4.5199 - accuracy: 0.0411 - val_loss: 4.5218 - val_accuracy: 0.0409\n",
            "Epoch 176/200\n",
            "782/782 [==============================] - 190s 243ms/step - loss: 4.5197 - accuracy: 0.0410 - val_loss: 4.5216 - val_accuracy: 0.0410\n",
            "Epoch 177/200\n",
            "782/782 [==============================] - 190s 243ms/step - loss: 4.5194 - accuracy: 0.0402 - val_loss: 4.5213 - val_accuracy: 0.0413\n",
            "Epoch 178/200\n",
            "782/782 [==============================] - 190s 243ms/step - loss: 4.5191 - accuracy: 0.0409 - val_loss: 4.5210 - val_accuracy: 0.0412\n",
            "Epoch 179/200\n",
            "782/782 [==============================] - 190s 243ms/step - loss: 4.5188 - accuracy: 0.0410 - val_loss: 4.5207 - val_accuracy: 0.0414\n",
            "Epoch 180/200\n",
            "782/782 [==============================] - 190s 243ms/step - loss: 4.5185 - accuracy: 0.0419 - val_loss: 4.5205 - val_accuracy: 0.0414\n",
            "Epoch 181/200\n",
            "782/782 [==============================] - 189s 242ms/step - loss: 4.5182 - accuracy: 0.0413 - val_loss: 4.5202 - val_accuracy: 0.0411\n",
            "Epoch 182/200\n",
            "782/782 [==============================] - 190s 243ms/step - loss: 4.5180 - accuracy: 0.0410 - val_loss: 4.5199 - val_accuracy: 0.0412\n",
            "Epoch 183/200\n",
            "782/782 [==============================] - 192s 245ms/step - loss: 4.5177 - accuracy: 0.0414 - val_loss: 4.5196 - val_accuracy: 0.0408\n",
            "Epoch 184/200\n",
            "782/782 [==============================] - 191s 244ms/step - loss: 4.5174 - accuracy: 0.0404 - val_loss: 4.5194 - val_accuracy: 0.0410\n",
            "Epoch 185/200\n",
            "782/782 [==============================] - 191s 244ms/step - loss: 4.5171 - accuracy: 0.0414 - val_loss: 4.5191 - val_accuracy: 0.0411\n",
            "Epoch 186/200\n",
            "782/782 [==============================] - 191s 244ms/step - loss: 4.5169 - accuracy: 0.0420 - val_loss: 4.5189 - val_accuracy: 0.0406\n",
            "Epoch 187/200\n",
            "782/782 [==============================] - 190s 244ms/step - loss: 4.5166 - accuracy: 0.0409 - val_loss: 4.5186 - val_accuracy: 0.0412\n",
            "Epoch 188/200\n",
            "782/782 [==============================] - 190s 244ms/step - loss: 4.5163 - accuracy: 0.0415 - val_loss: 4.5183 - val_accuracy: 0.0413\n",
            "Epoch 189/200\n",
            "782/782 [==============================] - 190s 244ms/step - loss: 4.5160 - accuracy: 0.0412 - val_loss: 4.5181 - val_accuracy: 0.0416\n",
            "Epoch 190/200\n",
            "782/782 [==============================] - 190s 244ms/step - loss: 4.5158 - accuracy: 0.0417 - val_loss: 4.5178 - val_accuracy: 0.0412\n",
            "Epoch 191/200\n",
            "782/782 [==============================] - 190s 244ms/step - loss: 4.5155 - accuracy: 0.0411 - val_loss: 4.5175 - val_accuracy: 0.0413\n",
            "Epoch 192/200\n",
            "782/782 [==============================] - 191s 244ms/step - loss: 4.5152 - accuracy: 0.0418 - val_loss: 4.5173 - val_accuracy: 0.0418\n",
            "Epoch 193/200\n",
            "782/782 [==============================] - 191s 244ms/step - loss: 4.5150 - accuracy: 0.0417 - val_loss: 4.5170 - val_accuracy: 0.0421\n",
            "Epoch 194/200\n",
            "782/782 [==============================] - 191s 244ms/step - loss: 4.5147 - accuracy: 0.0418 - val_loss: 4.5168 - val_accuracy: 0.0423\n",
            "Epoch 195/200\n",
            "782/782 [==============================] - 190s 244ms/step - loss: 4.5145 - accuracy: 0.0421 - val_loss: 4.5165 - val_accuracy: 0.0425\n",
            "Epoch 196/200\n",
            "782/782 [==============================] - 190s 243ms/step - loss: 4.5142 - accuracy: 0.0423 - val_loss: 4.5163 - val_accuracy: 0.0429\n",
            "Epoch 197/200\n",
            "782/782 [==============================] - 190s 244ms/step - loss: 4.5139 - accuracy: 0.0420 - val_loss: 4.5160 - val_accuracy: 0.0429\n",
            "Epoch 198/200\n",
            "782/782 [==============================] - 190s 243ms/step - loss: 4.5137 - accuracy: 0.0422 - val_loss: 4.5158 - val_accuracy: 0.0435\n",
            "Epoch 199/200\n",
            "782/782 [==============================] - 190s 243ms/step - loss: 4.5134 - accuracy: 0.0427 - val_loss: 4.5155 - val_accuracy: 0.0431\n",
            "Epoch 200/200\n",
            "782/782 [==============================] - 190s 243ms/step - loss: 4.5132 - accuracy: 0.0424 - val_loss: 4.5153 - val_accuracy: 0.0430\n"
          ]
        },
        {
          "output_type": "error",
          "ename": "NameError",
          "evalue": "ignored",
          "traceback": [
            "\u001b[0;31m---------------------------------------------------------------------------\u001b[0m",
            "\u001b[0;31mNameError\u001b[0m                                 Traceback (most recent call last)",
            "\u001b[0;32m<ipython-input-6-e825ec848487>\u001b[0m in \u001b[0;36m<module>\u001b[0;34m()\u001b[0m\n\u001b[1;32m      7\u001b[0m \u001b[0mresnet_model\u001b[0m\u001b[0;34m.\u001b[0m\u001b[0mcompile\u001b[0m\u001b[0;34m(\u001b[0m\u001b[0moptimizer\u001b[0m\u001b[0;34m=\u001b[0m\u001b[0;34m'SGD'\u001b[0m\u001b[0;34m,\u001b[0m\u001b[0mloss\u001b[0m\u001b[0;34m=\u001b[0m\u001b[0;34m'categorical_crossentropy'\u001b[0m\u001b[0;34m,\u001b[0m\u001b[0mmetrics\u001b[0m\u001b[0;34m=\u001b[0m\u001b[0;34m[\u001b[0m\u001b[0;34m'accuracy'\u001b[0m\u001b[0;34m]\u001b[0m\u001b[0;34m)\u001b[0m\u001b[0;34m\u001b[0m\u001b[0;34m\u001b[0m\u001b[0m\n\u001b[1;32m      8\u001b[0m \u001b[0mresnet_history\u001b[0m \u001b[0;34m=\u001b[0m \u001b[0mresnet_model\u001b[0m\u001b[0;34m.\u001b[0m\u001b[0mfit\u001b[0m\u001b[0;34m(\u001b[0m\u001b[0mx_train\u001b[0m\u001b[0;34m,\u001b[0m \u001b[0my_train\u001b[0m\u001b[0;34m,\u001b[0m \u001b[0mbatch_size\u001b[0m\u001b[0;34m=\u001b[0m\u001b[0;36m64\u001b[0m\u001b[0;34m,\u001b[0m \u001b[0mepochs\u001b[0m\u001b[0;34m=\u001b[0m\u001b[0;36m200\u001b[0m\u001b[0;34m,\u001b[0m \u001b[0mvalidation_data\u001b[0m\u001b[0;34m=\u001b[0m\u001b[0;34m(\u001b[0m\u001b[0mx_test\u001b[0m\u001b[0;34m,\u001b[0m\u001b[0my_test\u001b[0m\u001b[0;34m)\u001b[0m\u001b[0;34m,\u001b[0m\u001b[0mverbose\u001b[0m\u001b[0;34m=\u001b[0m\u001b[0;36m1\u001b[0m\u001b[0;34m)\u001b[0m\u001b[0;34m\u001b[0m\u001b[0;34m\u001b[0m\u001b[0m\n\u001b[0;32m----> 9\u001b[0;31m \u001b[0mprint\u001b[0m\u001b[0;34m(\u001b[0m\u001b[0mstatistics\u001b[0m\u001b[0;34m.\u001b[0m\u001b[0mmean\u001b[0m\u001b[0;34m(\u001b[0m\u001b[0mresnet_history\u001b[0m\u001b[0;34m.\u001b[0m\u001b[0mhistory\u001b[0m\u001b[0;34m[\u001b[0m\u001b[0;34m'accuracy'\u001b[0m\u001b[0;34m]\u001b[0m\u001b[0;34m)\u001b[0m\u001b[0;34m)\u001b[0m\u001b[0;34m\u001b[0m\u001b[0;34m\u001b[0m\u001b[0m\n\u001b[0m",
            "\u001b[0;31mNameError\u001b[0m: name 'statistics' is not defined"
          ]
        }
      ]
    },
    {
      "cell_type": "code",
      "metadata": {
        "colab": {
          "base_uri": "https://localhost:8080/"
        },
        "id": "W7NqYWc2EE_c",
        "outputId": "132c819c-aa63-4796-83be-b7b91b432e2f"
      },
      "source": [
        "import statistics\n",
        "print(statistics.mean(resnet_history.history['accuracy']))"
      ],
      "execution_count": null,
      "outputs": [
        {
          "output_type": "stream",
          "name": "stdout",
          "text": [
            "0.031498199976049364\n"
          ]
        }
      ]
    },
    {
      "cell_type": "code",
      "metadata": {
        "id": "_QmgC2tAvJCj"
      },
      "source": [
        "#implemented in different file\n",
        "for layer in resnet_model.layers[:-1]:\n",
        "  layer.trainable = False\n",
        "\n",
        "### LR 0.001\n",
        "tf.keras.optimizers.SGD(lr=0.001, momentum=0.9, name=\"SGD\")\n",
        "resnet_model.compile(optimizer='SGD',loss='categorical_crossentropy',metrics=['accuracy'])\n",
        "resnet_history = resnet_model.fit(x_train, y_train, batch_size=64, epochs=200, validation_data=(x_test,y_test),verbose=1)"
      ],
      "execution_count": null,
      "outputs": []
    },
    {
      "cell_type": "markdown",
      "metadata": {
        "id": "gWAjI4gDJvOQ"
      },
      "source": [
        "LR 0.001 shows 0.0423, LR 0.1 shows 0.0413, LR 1 shows 0.0409, LR 0.01 shows 0.0424. In this case, LR 0.01 shows best accuracy. "
      ]
    },
    {
      "cell_type": "markdown",
      "metadata": {
        "id": "gJfAAOL8KxvO"
      },
      "source": [
        "1-2-(b)\n",
        "The best accraucy comes from when we do fine-tuning with learning rate 0.001. It's closely related to what we learned in the class. Since 2(a) case, we froze almost all layers, only last layer learned new information. However, in 1(a) case, we did fine-tuning to whole layers and learned new information. Then the reason of small LR 0.001 shows the best result is it allows the model to learn a more optimal. "
      ]
    },
    {
      "cell_type": "code",
      "metadata": {
        "id": "4cwKHy1EMH1F"
      },
      "source": [
        "## I also included pytorch code below (I implemented at different file)"
      ],
      "execution_count": null,
      "outputs": []
    },
    {
      "cell_type": "code",
      "metadata": {
        "id": "ZQqZ-vlfMPON"
      },
      "source": [
        ""
      ],
      "execution_count": null,
      "outputs": []
    },
    {
      "cell_type": "markdown",
      "metadata": {
        "id": "N9EiN1H2MNm1"
      },
      "source": [
        "Problem 2"
      ]
    },
    {
      "cell_type": "markdown",
      "metadata": {
        "id": "hCh0Tp4-MqMd"
      },
      "source": [
        "2-1. \n",
        "Weakly supervised includes data with noise. Semi-supervised learning leverages a huge amount of unlabelecd images along with a relatively smaller set of labeled data. (So, only subset of training has labels). In semi-supervised model, they train on labeled data to get an initial teacher model, and used the predictions of teacher model to get labels of unlabeled data. Thhe big difference of two models in this research is semi-supervised learning avoids the problems of long-tail distribution by selecting same number of images per label. \n"
      ]
    },
    {
      "cell_type": "markdown",
      "metadata": {
        "id": "l5wv_7lHPuvO"
      },
      "source": [
        "2-2-(a)\n",
        "Yes, according to the researchers explanation, training on large-scale hashtag data is unexpectedly robust to label noise. To do this, they collected images tagged with a specific subset of hashtags. So, they achieved 83.6% accuracy without any fine-tuning with recent ImageNet data (with finetuning 84.2%). So they got very similar result even without any fine-tuning. \n",
        "They pretrained ResNeXt-101 32x16d networks on a version of IG-1B-17k. They randomly replaced p% hashtags by other hastags obtained by sampling from the marginal distribution over hashtags. "
      ]
    },
    {
      "cell_type": "markdown",
      "metadata": {
        "id": "GQG2aSpWVIUi"
      },
      "source": [
        "2-2-(b)\n",
        "It reduced the impact of words that occupy the distribution. If a word is not included in a dataset, then it is less likely to be picked in training set and it might lead to poor accuracy (because it is not trained). Resampling methods make possible for including all classes' information.  "
      ]
    },
    {
      "cell_type": "markdown",
      "metadata": {
        "id": "gWLVDzCPWxHy"
      },
      "source": [
        "2-3-(a) \n",
        "In student-teacher model, train labeled data and get a teacher model. Then,get predictions from unlabeled data using the trained teacher model and build new training data. This data is used in student model. \n",
        "The reason for it is called as distillation technique is a small(student) model is trained to match a large pre-trained (teacher) model. "
      ]
    },
    {
      "cell_type": "markdown",
      "metadata": {
        "id": "j3PPKwwJbvLX"
      },
      "source": [
        "2-3-(b) \n",
        "Parameter K means the number of top samples from unlabeled dataset. Parameter P means number of classes assign to each image. The reason for setting P>1 is to get enough reliable data for tail classes. (because wants to take consideration of under-represented classes, or too many occuring classes) "
      ]
    },
    {
      "cell_type": "markdown",
      "metadata": {
        "id": "BLtTjO0SdfSa"
      },
      "source": [
        "2-3-(c) \n",
        "Run the trained model on unlabeled data and get a prediction. Then we select relevant examples for each lable to construct a new labeled dataset. Since we use top-k method for each classes, it is possible to be included in more than one class. So, the image is closely related to 2 classes, then it is one the top (included in top k). "
      ]
    },
    {
      "cell_type": "markdown",
      "metadata": {
        "id": "OpQf2hwbelGh"
      },
      "source": [
        "2-3-(d) Due to increase in diversity as well as we utilize samples. (a lot of data we could use). However, K further (above 8k), because of a lot of labeling noise, the accuracy will decrease. "
      ]
    },
    {
      "cell_type": "markdown",
      "metadata": {
        "id": "FjKJw5G9WPPl"
      },
      "source": [
        "##3"
      ]
    },
    {
      "cell_type": "markdown",
      "metadata": {
        "id": "IwF3RMjZnR64"
      },
      "source": [
        "3-1\n",
        "To achieve peak FLOPs, it requires customized libraries made by companies which have knolwedge about the hardware. PPP takes consideration of convolutions, pooling, dropout and fully connected layers and implement this model on a single GPU. Using this benchmark results, researchers fit a scaling constant that captures the average relative inefficiency. "
      ]
    },
    {
      "cell_type": "markdown",
      "metadata": {
        "id": "ZvLoGe20o_38"
      },
      "source": [
        "3-2\n",
        "To calculate FLOPs there is some equations. \n",
        "In convolution layers FLOPs is 2* Number of Kernel *Kernel space*Output shape  \n",
        "In fully connected layers FLOPs is 2 * Input size * output size  \n",
        "Pooling layers FLOPs is (Height) * Depth * (Width) of an image   \n",
        "\n",
        "Conv3x3 (64) = 2 * 64 * 3 * 3 * 224* 224 *3 =173408256      \n",
        "Conv3x3 (64) = 2 * 64 * 3 * 3 * 224 * 224 * 64 =3699376128    \n",
        "MaxPool = (224/2) * (224/2) * 256 = 3211264    \n",
        "Conv3x3 (128) = 2*128 * 3 * 3 * (112)*(112)*64 = 1849688064  \n",
        "Conv3x3 (128) = 2 * 128 * 3 * 3 * (112)*(112)*128 =  3699376128  \n",
        "MaxPool = (112) * (112) * 128 = 1605632  \n",
        "Conv3x3 (256) = 2*256 * 3 * 3 * (56) * (56)*128 = 1849688064  \n",
        "Conv3x3 (256)= 2 * 256 * 3 * 3 * (56) * (56)*256 = 3699376128  \n",
        "Conv3x3 (256)= 2 * 256 * 3 * 3 * (56) * (56)*256=3699376128    \n",
        "Conv3x3 (256)=  2 * 256 * 3 * 3 * (56) * (56) *256=3699376128    \n",
        "MaxPool = (56) * (56) * 256 = 802816     \n",
        "Conv3x3 (512) = 2*256 * 3 * 3 * (28) * (28)*512 = 1849688064     \n",
        "Conv3x3 (512)= 2 * 512 * 3 * 3 * (28) * (28)*512=3699376128     \n",
        "Conv3x3 (512)= 2 * 512 * 3 * 3 * (28) * (28)*512=3699376128     \n",
        "Conv3x3 (512)= 2 * 512 * 3 * 3 * (28) * (28)*512 = 3699376128      \n",
        "MaxPool = (28) * (28) * 512 = 401408     \n",
        "Conv3x3 (512)= 2 * 512 * 3 * 3 * (14) * (14)*512= 924844032     \n",
        "Conv3x3 (512)= 2 * 512 * 3 * 3 * (14) * (14)*512=924844032      \n",
        "Conv3x3 (512)= 2 * 512 * 3 * 3 * (14) * (14)*512=924844032     \n",
        "Conv3x3 (512)= 2 * 512 * 3 * 3 * (14) * (14)*512=924844032     \n",
        "MaxPool  = (14) * (14) * 512 =100352    \n",
        "Fully Connected (4096) = 2 * 25088 * 4096 =205520896    \n",
        "Fully Connected (4096)= 2 * 4096* 4096 = 33554432  \n",
        "Fully Connected (1000)= 2 * 4096 * 1000=8192000\n",
        "\n",
        "FLOPS (x 10^-6): 39270.24640000 FLOPs \n",
        "FLOPs in Convolution layers = 392449075200\n",
        "392449075200/3927026460000*100 = 99.354%\n",
        "Total MACCs: 19632062464.00000000 (1MAC = 2FLOPs)\n",
        "Most of FLOPs (99%) are related to convolution layers.\n",
        "\n",
        "https://www.thinkautonomous.ai/blog/?p=deep-learning-optimization#inference\n",
        "\n",
        "https://iq.opengenus.org/floating-point-operations-per-second-flops-of-machine-learning-models/"
      ]
    },
    {
      "cell_type": "markdown",
      "metadata": {
        "id": "SMunrEfUhwNS"
      },
      "source": [
        "3-3\n",
        "Summation of layerwise timing doesn't match the timing of the full foward pass on GPUs. CUDA supports asynchronous programming. Before time measurement, API has to be called to make sure all cores finished their tasks. Thus, it is overhead of measuring time on GPUs. Summation of layerwise timing on GPUs is longer than a full forward pass.  \n",
        "To mitigate this situation, they benchmark a matrix multiplication. They kept GPUs iteratively running the matrix multiplication in a way that GPU cores can continuously perform multiply add operations without synchronization before recording the end time. So, if the iteration number is large enough, the overhead can be ignored. "
      ]
    },
    {
      "cell_type": "markdown",
      "metadata": {
        "id": "S-nSMx4NkUdw"
      },
      "source": [
        "3-4\n"
      ]
    },
    {
      "cell_type": "markdown",
      "metadata": {
        "id": "Bk8En7uMFBdf"
      },
      "source": [
        "K80's peak double precision floating point performance is 1.87. \n",
        "The inference time will be FLOPs/FLOPs (1GFLOPS = 1000000000) \n",
        "since 1tflops = 1000gflops \n",
        "\n",
        "VGG = (15503*10^6)/(1.87*1000*10^9) = 0.00829037433s   \n",
        "GoogleNet = (1606*10^6)/(1.87*1000*10^9) = 0.00085882352s    \n",
        "ResNet = (3922*10^6)/(1.87*1000*10^9) = 0.0020973262s\n",
        "\n"
      ]
    },
    {
      "cell_type": "markdown",
      "metadata": {
        "id": "HvVisabY8Nj_"
      },
      "source": [
        "##4\n"
      ]
    },
    {
      "cell_type": "markdown",
      "metadata": {
        "id": "NiD2sjMqMU5U"
      },
      "source": [
        "What I did was k80 (18, 44, 56 depth model), there is different implementation files. "
      ]
    },
    {
      "cell_type": "markdown",
      "metadata": {
        "id": "E1oSjDGdLIj8"
      },
      "source": [
        " 4-1 (not completed)\n",
        "Team member: Sweta Bharti, Harshita Kukreja, Dan Zhao, Graham Jones"
      ]
    },
    {
      "cell_type": "markdown",
      "metadata": {
        "id": "HeFgsfrVoQC-"
      },
      "source": [
        "4-1"
      ]
    },
    {
      "cell_type": "code",
      "metadata": {
        "id": "Skl6sLPT8NUQ"
      },
      "source": [
        "import six\n",
        "from keras.models import Model\n",
        "from keras.layers import Input\n",
        "from keras.layers import Activation\n",
        "from keras.layers import Reshape\n",
        "from keras.layers import Dense\n",
        "from keras.layers import Conv2D\n",
        "from keras.layers import MaxPooling2D\n",
        "from keras.layers import GlobalMaxPooling2D\n",
        "from keras.layers import GlobalAveragePooling2D\n",
        "from keras.layers import Dropout\n",
        "from keras.layers.merge import add\n",
        "from keras.layers.normalization import BatchNormalization\n",
        "from keras.regularizers import l2\n",
        "from keras import backend as K\n",
        "from keras_applications.imagenet_utils import _obtain_input_shape\n",
        "\n",
        "\n",
        "def _bn_relu(x, bn_name=None, relu_name=None):\n",
        "    \"\"\"Helper to build a BN -> relu block\n",
        "    \"\"\"\n",
        "    norm = BatchNormalization(axis=CHANNEL_AXIS, name=bn_name)(x)\n",
        "    return Activation(\"relu\", name=relu_name)(norm)\n",
        "\n",
        "\n",
        "def _conv_bn_relu(**conv_params):\n",
        "    \"\"\"Helper to build a conv -> BN -> relu residual unit activation function.\n",
        "       This is the original ResNet v1 scheme in https://arxiv.org/abs/1512.03385\n",
        "    \"\"\"\n",
        "    filters = conv_params[\"filters\"]\n",
        "    kernel_size = conv_params[\"kernel_size\"]\n",
        "    strides = conv_params.setdefault(\"strides\", (1, 1))\n",
        "    dilation_rate = conv_params.setdefault(\"dilation_rate\", (1, 1))\n",
        "    conv_name = conv_params.setdefault(\"conv_name\", None)\n",
        "    bn_name = conv_params.setdefault(\"bn_name\", None)\n",
        "    relu_name = conv_params.setdefault(\"relu_name\", None)\n",
        "    kernel_initializer = conv_params.setdefault(\"kernel_initializer\", \"he_normal\")\n",
        "    padding = conv_params.setdefault(\"padding\", \"same\")\n",
        "    kernel_regularizer = conv_params.setdefault(\"kernel_regularizer\", l2(1.e-4))\n",
        "\n",
        "    def f(x):\n",
        "        x = Conv2D(filters=filters, kernel_size=kernel_size,\n",
        "                   strides=strides, padding=padding,\n",
        "                   dilation_rate=dilation_rate,\n",
        "                   kernel_initializer=kernel_initializer,\n",
        "                   kernel_regularizer=kernel_regularizer,\n",
        "                   name=conv_name)(x)\n",
        "        return _bn_relu(x, bn_name=bn_name, relu_name=relu_name)\n",
        "\n",
        "    return f\n",
        "\n",
        "\n",
        "def _bn_relu_conv(**conv_params):\n",
        "    \"\"\"Helper to build a BN -> relu -> conv residual unit with full pre-activation\n",
        "    function. This is the ResNet v2 scheme proposed in\n",
        "    http://arxiv.org/pdf/1603.05027v2.pdf\n",
        "    \"\"\"\n",
        "    filters = conv_params[\"filters\"]\n",
        "    kernel_size = conv_params[\"kernel_size\"]\n",
        "    strides = conv_params.setdefault(\"strides\", (1, 1))\n",
        "    dilation_rate = conv_params.setdefault(\"dilation_rate\", (1, 1))\n",
        "    conv_name = conv_params.setdefault(\"conv_name\", None)\n",
        "    bn_name = conv_params.setdefault(\"bn_name\", None)\n",
        "    relu_name = conv_params.setdefault(\"relu_name\", None)\n",
        "    kernel_initializer = conv_params.setdefault(\"kernel_initializer\", \"he_normal\")\n",
        "    padding = conv_params.setdefault(\"padding\", \"same\")\n",
        "    kernel_regularizer = conv_params.setdefault(\"kernel_regularizer\", l2(1.e-4))\n",
        "\n",
        "    def f(x):\n",
        "        activation = _bn_relu(x, bn_name=bn_name, relu_name=relu_name)\n",
        "        return Conv2D(filters=filters, kernel_size=kernel_size,\n",
        "                      strides=strides, padding=padding,\n",
        "                      dilation_rate=dilation_rate,\n",
        "                      kernel_initializer=kernel_initializer,\n",
        "                      kernel_regularizer=kernel_regularizer,\n",
        "                      name=conv_name)(activation)\n",
        "\n",
        "    return f\n",
        "\n",
        "\n",
        "def _shortcut(input_feature, residual, conv_name_base=None, bn_name_base=None):\n",
        "    \"\"\"Adds a shortcut between input and residual block and merges them with \"sum\"\n",
        "    \"\"\"\n",
        "    # Expand channels of shortcut to match residual.\n",
        "    # Stride appropriately to match residual (width, height)\n",
        "    # Should be int if network architecture is correctly configured.\n",
        "    input_shape = K.int_shape(input_feature)\n",
        "    residual_shape = K.int_shape(residual)\n",
        "    stride_width = int(round(input_shape[ROW_AXIS] / residual_shape[ROW_AXIS]))\n",
        "    stride_height = int(round(input_shape[COL_AXIS] / residual_shape[COL_AXIS]))\n",
        "    equal_channels = input_shape[CHANNEL_AXIS] == residual_shape[CHANNEL_AXIS]\n",
        "\n",
        "    shortcut = input_feature\n",
        "    # 1 X 1 conv if shape is different. Else identity.\n",
        "    if stride_width > 1 or stride_height > 1 or not equal_channels:\n",
        "        print('reshaping via a convolution...')\n",
        "        if conv_name_base is not None:\n",
        "            conv_name_base = conv_name_base + '1'\n",
        "        shortcut = Conv2D(filters=residual_shape[CHANNEL_AXIS],\n",
        "                          kernel_size=(1, 1),\n",
        "                          strides=(stride_width, stride_height),\n",
        "                          padding=\"valid\",\n",
        "                          kernel_initializer=\"he_normal\",\n",
        "                          kernel_regularizer=l2(0.0001),\n",
        "                          name=conv_name_base)(input_feature)\n",
        "        if bn_name_base is not None:\n",
        "            bn_name_base = bn_name_base + '1'\n",
        "        shortcut = BatchNormalization(axis=CHANNEL_AXIS,\n",
        "                                      name=bn_name_base)(shortcut)\n",
        "\n",
        "    return add([shortcut, residual])\n",
        "\n",
        "\n",
        "def _residual_block(block_function, filters, blocks, stage,\n",
        "                    transition_strides=None, transition_dilation_rates=None,\n",
        "                    dilation_rates=None, is_first_layer=False, dropout=None,\n",
        "                    residual_unit=_bn_relu_conv):\n",
        "    \"\"\"Builds a residual block with repeating bottleneck blocks.\n",
        "       stage: integer, current stage label, used for generating layer names\n",
        "       blocks: number of blocks 'a','b'..., current block label, used for generating\n",
        "            layer names\n",
        "       transition_strides: a list of tuples for the strides of each transition\n",
        "       transition_dilation_rates: a list of tuples for the dilation rate of each\n",
        "            transition\n",
        "    \"\"\"\n",
        "    if transition_dilation_rates is None:\n",
        "        transition_dilation_rates = [(1, 1)] * blocks\n",
        "    if transition_strides is None:\n",
        "        transition_strides = [(1, 1)] * blocks\n",
        "    if dilation_rates is None:\n",
        "        dilation_rates = [1] * blocks\n",
        "\n",
        "    def f(x):\n",
        "        for i in range(blocks):\n",
        "            is_first_block = is_first_layer and i == 0\n",
        "            x = block_function(filters=filters, stage=stage, block=i,\n",
        "                               transition_strides=transition_strides[i],\n",
        "                               dilation_rate=dilation_rates[i],\n",
        "                               is_first_block_of_first_layer=is_first_block,\n",
        "                               dropout=dropout,\n",
        "                               residual_unit=residual_unit)(x)\n",
        "        return x\n",
        "\n",
        "    return f\n",
        "\n",
        "\n",
        "def _block_name_base(stage, block):\n",
        "    \"\"\"Get the convolution name base and batch normalization name base defined by\n",
        "    stage and block.\n",
        "    If there are less than 26 blocks they will be labeled 'a', 'b', 'c' to match the\n",
        "    paper and keras and beyond 26 blocks they will simply be numbered.\n",
        "    \"\"\"\n",
        "    if block < 27:\n",
        "        block = '%c' % (block + 97)  # 97 is the ascii number for lowercase 'a'\n",
        "    conv_name_base = 'res' + str(stage) + block + '_branch'\n",
        "    bn_name_base = 'bn' + str(stage) + block + '_branch'\n",
        "    return conv_name_base, bn_name_base\n",
        "\n",
        "\n",
        "def basic_block(filters, stage, block, transition_strides=(1, 1),\n",
        "                dilation_rate=(1, 1), is_first_block_of_first_layer=False, dropout=None,\n",
        "                residual_unit=_bn_relu_conv):\n",
        "    \"\"\"Basic 3 X 3 convolution blocks for use on resnets with layers <= 34.\n",
        "    Follows improved proposed scheme in http://arxiv.org/pdf/1603.05027v2.pdf\n",
        "    \"\"\"\n",
        "    def f(input_features):\n",
        "        conv_name_base, bn_name_base = _block_name_base(stage, block)\n",
        "        if is_first_block_of_first_layer:\n",
        "            # don't repeat bn->relu since we just did bn->relu->maxpool\n",
        "            x = Conv2D(filters=filters, kernel_size=(3, 3),\n",
        "                       strides=transition_strides,\n",
        "                       dilation_rate=dilation_rate,\n",
        "                       padding=\"same\",\n",
        "                       kernel_initializer=\"he_normal\",\n",
        "                       kernel_regularizer=l2(1e-4),\n",
        "                       name=conv_name_base + '2a')(input_features)\n",
        "        else:\n",
        "            x = residual_unit(filters=filters, kernel_size=(3, 3),\n",
        "                              strides=transition_strides,\n",
        "                              dilation_rate=dilation_rate,\n",
        "                              conv_name_base=conv_name_base + '2a',\n",
        "                              bn_name_base=bn_name_base + '2a')(input_features)\n",
        "\n",
        "        if dropout is not None:\n",
        "            x = Dropout(dropout)(x)\n",
        "\n",
        "        x = residual_unit(filters=filters, kernel_size=(3, 3),\n",
        "                          conv_name_base=conv_name_base + '2b',\n",
        "                          bn_name_base=bn_name_base + '2b')(x)\n",
        "\n",
        "        return _shortcut(input_features, x)\n",
        "\n",
        "    return f\n",
        "\n",
        "\n",
        "def bottleneck(filters, stage, block, transition_strides=(1, 1),\n",
        "               dilation_rate=(1, 1), is_first_block_of_first_layer=False, dropout=None,\n",
        "               residual_unit=_bn_relu_conv):\n",
        "    \"\"\"Bottleneck architecture for > 34 layer resnet.\n",
        "    Follows improved proposed scheme in http://arxiv.org/pdf/1603.05027v2.pdf\n",
        "    Returns:\n",
        "        A final conv layer of filters * 4\n",
        "    \"\"\"\n",
        "    def f(input_feature):\n",
        "        conv_name_base, bn_name_base = _block_name_base(stage, block)\n",
        "        if is_first_block_of_first_layer:\n",
        "            # don't repeat bn->relu since we just did bn->relu->maxpool\n",
        "            x = Conv2D(filters=filters, kernel_size=(1, 1),\n",
        "                       strides=transition_strides,\n",
        "                       dilation_rate=dilation_rate,\n",
        "                       padding=\"same\",\n",
        "                       kernel_initializer=\"he_normal\",\n",
        "                       kernel_regularizer=l2(1e-4),\n",
        "                       name=conv_name_base + '2a')(input_feature)\n",
        "        else:\n",
        "            x = residual_unit(filters=filters, kernel_size=(1, 1),\n",
        "                              strides=transition_strides,\n",
        "                              dilation_rate=dilation_rate,\n",
        "                              conv_name_base=conv_name_base + '2a',\n",
        "                              bn_name_base=bn_name_base + '2a')(input_feature)\n",
        "\n",
        "        if dropout is not None:\n",
        "            x = Dropout(dropout)(x)\n",
        "\n",
        "        x = residual_unit(filters=filters, kernel_size=(3, 3),\n",
        "                          conv_name_base=conv_name_base + '2b',\n",
        "                          bn_name_base=bn_name_base + '2b')(x)\n",
        "\n",
        "        if dropout is not None:\n",
        "            x = Dropout(dropout)(x)\n",
        "\n",
        "        x = residual_unit(filters=filters * 4, kernel_size=(1, 1),\n",
        "                          conv_name_base=conv_name_base + '2c',\n",
        "                          bn_name_base=bn_name_base + '2c')(x)\n",
        "\n",
        "        return _shortcut(input_feature, x)\n",
        "\n",
        "    return f\n",
        "\n",
        "\n",
        "def _handle_dim_ordering():\n",
        "    global ROW_AXIS\n",
        "    global COL_AXIS\n",
        "    global CHANNEL_AXIS\n",
        "    if K.image_data_format() == 'channels_last':\n",
        "        ROW_AXIS = 1\n",
        "        COL_AXIS = 2\n",
        "        CHANNEL_AXIS = 3\n",
        "    else:\n",
        "        CHANNEL_AXIS = 1\n",
        "        ROW_AXIS = 2\n",
        "        COL_AXIS = 3\n",
        "\n",
        "\n",
        "def _string_to_function(identifier):\n",
        "    if isinstance(identifier, six.string_types):\n",
        "        res = globals().get(identifier)\n",
        "        if not res:\n",
        "            raise ValueError('Invalid {}'.format(identifier))\n",
        "        return res\n",
        "    return identifier\n",
        "\n",
        "\n",
        "def ResNet(input_shape=None, classes=10, block='bottleneck', residual_unit='v2',\n",
        "           repetitions=None, initial_filters=64, activation='softmax', include_top=True,\n",
        "           input_tensor=None, dropout=None, transition_dilation_rate=(1, 1),\n",
        "           initial_strides=(2, 2), initial_kernel_size=(7, 7), initial_pooling='max',\n",
        "           final_pooling=None, top='classification'):\n",
        "    \"\"\"Builds a custom ResNet like architecture. Defaults to ResNet50 v2.\n",
        "    Args:\n",
        "        input_shape: optional shape tuple, only to be specified\n",
        "            if `include_top` is False (otherwise the input shape\n",
        "            has to be `(224, 224, 3)` (with `channels_last` dim ordering)\n",
        "            or `(3, 224, 224)` (with `channels_first` dim ordering).\n",
        "            It should have exactly 3 dimensions,\n",
        "            and width and height should be no smaller than 8.\n",
        "            E.g. `(224, 224, 3)` would be one valid value.\n",
        "        classes: The number of outputs at final softmax layer\n",
        "        block: The block function to use. This is either `'basic'` or `'bottleneck'`.\n",
        "            The original paper used `basic` for layers < 50.\n",
        "        repetitions: Number of repetitions of various block units.\n",
        "            At each block unit, the number of filters are doubled and the input size\n",
        "            is halved. Default of None implies the ResNet50v2 values of [3, 4, 6, 3].\n",
        "        residual_unit: the basic residual unit, 'v1' for conv bn relu, 'v2' for bn relu\n",
        "            conv. See [Identity Mappings in\n",
        "            Deep Residual Networks](https://arxiv.org/abs/1603.05027)\n",
        "            for details.\n",
        "        dropout: None for no dropout, otherwise rate of dropout from 0 to 1.\n",
        "            Based on [Wide Residual Networks.(https://arxiv.org/pdf/1605.07146) paper.\n",
        "        transition_dilation_rate: Dilation rate for transition layers. For semantic\n",
        "            segmentation of images use a dilation rate of (2, 2).\n",
        "        initial_strides: Stride of the very first residual unit and MaxPooling2D call,\n",
        "            with default (2, 2), set to (1, 1) for small images like cifar.\n",
        "        initial_kernel_size: kernel size of the very first convolution, (7, 7) for\n",
        "            imagenet and (3, 3) for small image datasets like tiny imagenet and cifar.\n",
        "            See [ResNeXt](https://arxiv.org/abs/1611.05431) paper for details.\n",
        "        initial_pooling: Determine if there will be an initial pooling layer,\n",
        "            'max' for imagenet and None for small image datasets.\n",
        "            See [ResNeXt](https://arxiv.org/abs/1611.05431) paper for details.\n",
        "        final_pooling: Optional pooling mode for feature extraction at the final\n",
        "            model layer when `include_top` is `False`.\n",
        "            - `None` means that the output of the model\n",
        "                will be the 4D tensor output of the\n",
        "                last convolutional layer.\n",
        "            - `avg` means that global average pooling\n",
        "                will be applied to the output of the\n",
        "                last convolutional layer, and thus\n",
        "                the output of the model will be a\n",
        "                2D tensor.\n",
        "            - `max` means that global max pooling will\n",
        "                be applied.\n",
        "        top: Defines final layers to evaluate based on a specific problem type. Options\n",
        "            are 'classification' for ImageNet style problems, 'segmentation' for\n",
        "            problems like the Pascal VOC dataset, and None to exclude these layers\n",
        "            entirely.\n",
        "    Returns:\n",
        "        The keras `Model`.\n",
        "    \"\"\"\n",
        "    if activation not in ['softmax', 'sigmoid', None]:\n",
        "        raise ValueError('activation must be one of \"softmax\", \"sigmoid\", or None')\n",
        "    if activation == 'sigmoid' and classes != 1:\n",
        "        raise ValueError('sigmoid activation can only be used when classes = 1')\n",
        "    if repetitions is None:\n",
        "        repetitions = [3, 4, 6, 3]\n",
        "    # Determine proper input shape\n",
        "    input_shape = _obtain_input_shape(input_shape,\n",
        "                                      default_size=32,\n",
        "                                      min_size=8,\n",
        "                                      data_format=K.image_data_format(),\n",
        "                                      require_flatten=include_top)\n",
        "    _handle_dim_ordering()\n",
        "    if len(input_shape) != 3:\n",
        "        raise Exception(\"Input shape should be a tuple (nb_channels, nb_rows, nb_cols)\")\n",
        "\n",
        "    if block == 'basic':\n",
        "        block_fn = basic_block\n",
        "    elif block == 'bottleneck':\n",
        "        block_fn = bottleneck\n",
        "    elif isinstance(block, six.string_types):\n",
        "        block_fn = _string_to_function(block)\n",
        "    else:\n",
        "        block_fn = block\n",
        "\n",
        "    if residual_unit == 'v2':\n",
        "        residual_unit = _bn_relu_conv\n",
        "    elif residual_unit == 'v1':\n",
        "        residual_unit = _conv_bn_relu\n",
        "    elif isinstance(residual_unit, six.string_types):\n",
        "        residual_unit = _string_to_function(residual_unit)\n",
        "    else:\n",
        "        residual_unit = residual_unit\n",
        "\n",
        "    # Permute dimension order if necessary\n",
        "    if K.image_data_format() == 'channels_first':\n",
        "        input_shape = (input_shape[1], input_shape[2], input_shape[0])\n",
        "    # Determine proper input shape\n",
        "    input_shape = _obtain_input_shape(input_shape,\n",
        "                                      default_size=32,\n",
        "                                      min_size=8,\n",
        "                                      data_format=K.image_data_format(),\n",
        "                                      require_flatten=include_top)\n",
        "\n",
        "    img_input = Input(shape=input_shape, tensor=input_tensor)\n",
        "    x = _conv_bn_relu(filters=initial_filters, kernel_size=initial_kernel_size,\n",
        "                      strides=initial_strides)(img_input)\n",
        "    if initial_pooling == 'max':\n",
        "        x = MaxPooling2D(pool_size=(3, 3), strides=initial_strides, padding=\"same\")(x)\n",
        "\n",
        "    block = x\n",
        "    filters = initial_filters\n",
        "    for i, r in enumerate(repetitions):\n",
        "        transition_dilation_rates = [transition_dilation_rate] * r\n",
        "        transition_strides = [(1, 1)] * r\n",
        "        if transition_dilation_rate == (1, 1):\n",
        "            transition_strides[0] = (2, 2)\n",
        "        block = _residual_block(block_fn, filters=filters,\n",
        "                                stage=i, blocks=r,\n",
        "                                is_first_layer=(i == 0),\n",
        "                                dropout=dropout,\n",
        "                                transition_dilation_rates=transition_dilation_rates,\n",
        "                                transition_strides=transition_strides,\n",
        "                                residual_unit=residual_unit)(block)\n",
        "        filters *= 2\n",
        "\n",
        "    # Last activation\n",
        "    x = _bn_relu(block)\n",
        "\n",
        "    # Classifier block\n",
        "    if include_top and top is 'classification':\n",
        "        x = GlobalAveragePooling2D()(x)\n",
        "        x = Dense(units=classes, activation=activation,\n",
        "                  kernel_initializer=\"he_normal\")(x)\n",
        "    elif include_top and top is 'segmentation':\n",
        "        x = Conv2D(classes, (1, 1), activation='linear', padding='same')(x)\n",
        "\n",
        "        if K.image_data_format() == 'channels_first':\n",
        "            channel, row, col = input_shape\n",
        "        else:\n",
        "            row, col, channel = input_shape\n",
        "\n",
        "        x = Reshape((row * col, classes))(x)\n",
        "        x = Activation(activation)(x)\n",
        "        x = Reshape((row, col, classes))(x)\n",
        "    elif final_pooling == 'avg':\n",
        "        x = GlobalAveragePooling2D()(x)\n",
        "    elif final_pooling == 'max':\n",
        "        x = GlobalMaxPooling2D()(x)\n",
        "\n",
        "    model = Model(inputs=img_input, outputs=x)\n",
        "    return model\n",
        "\n",
        "\n",
        "def ResNet18(input_shape, classes):\n",
        "    \"\"\"ResNet with 18 layers and v2 residual units\n",
        "    \"\"\"\n",
        "    return ResNet(input_shape, classes, basic_block, repetitions=[2, 2, 2, 2])\n",
        "\n",
        "\n",
        "def ResNet34(input_shape, classes):\n",
        "    \"\"\"ResNet with 34 layers and v2 residual units\n",
        "    \"\"\"\n",
        "    return ResNet(input_shape, classes, basic_block, repetitions=[3, 4, 6, 3])\n",
        "\n",
        "\n",
        "def ResNet50(input_shape, classes):\n",
        "    \"\"\"ResNet with 50 layers and v2 residual units\n",
        "    \"\"\"\n",
        "    return ResNet(input_shape, classes, bottleneck, repetitions=[3, 4, 6, 3])\n",
        "\n",
        "\n",
        "def ResNet101(input_shape, classes):\n",
        "    \"\"\"ResNet with 101 layers and v2 residual units\n",
        "    \"\"\"\n",
        "    return ResNet(input_shape, classes, bottleneck, repetitions=[3, 4, 23, 3])\n",
        "\n",
        "\n",
        "def ResNet152(input_shape, classes):\n",
        "    \"\"\"ResNet with 152 layers and v2 residual units\n",
        "    \"\"\"\n",
        "    return ResNet(input_shape, classes, bottleneck, repetitions=[3, 8, 36, 3])\n",
        "\n",
        "class LossHistory(keras.callbacks.Callback):\n",
        "    def on_train_begin(self, logs={}):\n",
        "        self.history = {'loss':[],'val_loss':[]}\n",
        "\n",
        "    def on_batch_end(self, batch, logs={}):\n",
        "        self.history['loss'].append(logs.get('loss'))\n",
        "        self.history['accuracy'].append(logs.get('accuracy'))\n",
        "\n",
        "    def on_epoch_end(self, epoch, logs={}):\n",
        "        self.history['loss'].append(logs.get('loss'))\n",
        "        self.history['accuracy'].append(logs.get('accuracy'))\n",
        "#https://stackoverflow.com/questions/42392441/how-to-record-val-loss-and-loss-per-batch-in-keras"
      ],
      "execution_count": null,
      "outputs": []
    },
    {
      "cell_type": "code",
      "metadata": {
        "id": "EED-6k_c4d-D"
      },
      "source": [
        "(x_train, y_train),(x_test, y_test) = tf.keras.datasets.cifar10.load_data()"
      ],
      "execution_count": null,
      "outputs": []
    },
    {
      "cell_type": "code",
      "metadata": {
        "id": "zzSswOSloYxh"
      },
      "source": [
        "x_train = x_train.astype('float32')\n",
        "x_test = x_test.astype('float32')\n",
        "x_train  /= 255.0\n",
        "x_test /= 255.0\n",
        "y_train=np_utils.to_categorical(y_train)\n",
        "y_test=np_utils.to_categorical(y_test)"
      ],
      "execution_count": null,
      "outputs": []
    },
    {
      "cell_type": "code",
      "metadata": {
        "id": "x6ZgsMlZohf0"
      },
      "source": [
        "model = ResNet50(weights=None, classes=100, input_shape=(32, 32, 3))\n",
        "tf.keras.optimizers.SGD(lr=0.1, momentum=0.9, name=\"SGD\")\n",
        "resnet_model.compile(optimizer='SGD',loss='categorical_crossentropy',metrics=['accuracy'])\n",
        "lossbatch = LossHistory()\n",
        "history = model.fit(x_train, y_train, batch_size=128, epochs=350, callbacks=[lossbatch],verbose=0)"
      ],
      "execution_count": null,
      "outputs": []
    },
    {
      "cell_type": "code",
      "metadata": {
        "id": "BNEU4f8swvD2"
      },
      "source": [
        "import numpy as np\n",
        "def objective(k, beta0, beta1, beta2):\n",
        "\treturn 1/(beta0*k+beta1)+beta2\n",
        "\n",
        "loss_data = df['loss'] \n",
        "acc_data = df['accuracy']"
      ],
      "execution_count": null,
      "outputs": []
    },
    {
      "cell_type": "code",
      "metadata": {
        "id": "oJEl8FR0w1lP"
      },
      "source": [
        "idx = np.array(list(range(1, len(loss_data)+1)))"
      ],
      "execution_count": null,
      "outputs": []
    },
    {
      "cell_type": "code",
      "metadata": {
        "id": "7_Tz079Rql9d"
      },
      "source": [
        "import matplotlib.pyplot as plt\n",
        "\n",
        "plt.plot(idx, loss_data)\n",
        "plt.plot(idx, acc_data)"
      ],
      "execution_count": null,
      "outputs": []
    },
    {
      "cell_type": "code",
      "metadata": {
        "id": "Q3KuhEPzvcYF"
      },
      "source": [
        "import numpy as np\n",
        "import matplotlib.pyplot as plt\n",
        "from sklearn.linear_model import LinearRegression\n",
        "from scipy.optimize import curve_fit\n",
        "\n",
        "popt, pcurv = curve_fit(objective, idx, loss_data)"
      ],
      "execution_count": null,
      "outputs": []
    },
    {
      "cell_type": "code",
      "metadata": {
        "id": "PFSMhOFdLmbY"
      },
      "source": [
        "print(popt)"
      ],
      "execution_count": null,
      "outputs": []
    },
    {
      "cell_type": "markdown",
      "metadata": {
        "id": "g5d76eLK7eYu"
      },
      "source": [
        "K80-resnet44"
      ]
    },
    {
      "cell_type": "code",
      "metadata": {
        "id": "u5J5KUPB7ZmV"
      },
      "source": [
        "from __future__ import print_function\n",
        "import tensorflow.keras\n",
        "from tensorflow.keras.layers import Dense, Conv2D\n",
        "from tensorflow.keras.layers import BatchNormalization, Activation\n",
        "from tensorflow.keras.layers import AveragePooling2D, Input, Flatten\n",
        "from tensorflow.keras.optimizers import Adam\n",
        "from tensorflow.keras.callbacks import ModelCheckpoint\n",
        "from tensorflow.keras.callbacks import LearningRateScheduler\n",
        "from tensorflow.keras.callbacks import ReduceLROnPlateau\n",
        "from tensorflow.keras.preprocessing.image import ImageDataGenerator\n",
        "from tensorflow.keras.regularizers import l2\n",
        "from tensorflow.keras import backend as K\n",
        "from tensorflow.keras.models import Model\n",
        "from tensorflow.keras.datasets import cifar10\n",
        "import numpy as np\n",
        "import os\n",
        "\n",
        "# Load the CIFAR10 data.\n",
        "(x_train, y_train), (x_test, y_test) = cifar10.load_data()\n",
        "# Training parameters\n",
        "BATCH_SIZE = 128  # orig paper trained all networks with batch_size=128\n",
        "EPOCHS = 350 # 200\n",
        "USE_AUGMENTATION = True\n",
        "NUM_CLASSES = np.unique(y_train).shape[0] # 10\n",
        "COLORS = x_train.shape[3]\n",
        "\n",
        "# Subtracting pixel mean improves accuracy\n",
        "SUBTRACT_PIXEL_MEAN = True\n",
        "\n",
        "# Model version\n",
        "# Orig paper: version = 1 (ResNet v1), \n",
        "# Improved ResNet: version = 2 \n",
        "# (ResNet v2)\n",
        "VERSION = 1\n",
        "\n",
        "# Computed depth from supplied model parameter n\n",
        "if VERSION == 1:\n",
        "    DEPTH = COLORS * 6 + 2\n",
        "elif version == 2:\n",
        "    DEPTH = COLORS * 9 + 2\n",
        "def resnet_layer(inputs,\n",
        "                 num_filters=16,\n",
        "                 kernel_size=3,\n",
        "                 strides=1,\n",
        "                 activation='relu',\n",
        "                 batch_normalization=True,\n",
        "                 conv_first=True):\n",
        "    \"\"\"2D Convolution-Batch Normalization-Activation stack builder\n",
        "\n",
        "    # Arguments\n",
        "        inputs (tensor): input tensor from input image or previous layer\n",
        "        num_filters (int): Conv2D number of filters\n",
        "        kernel_size (int): Conv2D square kernel dimensions\n",
        "        strides (int): Conv2D square stride dimensions\n",
        "        activation (string): activation name\n",
        "        batch_normalization (bool): whether to include batch normalization\n",
        "        conv_first (bool): conv-bn-activation (True) or\n",
        "            bn-activation-conv (False)\n",
        "\n",
        "    # Returns\n",
        "        x (tensor): tensor as input to the next layer\n",
        "    \"\"\"\n",
        "    conv = Conv2D(num_filters,\n",
        "                  kernel_size=kernel_size,\n",
        "                  strides=strides,\n",
        "                  padding='same',\n",
        "                  kernel_initializer='he_normal',\n",
        "                  kernel_regularizer=l2(1e-4))\n",
        "\n",
        "    x = inputs\n",
        "    if conv_first:\n",
        "        x = conv(x)\n",
        "        if batch_normalization:\n",
        "            x = BatchNormalization()(x)\n",
        "        if activation is not None:\n",
        "            x = Activation(activation)(x)\n",
        "    else:\n",
        "        if batch_normalization:\n",
        "            x = BatchNormalization()(x)\n",
        "        if activation is not None:\n",
        "            x = Activation(activation)(x)\n",
        "        x = conv(x)\n",
        "    return x\n",
        "def resnet_v1(input_shape, depth, num_classes=10):\n",
        "    \"\"\"ResNet Version 1 Model builder [a]\n",
        "\n",
        "    Stacks of 2 x (3 x 3) Conv2D-BN-ReLU\n",
        "    Last ReLU is after the shortcut connection.\n",
        "    At the beginning of each stage, the feature \n",
        "    map size is halved (downsampled)\n",
        "    by a convolutional layer with strides=2, while the number of \n",
        "    filters is\n",
        "    doubled. Within each stage, the layers have the same number \n",
        "    filters and the same number of filters.\n",
        "    Features maps sizes:\n",
        "    stage 0: 32x32, 16\n",
        "    stage 1: 16x16, 32\n",
        "    stage 2:  8x8,  64\n",
        "    The Number of parameters is approx the same as Table 6 of [a]:\n",
        "    ResNet20 0.27M\n",
        "    ResNet32 0.46M\n",
        "    ResNet44 0.66M\n",
        "    ResNet56 0.85M\n",
        "    ResNet110 1.7M\n",
        "\n",
        "    # Arguments\n",
        "        input_shape (tensor): shape of input image tensor\n",
        "        depth (int): number of core convolutional layers\n",
        "        num_classes (int): number of classes (CIFAR10 has 10)\n",
        "\n",
        "    # Returns\n",
        "        model (Model): Keras model instance\n",
        "    \"\"\"\n",
        "    if (depth - 2) % 6 != 0:\n",
        "        raise ValueError('depth should be 6n+2 (eg 20, 32, 44 in [a])')\n",
        "    # Start model definition.\n",
        "    num_filters = 16\n",
        "    num_res_blocks = int((depth - 2) / 6)\n",
        "\n",
        "    inputs = Input(shape=input_shape)\n",
        "    x = resnet_layer(inputs=inputs)\n",
        "    # Instantiate the stack of residual units\n",
        "    for stack in range(3):\n",
        "        for res_block in range(num_res_blocks):\n",
        "            strides = 1\n",
        "            # first layer but not first stack\n",
        "            if stack > 0 and res_block == 0:  \n",
        "                strides = 2  # downsample\n",
        "            y = resnet_layer(inputs=x,\n",
        "                             num_filters=num_filters,\n",
        "                             strides=strides)\n",
        "            y = resnet_layer(inputs=y,\n",
        "                             num_filters=num_filters,\n",
        "                             activation=None)\n",
        "            # first layer but not first stack\n",
        "            if stack > 0 and res_block == 0:  \n",
        "                # linear projection residual shortcut connection to match\n",
        "                # changed dims\n",
        "                x = resnet_layer(inputs=x,\n",
        "                                 num_filters=num_filters,\n",
        "                                 kernel_size=1,\n",
        "                                 strides=strides,\n",
        "                                 activation=None,\n",
        "                                 batch_normalization=False)\n",
        "            x = tensorflow.keras.layers.add([x, y])\n",
        "            x = Activation('relu')(x)\n",
        "        num_filters *= 2\n",
        "\n",
        "    # Add classifier on top.\n",
        "    # v1 does not use BN after last shortcut connection-ReLU\n",
        "    x = AveragePooling2D(pool_size=8)(x)\n",
        "    y = Flatten()(x)\n",
        "    outputs = Dense(num_classes,\n",
        "                    activation='softmax',\n",
        "                    kernel_initializer='he_normal')(y)\n",
        "\n",
        "    # Instantiate model.\n",
        "    model = Model(inputs=inputs, outputs=outputs)\n",
        "    return model\n",
        "input_shape = x_train.shape[1:]\n",
        "\n",
        "# Normalize data.\n",
        "x_train = x_train.astype('float32') / 255\n",
        "x_test = x_test.astype('float32') / 255\n",
        "\n",
        "# If subtract pixel mean is enabled\n",
        "if SUBTRACT_PIXEL_MEAN:\n",
        "    x_train_mean = np.mean(x_train, axis=0)\n",
        "    x_train -= x_train_mean\n",
        "    x_test -= x_train_mean\n",
        "\n",
        "print('x_train shape:', x_train.shape)\n",
        "print(x_train.shape[0], 'train samples')\n",
        "print(x_test.shape[0], 'test samples')\n",
        "print('y_train shape:', y_train.shape)\n",
        "\n",
        "# Convert class vectors to binary class matrices.\n",
        "y_train = tensorflow.keras.utils.to_categorical(y_train, NUM_CLASSES)\n",
        "y_test = tensorflow.keras.utils.to_categorical(y_test, NUM_CLASSES)\n",
        "\n",
        "import tensorflow as tf\n",
        "import keras\n",
        "class LossHistory(keras.callbacks.Callback):\n",
        "    def on_train_begin(self, logs={}):\n",
        "        self.history = {'loss':[],'accuracy':[]}\n",
        "\n",
        "    def on_batch_end(self, batch, logs={}):\n",
        "        self.history['loss'].append(logs.get('loss'))\n",
        "        self.history['accuracy'].append(logs.get('accuracy'))\n",
        "\n",
        "    def on_epoch_end(self, epoch, logs={}):\n",
        "        self.history['loss'].append(logs.get('loss'))\n",
        "        self.history['accuracy'].append(logs.get('accuracy'))\n",
        "model = resnet_v1(depth = 44, num_classes=10, input_shape=(32, 32, 3))\n",
        "tf.keras.optimizers.SGD(lr=0.01, momentum=0.0, nesterov=False, name=\"SGD\")\n",
        "model.compile(optimizer='SGD',loss='categorical_crossentropy',metrics=['accuracy'])\n",
        "lossbatch = LossHistory()\n",
        "history1 = model.fit(x_train, y_train, batch_size=128, epochs=350, callbacks=[lossbatch],verbose=0)\n",
        "history1\n",
        "from google.colab import files\n",
        "uploaded = files.upload()\n",
        "import pandas as pd\n",
        "import io\n",
        "df = pd.read_csv(io.StringIO(uploaded['resnet18.txt'].decode('utf-8')), sep=\"\\t\")\n",
        "import numpy as np\n",
        "def objective(k, beta0, beta1, beta2):\n",
        "\treturn 1/(beta0*k+beta1)+beta2\n",
        "\n",
        "loss_data = df['loss'] \n",
        "acc_data = df['accuracy']\n",
        "idx = np.array(list(range(1, len(loss_data)+1)))\n",
        "import matplotlib.pyplot as plt\n",
        "\n",
        "plt.plot(idx, loss_data)\n",
        "plt.plot(idx, acc_data)\n",
        "import numpy as np\n",
        "import matplotlib.pyplot as plt\n",
        "from sklearn.linear_model import LinearRegression\n",
        "from scipy.optimize import curve_fit\n",
        "\n",
        "popt, pcurv = curve_fit(objective, idx, loss_data)\n",
        "print(popt)"
      ],
      "execution_count": null,
      "outputs": []
    },
    {
      "cell_type": "markdown",
      "metadata": {
        "id": "5dbc_vsC6q_0"
      },
      "source": [
        "K80-resnet56"
      ]
    },
    {
      "cell_type": "code",
      "metadata": {
        "id": "adeVl5tE7EMS"
      },
      "source": [
        "from __future__ import print_function\n",
        "import tensorflow.keras\n",
        "from tensorflow.keras.layers import Dense, Conv2D\n",
        "from tensorflow.keras.layers import BatchNormalization, Activation\n",
        "from tensorflow.keras.layers import AveragePooling2D, Input, Flatten\n",
        "from tensorflow.keras.optimizers import Adam\n",
        "from tensorflow.keras.callbacks import ModelCheckpoint\n",
        "from tensorflow.keras.callbacks import LearningRateScheduler\n",
        "from tensorflow.keras.callbacks import ReduceLROnPlateau\n",
        "from tensorflow.keras.preprocessing.image import ImageDataGenerator\n",
        "from tensorflow.keras.regularizers import l2\n",
        "from tensorflow.keras import backend as K\n",
        "from tensorflow.keras.models import Model\n",
        "from tensorflow.keras.datasets import cifar10\n",
        "import numpy as np\n",
        "import os\n",
        "\n",
        "# Load the CIFAR10 data.\n",
        "(x_train, y_train), (x_test, y_test) = cifar10.load_data()\n",
        "# Training parameters\n",
        "BATCH_SIZE = 128  # orig paper trained all networks with batch_size=128\n",
        "EPOCHS = 350 # 200\n",
        "USE_AUGMENTATION = True\n",
        "NUM_CLASSES = np.unique(y_train).shape[0] # 10\n",
        "COLORS = x_train.shape[3]\n",
        "\n",
        "# Subtracting pixel mean improves accuracy\n",
        "SUBTRACT_PIXEL_MEAN = True\n",
        "\n",
        "# Model version\n",
        "# Orig paper: version = 1 (ResNet v1), \n",
        "# Improved ResNet: version = 2 \n",
        "# (ResNet v2)\n",
        "VERSION = 1\n",
        "\n",
        "# Computed depth from supplied model parameter n\n",
        "if VERSION == 1:\n",
        "    DEPTH = COLORS * 6 + 2\n",
        "elif version == 2:\n",
        "    DEPTH = COLORS * 9 + 2\n",
        "def resnet_layer(inputs,\n",
        "                 num_filters=16,\n",
        "                 kernel_size=3,\n",
        "                 strides=1,\n",
        "                 activation='relu',\n",
        "                 batch_normalization=True,\n",
        "                 conv_first=True):\n",
        "    \"\"\"2D Convolution-Batch Normalization-Activation stack builder\n",
        "\n",
        "    # Arguments\n",
        "        inputs (tensor): input tensor from input image or previous layer\n",
        "        num_filters (int): Conv2D number of filters\n",
        "        kernel_size (int): Conv2D square kernel dimensions\n",
        "        strides (int): Conv2D square stride dimensions\n",
        "        activation (string): activation name\n",
        "        batch_normalization (bool): whether to include batch normalization\n",
        "        conv_first (bool): conv-bn-activation (True) or\n",
        "            bn-activation-conv (False)\n",
        "\n",
        "    # Returns\n",
        "        x (tensor): tensor as input to the next layer\n",
        "    \"\"\"\n",
        "    conv = Conv2D(num_filters,\n",
        "                  kernel_size=kernel_size,\n",
        "                  strides=strides,\n",
        "                  padding='same',\n",
        "                  kernel_initializer='he_normal',\n",
        "                  kernel_regularizer=l2(1e-4))\n",
        "\n",
        "    x = inputs\n",
        "    if conv_first:\n",
        "        x = conv(x)\n",
        "        if batch_normalization:\n",
        "            x = BatchNormalization()(x)\n",
        "        if activation is not None:\n",
        "            x = Activation(activation)(x)\n",
        "    else:\n",
        "        if batch_normalization:\n",
        "            x = BatchNormalization()(x)\n",
        "        if activation is not None:\n",
        "            x = Activation(activation)(x)\n",
        "        x = conv(x)\n",
        "    return x\n",
        "def resnet_v1(input_shape, depth, num_classes=10):\n",
        "    \"\"\"ResNet Version 1 Model builder [a]\n",
        "\n",
        "    Stacks of 2 x (3 x 3) Conv2D-BN-ReLU\n",
        "    Last ReLU is after the shortcut connection.\n",
        "    At the beginning of each stage, the feature \n",
        "    map size is halved (downsampled)\n",
        "    by a convolutional layer with strides=2, while the number of \n",
        "    filters is\n",
        "    doubled. Within each stage, the layers have the same number \n",
        "    filters and the same number of filters.\n",
        "    Features maps sizes:\n",
        "    stage 0: 32x32, 16\n",
        "    stage 1: 16x16, 32\n",
        "    stage 2:  8x8,  64\n",
        "    The Number of parameters is approx the same as Table 6 of [a]:\n",
        "    ResNet20 0.27M\n",
        "    ResNet32 0.46M\n",
        "    ResNet44 0.66M\n",
        "    ResNet56 0.85M\n",
        "    ResNet110 1.7M\n",
        "\n",
        "    # Arguments\n",
        "        input_shape (tensor): shape of input image tensor\n",
        "        depth (int): number of core convolutional layers\n",
        "        num_classes (int): number of classes (CIFAR10 has 10)\n",
        "\n",
        "    # Returns\n",
        "        model (Model): Keras model instance\n",
        "    \"\"\"\n",
        "    if (depth - 2) % 6 != 0:\n",
        "        raise ValueError('depth should be 6n+2 (eg 20, 32, 44 in [a])')\n",
        "    # Start model definition.\n",
        "    num_filters = 16\n",
        "    num_res_blocks = int((depth - 2) / 6)\n",
        "\n",
        "    inputs = Input(shape=input_shape)\n",
        "    x = resnet_layer(inputs=inputs)\n",
        "    # Instantiate the stack of residual units\n",
        "    for stack in range(3):\n",
        "        for res_block in range(num_res_blocks):\n",
        "            strides = 1\n",
        "            # first layer but not first stack\n",
        "            if stack > 0 and res_block == 0:  \n",
        "                strides = 2  # downsample\n",
        "            y = resnet_layer(inputs=x,\n",
        "                             num_filters=num_filters,\n",
        "                             strides=strides)\n",
        "            y = resnet_layer(inputs=y,\n",
        "                             num_filters=num_filters,\n",
        "                             activation=None)\n",
        "            # first layer but not first stack\n",
        "            if stack > 0 and res_block == 0:  \n",
        "                # linear projection residual shortcut connection to match\n",
        "                # changed dims\n",
        "                x = resnet_layer(inputs=x,\n",
        "                                 num_filters=num_filters,\n",
        "                                 kernel_size=1,\n",
        "                                 strides=strides,\n",
        "                                 activation=None,\n",
        "                                 batch_normalization=False)\n",
        "            x = tensorflow.keras.layers.add([x, y])\n",
        "            x = Activation('relu')(x)\n",
        "        num_filters *= 2\n",
        "\n",
        "    # Add classifier on top.\n",
        "    # v1 does not use BN after last shortcut connection-ReLU\n",
        "    x = AveragePooling2D(pool_size=8)(x)\n",
        "    y = Flatten()(x)\n",
        "    outputs = Dense(num_classes,\n",
        "                    activation='softmax',\n",
        "                    kernel_initializer='he_normal')(y)\n",
        "\n",
        "    # Instantiate model.\n",
        "    model = Model(inputs=inputs, outputs=outputs)\n",
        "    return model\n",
        "input_shape = x_train.shape[1:]\n",
        "\n",
        "# Normalize data.\n",
        "x_train = x_train.astype('float32') / 255\n",
        "x_test = x_test.astype('float32') / 255\n",
        "\n",
        "# If subtract pixel mean is enabled\n",
        "if SUBTRACT_PIXEL_MEAN:\n",
        "    x_train_mean = np.mean(x_train, axis=0)\n",
        "    x_train -= x_train_mean\n",
        "    x_test -= x_train_mean\n",
        "\n",
        "print('x_train shape:', x_train.shape)\n",
        "print(x_train.shape[0], 'train samples')\n",
        "print(x_test.shape[0], 'test samples')\n",
        "print('y_train shape:', y_train.shape)\n",
        "\n",
        "# Convert class vectors to binary class matrices.\n",
        "y_train = tensorflow.keras.utils.to_categorical(y_train, NUM_CLASSES)\n",
        "y_test = tensorflow.keras.utils.to_categorical(y_test, NUM_CLASSES)\n",
        "\n",
        "import tensorflow as tf\n",
        "import keras\n",
        "class LossHistory(keras.callbacks.Callback):\n",
        "    def on_train_begin(self, logs={}):\n",
        "        self.history = {'loss':[],'accuracy':[]}\n",
        "\n",
        "    def on_batch_end(self, batch, logs={}):\n",
        "        self.history['loss'].append(logs.get('loss'))\n",
        "        self.history['accuracy'].append(logs.get('accuracy'))\n",
        "\n",
        "    def on_epoch_end(self, epoch, logs={}):\n",
        "        self.history['loss'].append(logs.get('loss'))\n",
        "        self.history['accuracy'].append(logs.get('accuracy'))\n",
        "model = resnet_v1(depth = 56, num_classes=10, input_shape=(32, 32, 3))\n",
        "tf.keras.optimizers.SGD(lr=0.01, momentum=0.0, nesterov=False, name=\"SGD\")\n",
        "model.compile(optimizer='SGD',loss='categorical_crossentropy',metrics=['accuracy'])\n",
        "lossbatch = LossHistory()\n",
        "history1 = model.fit(x_train, y_train, batch_size=128, epochs=350, callbacks=[lossbatch],verbose=0)\n",
        "history1\n",
        "from google.colab import files\n",
        "uploaded = files.upload()\n",
        "import pandas as pd\n",
        "import io\n",
        "df = pd.read_csv(io.StringIO(uploaded['resnet18.txt'].decode('utf-8')), sep=\"\\t\")\n",
        "import numpy as np\n",
        "def objective(k, beta0, beta1, beta2):\n",
        "\treturn 1/(beta0*k+beta1)+beta2\n",
        "\n",
        "loss_data = df['loss'] \n",
        "acc_data = df['accuracy']\n",
        "idx = np.array(list(range(1, len(loss_data)+1)))\n",
        "import matplotlib.pyplot as plt\n",
        "\n",
        "plt.plot(idx, loss_data)\n",
        "plt.plot(idx, acc_data)\n",
        "import numpy as np\n",
        "import matplotlib.pyplot as plt\n",
        "from sklearn.linear_model import LinearRegression\n",
        "from scipy.optimize import curve_fit\n",
        "\n",
        "popt, pcurv = curve_fit(objective, idx, loss_data)\n",
        "print(popt)"
      ],
      "execution_count": null,
      "outputs": []
    },
    {
      "cell_type": "markdown",
      "metadata": {
        "id": "uVQrGuAlq7U-"
      },
      "source": [
        "4-2"
      ]
    },
    {
      "cell_type": "code",
      "metadata": {
        "id": "MO6nhnse7sPN"
      },
      "source": [
        "## after collecting 4-1 data \n",
        "depth = [18,20,32,44,56]\n",
        "k80 =[]\n",
        "p100=[]\n",
        "v100=[]\n",
        "from sklearn import linear_model\n",
        "for dat in k80:\n",
        "  model = linear_model.LinearRegression()\n",
        "  model.fit(depth,dat)\n",
        "  print(model.coef_)\n",
        "\n",
        "  plt.scatter(depth,dat)\n",
        "  input=np.arange(1,60)\n",
        "  plt.plot(input,model.coef_*input)"
      ],
      "execution_count": null,
      "outputs": []
    },
    {
      "cell_type": "code",
      "metadata": {
        "id": "fcgtIVe-810e"
      },
      "source": [
        "for dat in p100:\n",
        "  model = linear_model.LinearRegression()\n",
        "  model.fit(depth,dat)\n",
        "  print(model.coef_)\n",
        "  plt.scatter(depth,dat)\n",
        "  input=np.arange(1,60)\n",
        "  plt.plot(input,model.coef_*input)"
      ],
      "execution_count": null,
      "outputs": []
    },
    {
      "cell_type": "code",
      "metadata": {
        "id": "CQu9nPTH85F1"
      },
      "source": [
        "for dat in v100:\n",
        "  model = linear_model.LinearRegression()\n",
        "  model.fit(depth,dat)\n",
        "  print(model.coef_)\n",
        "  plt.scatter(depth,dat)\n",
        "  input=np.arange(1,60)\n",
        "  plt.plot(input,model.coef_*input)"
      ],
      "execution_count": null,
      "outputs": []
    },
    {
      "cell_type": "code",
      "metadata": {
        "id": "nlQ9jpE7m9js"
      },
      "source": [
        "model = resnet_v1(depth = 50)\n",
        "tf.keras.optimizers.SGD(lr=0.01, momentum=0.0, nesterov=False, name=\"SGD\")\n",
        "model.compile(optimizer='SGD',loss='categorical_crossentropy',metrics=['accuracy'])\n",
        "lossbatch = LossHistory()\n",
        "history1 = model.fit(x_train, y_train, batch_size=128, epochs=350, callbacks=[lossbatch],verbose=0)\n",
        "history1"
      ],
      "execution_count": null,
      "outputs": []
    },
    {
      "cell_type": "code",
      "metadata": {
        "id": "ndGx4DDCMwXk"
      },
      "source": [
        "def fit(self):\n",
        "    print (\"Fitting a model with \", len(self.training_data), \" points\")\n",
        "    labels = np.array([row[2] for row in self.training_data])\n",
        "    data_points = np.array([self._get_features(row) for row in self.training_data])\n",
        "    self.model = nnls(data_points, labels)\n",
        "\n",
        "    training_accuracy = []\n",
        "    for p in self.training_data:\n",
        "      predicted = self.predict(p[0], p[1])\n",
        "      training_accuracy.append(predicted / p[2])\n",
        "\n",
        "    print (\"Average training accuracy %f%%\" % ((np.mean(trainingg_errors) - 1.0)*100.0 ))\n",
        "    return self.model[0] "
      ],
      "execution_count": null,
      "outputs": []
    },
    {
      "cell_type": "markdown",
      "metadata": {
        "id": "5eWb-0guAw1Y"
      },
      "source": [
        "4-3"
      ]
    },
    {
      "cell_type": "code",
      "metadata": {
        "id": "lu4IMRHRAt_Y"
      },
      "source": [
        "worker = []\n",
        "def peng_equation(ps, worker,batch_size):\n",
        "  res = 1/(1.02*batch_size/worker+2.78+4.92*worker/ps+0*worker+0.02*ps)\n",
        "  return res"
      ],
      "execution_count": null,
      "outputs": []
    },
    {
      "cell_type": "code",
      "metadata": {
        "id": "2_zixDL3DPHL"
      },
      "source": [
        "#parameter server for 2\n",
        "val = []\n",
        "for i in worker:\n",
        "  value = peng_equation(2, i, batch_size)\n",
        "  val.append()\n",
        "plt.plot(worker,val)"
      ],
      "execution_count": null,
      "outputs": []
    },
    {
      "cell_type": "code",
      "metadata": {
        "id": "z013Qv8NDn8H"
      },
      "source": [
        "#parameter server for 4\n",
        "val = []\n",
        "for i in worker:\n",
        "  value = peng_equation(4, i, batch_size)\n",
        "  val.append()\n",
        "\n",
        "plt.plot(worker,val)"
      ],
      "execution_count": null,
      "outputs": []
    }
  ]
}